{
  "cells": [
    {
      "cell_type": "code",
      "execution_count": null,
      "metadata": {
        "colab": {
          "base_uri": "https://localhost:8080/",
          "height": 36
        },
        "collapsed": true,
        "id": "8wv1sEaVn4GZ",
        "outputId": "d07a65e7-8442-435e-9a8f-7b0810485dd6"
      },
      "outputs": [
        {
          "data": {
            "application/vnd.google.colaboratory.intrinsic+json": {
              "type": "string"
            },
            "text/plain": [
              "''"
            ]
          },
          "execution_count": 2,
          "metadata": {},
          "output_type": "execute_result"
        }
      ],
      "source": []
    },
    {
      "cell_type": "markdown",
      "metadata": {
        "id": "aoVy7L5L1RSz"
      },
      "source": [
        "Installing Pyspark"
      ]
    },
    {
      "cell_type": "code",
      "execution_count": null,
      "metadata": {
        "colab": {
          "base_uri": "https://localhost:8080/"
        },
        "id": "nK_mS3t-oqxn",
        "outputId": "1cd9bc8c-bb59-46d2-cff4-ece6270b3633"
      },
      "outputs": [
        {
          "name": "stdout",
          "output_type": "stream",
          "text": [
            "Requirement already satisfied: pyspark in /usr/local/lib/python3.10/dist-packages (3.5.1)\n",
            "Requirement already satisfied: py4j==0.10.9.7 in /usr/local/lib/python3.10/dist-packages (from pyspark) (0.10.9.7)\n"
          ]
        }
      ],
      "source": [
        "pip install pyspark"
      ]
    },
    {
      "cell_type": "markdown",
      "metadata": {
        "id": "kxnCLuiWM3O_"
      },
      "source": []
    },
    {
      "cell_type": "markdown",
      "metadata": {
        "id": "O7_qPzCVM3Sa"
      },
      "source": []
    },
    {
      "cell_type": "markdown",
      "metadata": {
        "id": "SG2s8LHmM3Uv"
      },
      "source": []
    },
    {
      "cell_type": "markdown",
      "metadata": {
        "id": "zA6bTmvBM3XH"
      },
      "source": []
    },
    {
      "cell_type": "markdown",
      "metadata": {
        "id": "79w-HCxlM3Z4"
      },
      "source": []
    },
    {
      "cell_type": "code",
      "execution_count": null,
      "metadata": {
        "id": "iWlXHrbLozT9"
      },
      "outputs": [],
      "source": [
        "from pyspark import SparkContext\n",
        "sc = SparkContext(\"local\", \"example_app\")"
      ]
    },
    {
      "cell_type": "markdown",
      "metadata": {
        "id": "xeYyaYGZ1WSg"
      },
      "source": [
        "Creating a list"
      ]
    },
    {
      "cell_type": "code",
      "execution_count": null,
      "metadata": {
        "colab": {
          "base_uri": "https://localhost:8080/"
        },
        "id": "q-J4jkStoFzD",
        "outputId": "6cfca8c6-1368-407c-c964-9ac0eb4a98be"
      },
      "outputs": [
        {
          "data": {
            "text/plain": [
              "100001"
            ]
          },
          "execution_count": 5,
          "metadata": {},
          "output_type": "execute_result"
        }
      ],
      "source": [
        "nums= list(range(0,100001))\n",
        "len(nums)"
      ]
    },
    {
      "cell_type": "code",
      "execution_count": null,
      "metadata": {
        "colab": {
          "base_uri": "https://localhost:8080/"
        },
        "id": "2XwCT3X3ocmb",
        "outputId": "cb7cafd0-8c6a-47a7-fb0a-618dee5888d5"
      },
      "outputs": [
        {
          "data": {
            "text/plain": [
              "ParallelCollectionRDD[0] at readRDDFromFile at PythonRDD.scala:289"
            ]
          },
          "execution_count": 11,
          "metadata": {},
          "output_type": "execute_result"
        }
      ],
      "source": [
        "nums_rdd = sc.parallelize(nums)\n",
        "nums_rdd"
      ]
    },
    {
      "cell_type": "code",
      "execution_count": null,
      "metadata": {
        "colab": {
          "base_uri": "https://localhost:8080/"
        },
        "id": "IjyEB7maoppO",
        "outputId": "fbe3ea2a-ad62-4585-c904-57ff3a194d81"
      },
      "outputs": [
        {
          "data": {
            "text/plain": [
              "[0,\n",
              " 1,\n",
              " 2,\n",
              " 3,\n",
              " 4,\n",
              " 5,\n",
              " 6,\n",
              " 7,\n",
              " 8,\n",
              " 9,\n",
              " 10,\n",
              " 11,\n",
              " 12,\n",
              " 13,\n",
              " 14,\n",
              " 15,\n",
              " 16,\n",
              " 17,\n",
              " 18,\n",
              " 19,\n",
              " 20,\n",
              " 21,\n",
              " 22,\n",
              " 23,\n",
              " 24,\n",
              " 25,\n",
              " 26,\n",
              " 27,\n",
              " 28,\n",
              " 29,\n",
              " 30,\n",
              " 31,\n",
              " 32,\n",
              " 33,\n",
              " 34,\n",
              " 35,\n",
              " 36,\n",
              " 37,\n",
              " 38,\n",
              " 39,\n",
              " 40,\n",
              " 41,\n",
              " 42,\n",
              " 43,\n",
              " 44,\n",
              " 45,\n",
              " 46,\n",
              " 47,\n",
              " 48,\n",
              " 49,\n",
              " 50,\n",
              " 51,\n",
              " 52,\n",
              " 53,\n",
              " 54,\n",
              " 55,\n",
              " 56,\n",
              " 57,\n",
              " 58,\n",
              " 59,\n",
              " 60,\n",
              " 61,\n",
              " 62,\n",
              " 63,\n",
              " 64,\n",
              " 65,\n",
              " 66,\n",
              " 67,\n",
              " 68,\n",
              " 69,\n",
              " 70,\n",
              " 71,\n",
              " 72,\n",
              " 73,\n",
              " 74,\n",
              " 75,\n",
              " 76,\n",
              " 77,\n",
              " 78,\n",
              " 79,\n",
              " 80,\n",
              " 81,\n",
              " 82,\n",
              " 83,\n",
              " 84,\n",
              " 85,\n",
              " 86,\n",
              " 87,\n",
              " 88,\n",
              " 89,\n",
              " 90,\n",
              " 91,\n",
              " 92,\n",
              " 93,\n",
              " 94,\n",
              " 95,\n",
              " 96,\n",
              " 97,\n",
              " 98,\n",
              " 99,\n",
              " 100,\n",
              " 101,\n",
              " 102,\n",
              " 103,\n",
              " 104,\n",
              " 105,\n",
              " 106,\n",
              " 107,\n",
              " 108,\n",
              " 109,\n",
              " 110,\n",
              " 111,\n",
              " 112,\n",
              " 113,\n",
              " 114,\n",
              " 115,\n",
              " 116,\n",
              " 117,\n",
              " 118,\n",
              " 119,\n",
              " 120,\n",
              " 121,\n",
              " 122,\n",
              " 123,\n",
              " 124,\n",
              " 125,\n",
              " 126,\n",
              " 127,\n",
              " 128,\n",
              " 129,\n",
              " 130,\n",
              " 131,\n",
              " 132,\n",
              " 133,\n",
              " 134,\n",
              " 135,\n",
              " 136,\n",
              " 137,\n",
              " 138,\n",
              " 139,\n",
              " 140,\n",
              " 141,\n",
              " 142,\n",
              " 143,\n",
              " 144,\n",
              " 145,\n",
              " 146,\n",
              " 147,\n",
              " 148,\n",
              " 149,\n",
              " 150,\n",
              " 151,\n",
              " 152,\n",
              " 153,\n",
              " 154,\n",
              " 155,\n",
              " 156,\n",
              " 157,\n",
              " 158,\n",
              " 159,\n",
              " 160,\n",
              " 161,\n",
              " 162,\n",
              " 163,\n",
              " 164,\n",
              " 165,\n",
              " 166,\n",
              " 167,\n",
              " 168,\n",
              " 169,\n",
              " 170,\n",
              " 171,\n",
              " 172,\n",
              " 173,\n",
              " 174,\n",
              " 175,\n",
              " 176,\n",
              " 177,\n",
              " 178,\n",
              " 179,\n",
              " 180,\n",
              " 181,\n",
              " 182,\n",
              " 183,\n",
              " 184,\n",
              " 185,\n",
              " 186,\n",
              " 187,\n",
              " 188,\n",
              " 189,\n",
              " 190,\n",
              " 191,\n",
              " 192,\n",
              " 193,\n",
              " 194,\n",
              " 195,\n",
              " 196,\n",
              " 197,\n",
              " 198,\n",
              " 199,\n",
              " 200,\n",
              " 201,\n",
              " 202,\n",
              " 203,\n",
              " 204,\n",
              " 205,\n",
              " 206,\n",
              " 207,\n",
              " 208,\n",
              " 209,\n",
              " 210,\n",
              " 211,\n",
              " 212,\n",
              " 213,\n",
              " 214,\n",
              " 215,\n",
              " 216,\n",
              " 217,\n",
              " 218,\n",
              " 219,\n",
              " 220,\n",
              " 221,\n",
              " 222,\n",
              " 223,\n",
              " 224,\n",
              " 225,\n",
              " 226,\n",
              " 227,\n",
              " 228,\n",
              " 229,\n",
              " 230,\n",
              " 231,\n",
              " 232,\n",
              " 233,\n",
              " 234,\n",
              " 235,\n",
              " 236,\n",
              " 237,\n",
              " 238,\n",
              " 239,\n",
              " 240,\n",
              " 241,\n",
              " 242,\n",
              " 243,\n",
              " 244,\n",
              " 245,\n",
              " 246,\n",
              " 247,\n",
              " 248,\n",
              " 249,\n",
              " 250,\n",
              " 251,\n",
              " 252,\n",
              " 253,\n",
              " 254,\n",
              " 255,\n",
              " 256,\n",
              " 257,\n",
              " 258,\n",
              " 259,\n",
              " 260,\n",
              " 261,\n",
              " 262,\n",
              " 263,\n",
              " 264,\n",
              " 265,\n",
              " 266,\n",
              " 267,\n",
              " 268,\n",
              " 269,\n",
              " 270,\n",
              " 271,\n",
              " 272,\n",
              " 273,\n",
              " 274,\n",
              " 275,\n",
              " 276,\n",
              " 277,\n",
              " 278,\n",
              " 279,\n",
              " 280,\n",
              " 281,\n",
              " 282,\n",
              " 283,\n",
              " 284,\n",
              " 285,\n",
              " 286,\n",
              " 287,\n",
              " 288,\n",
              " 289,\n",
              " 290,\n",
              " 291,\n",
              " 292,\n",
              " 293,\n",
              " 294,\n",
              " 295,\n",
              " 296,\n",
              " 297,\n",
              " 298,\n",
              " 299,\n",
              " 300,\n",
              " 301,\n",
              " 302,\n",
              " 303,\n",
              " 304,\n",
              " 305,\n",
              " 306,\n",
              " 307,\n",
              " 308,\n",
              " 309,\n",
              " 310,\n",
              " 311,\n",
              " 312,\n",
              " 313,\n",
              " 314,\n",
              " 315,\n",
              " 316,\n",
              " 317,\n",
              " 318,\n",
              " 319,\n",
              " 320,\n",
              " 321,\n",
              " 322,\n",
              " 323,\n",
              " 324,\n",
              " 325,\n",
              " 326,\n",
              " 327,\n",
              " 328,\n",
              " 329,\n",
              " 330,\n",
              " 331,\n",
              " 332,\n",
              " 333,\n",
              " 334,\n",
              " 335,\n",
              " 336,\n",
              " 337,\n",
              " 338,\n",
              " 339,\n",
              " 340,\n",
              " 341,\n",
              " 342,\n",
              " 343,\n",
              " 344,\n",
              " 345,\n",
              " 346,\n",
              " 347,\n",
              " 348,\n",
              " 349,\n",
              " 350,\n",
              " 351,\n",
              " 352,\n",
              " 353,\n",
              " 354,\n",
              " 355,\n",
              " 356,\n",
              " 357,\n",
              " 358,\n",
              " 359,\n",
              " 360,\n",
              " 361,\n",
              " 362,\n",
              " 363,\n",
              " 364,\n",
              " 365,\n",
              " 366,\n",
              " 367,\n",
              " 368,\n",
              " 369,\n",
              " 370,\n",
              " 371,\n",
              " 372,\n",
              " 373,\n",
              " 374,\n",
              " 375,\n",
              " 376,\n",
              " 377,\n",
              " 378,\n",
              " 379,\n",
              " 380,\n",
              " 381,\n",
              " 382,\n",
              " 383,\n",
              " 384,\n",
              " 385,\n",
              " 386,\n",
              " 387,\n",
              " 388,\n",
              " 389,\n",
              " 390,\n",
              " 391,\n",
              " 392,\n",
              " 393,\n",
              " 394,\n",
              " 395,\n",
              " 396,\n",
              " 397,\n",
              " 398,\n",
              " 399,\n",
              " 400,\n",
              " 401,\n",
              " 402,\n",
              " 403,\n",
              " 404,\n",
              " 405,\n",
              " 406,\n",
              " 407,\n",
              " 408,\n",
              " 409,\n",
              " 410,\n",
              " 411,\n",
              " 412,\n",
              " 413,\n",
              " 414,\n",
              " 415,\n",
              " 416,\n",
              " 417,\n",
              " 418,\n",
              " 419,\n",
              " 420,\n",
              " 421,\n",
              " 422,\n",
              " 423,\n",
              " 424,\n",
              " 425,\n",
              " 426,\n",
              " 427,\n",
              " 428,\n",
              " 429,\n",
              " 430,\n",
              " 431,\n",
              " 432,\n",
              " 433,\n",
              " 434,\n",
              " 435,\n",
              " 436,\n",
              " 437,\n",
              " 438,\n",
              " 439,\n",
              " 440,\n",
              " 441,\n",
              " 442,\n",
              " 443,\n",
              " 444,\n",
              " 445,\n",
              " 446,\n",
              " 447,\n",
              " 448,\n",
              " 449,\n",
              " 450,\n",
              " 451,\n",
              " 452,\n",
              " 453,\n",
              " 454,\n",
              " 455,\n",
              " 456,\n",
              " 457,\n",
              " 458,\n",
              " 459,\n",
              " 460,\n",
              " 461,\n",
              " 462,\n",
              " 463,\n",
              " 464,\n",
              " 465,\n",
              " 466,\n",
              " 467,\n",
              " 468,\n",
              " 469,\n",
              " 470,\n",
              " 471,\n",
              " 472,\n",
              " 473,\n",
              " 474,\n",
              " 475,\n",
              " 476,\n",
              " 477,\n",
              " 478,\n",
              " 479,\n",
              " 480,\n",
              " 481,\n",
              " 482,\n",
              " 483,\n",
              " 484,\n",
              " 485,\n",
              " 486,\n",
              " 487,\n",
              " 488,\n",
              " 489,\n",
              " 490,\n",
              " 491,\n",
              " 492,\n",
              " 493,\n",
              " 494,\n",
              " 495,\n",
              " 496,\n",
              " 497,\n",
              " 498,\n",
              " 499,\n",
              " 500,\n",
              " 501,\n",
              " 502,\n",
              " 503,\n",
              " 504,\n",
              " 505,\n",
              " 506,\n",
              " 507,\n",
              " 508,\n",
              " 509,\n",
              " 510,\n",
              " 511,\n",
              " 512,\n",
              " 513,\n",
              " 514,\n",
              " 515,\n",
              " 516,\n",
              " 517,\n",
              " 518,\n",
              " 519,\n",
              " 520,\n",
              " 521,\n",
              " 522,\n",
              " 523,\n",
              " 524,\n",
              " 525,\n",
              " 526,\n",
              " 527,\n",
              " 528,\n",
              " 529,\n",
              " 530,\n",
              " 531,\n",
              " 532,\n",
              " 533,\n",
              " 534,\n",
              " 535,\n",
              " 536,\n",
              " 537,\n",
              " 538,\n",
              " 539,\n",
              " 540,\n",
              " 541,\n",
              " 542,\n",
              " 543,\n",
              " 544,\n",
              " 545,\n",
              " 546,\n",
              " 547,\n",
              " 548,\n",
              " 549,\n",
              " 550,\n",
              " 551,\n",
              " 552,\n",
              " 553,\n",
              " 554,\n",
              " 555,\n",
              " 556,\n",
              " 557,\n",
              " 558,\n",
              " 559,\n",
              " 560,\n",
              " 561,\n",
              " 562,\n",
              " 563,\n",
              " 564,\n",
              " 565,\n",
              " 566,\n",
              " 567,\n",
              " 568,\n",
              " 569,\n",
              " 570,\n",
              " 571,\n",
              " 572,\n",
              " 573,\n",
              " 574,\n",
              " 575,\n",
              " 576,\n",
              " 577,\n",
              " 578,\n",
              " 579,\n",
              " 580,\n",
              " 581,\n",
              " 582,\n",
              " 583,\n",
              " 584,\n",
              " 585,\n",
              " 586,\n",
              " 587,\n",
              " 588,\n",
              " 589,\n",
              " 590,\n",
              " 591,\n",
              " 592,\n",
              " 593,\n",
              " 594,\n",
              " 595,\n",
              " 596,\n",
              " 597,\n",
              " 598,\n",
              " 599,\n",
              " 600,\n",
              " 601,\n",
              " 602,\n",
              " 603,\n",
              " 604,\n",
              " 605,\n",
              " 606,\n",
              " 607,\n",
              " 608,\n",
              " 609,\n",
              " 610,\n",
              " 611,\n",
              " 612,\n",
              " 613,\n",
              " 614,\n",
              " 615,\n",
              " 616,\n",
              " 617,\n",
              " 618,\n",
              " 619,\n",
              " 620,\n",
              " 621,\n",
              " 622,\n",
              " 623,\n",
              " 624,\n",
              " 625,\n",
              " 626,\n",
              " 627,\n",
              " 628,\n",
              " 629,\n",
              " 630,\n",
              " 631,\n",
              " 632,\n",
              " 633,\n",
              " 634,\n",
              " 635,\n",
              " 636,\n",
              " 637,\n",
              " 638,\n",
              " 639,\n",
              " 640,\n",
              " 641,\n",
              " 642,\n",
              " 643,\n",
              " 644,\n",
              " 645,\n",
              " 646,\n",
              " 647,\n",
              " 648,\n",
              " 649,\n",
              " 650,\n",
              " 651,\n",
              " 652,\n",
              " 653,\n",
              " 654,\n",
              " 655,\n",
              " 656,\n",
              " 657,\n",
              " 658,\n",
              " 659,\n",
              " 660,\n",
              " 661,\n",
              " 662,\n",
              " 663,\n",
              " 664,\n",
              " 665,\n",
              " 666,\n",
              " 667,\n",
              " 668,\n",
              " 669,\n",
              " 670,\n",
              " 671,\n",
              " 672,\n",
              " 673,\n",
              " 674,\n",
              " 675,\n",
              " 676,\n",
              " 677,\n",
              " 678,\n",
              " 679,\n",
              " 680,\n",
              " 681,\n",
              " 682,\n",
              " 683,\n",
              " 684,\n",
              " 685,\n",
              " 686,\n",
              " 687,\n",
              " 688,\n",
              " 689,\n",
              " 690,\n",
              " 691,\n",
              " 692,\n",
              " 693,\n",
              " 694,\n",
              " 695,\n",
              " 696,\n",
              " 697,\n",
              " 698,\n",
              " 699,\n",
              " 700,\n",
              " 701,\n",
              " 702,\n",
              " 703,\n",
              " 704,\n",
              " 705,\n",
              " 706,\n",
              " 707,\n",
              " 708,\n",
              " 709,\n",
              " 710,\n",
              " 711,\n",
              " 712,\n",
              " 713,\n",
              " 714,\n",
              " 715,\n",
              " 716,\n",
              " 717,\n",
              " 718,\n",
              " 719,\n",
              " 720,\n",
              " 721,\n",
              " 722,\n",
              " 723,\n",
              " 724,\n",
              " 725,\n",
              " 726,\n",
              " 727,\n",
              " 728,\n",
              " 729,\n",
              " 730,\n",
              " 731,\n",
              " 732,\n",
              " 733,\n",
              " 734,\n",
              " 735,\n",
              " 736,\n",
              " 737,\n",
              " 738,\n",
              " 739,\n",
              " 740,\n",
              " 741,\n",
              " 742,\n",
              " 743,\n",
              " 744,\n",
              " 745,\n",
              " 746,\n",
              " 747,\n",
              " 748,\n",
              " 749,\n",
              " 750,\n",
              " 751,\n",
              " 752,\n",
              " 753,\n",
              " 754,\n",
              " 755,\n",
              " 756,\n",
              " 757,\n",
              " 758,\n",
              " 759,\n",
              " 760,\n",
              " 761,\n",
              " 762,\n",
              " 763,\n",
              " 764,\n",
              " 765,\n",
              " 766,\n",
              " 767,\n",
              " 768,\n",
              " 769,\n",
              " 770,\n",
              " 771,\n",
              " 772,\n",
              " 773,\n",
              " 774,\n",
              " 775,\n",
              " 776,\n",
              " 777,\n",
              " 778,\n",
              " 779,\n",
              " 780,\n",
              " 781,\n",
              " 782,\n",
              " 783,\n",
              " 784,\n",
              " 785,\n",
              " 786,\n",
              " 787,\n",
              " 788,\n",
              " 789,\n",
              " 790,\n",
              " 791,\n",
              " 792,\n",
              " 793,\n",
              " 794,\n",
              " 795,\n",
              " 796,\n",
              " 797,\n",
              " 798,\n",
              " 799,\n",
              " 800,\n",
              " 801,\n",
              " 802,\n",
              " 803,\n",
              " 804,\n",
              " 805,\n",
              " 806,\n",
              " 807,\n",
              " 808,\n",
              " 809,\n",
              " 810,\n",
              " 811,\n",
              " 812,\n",
              " 813,\n",
              " 814,\n",
              " 815,\n",
              " 816,\n",
              " 817,\n",
              " 818,\n",
              " 819,\n",
              " 820,\n",
              " 821,\n",
              " 822,\n",
              " 823,\n",
              " 824,\n",
              " 825,\n",
              " 826,\n",
              " 827,\n",
              " 828,\n",
              " 829,\n",
              " 830,\n",
              " 831,\n",
              " 832,\n",
              " 833,\n",
              " 834,\n",
              " 835,\n",
              " 836,\n",
              " 837,\n",
              " 838,\n",
              " 839,\n",
              " 840,\n",
              " 841,\n",
              " 842,\n",
              " 843,\n",
              " 844,\n",
              " 845,\n",
              " 846,\n",
              " 847,\n",
              " 848,\n",
              " 849,\n",
              " 850,\n",
              " 851,\n",
              " 852,\n",
              " 853,\n",
              " 854,\n",
              " 855,\n",
              " 856,\n",
              " 857,\n",
              " 858,\n",
              " 859,\n",
              " 860,\n",
              " 861,\n",
              " 862,\n",
              " 863,\n",
              " 864,\n",
              " 865,\n",
              " 866,\n",
              " 867,\n",
              " 868,\n",
              " 869,\n",
              " 870,\n",
              " 871,\n",
              " 872,\n",
              " 873,\n",
              " 874,\n",
              " 875,\n",
              " 876,\n",
              " 877,\n",
              " 878,\n",
              " 879,\n",
              " 880,\n",
              " 881,\n",
              " 882,\n",
              " 883,\n",
              " 884,\n",
              " 885,\n",
              " 886,\n",
              " 887,\n",
              " 888,\n",
              " 889,\n",
              " 890,\n",
              " 891,\n",
              " 892,\n",
              " 893,\n",
              " 894,\n",
              " 895,\n",
              " 896,\n",
              " 897,\n",
              " 898,\n",
              " 899,\n",
              " 900,\n",
              " 901,\n",
              " 902,\n",
              " 903,\n",
              " 904,\n",
              " 905,\n",
              " 906,\n",
              " 907,\n",
              " 908,\n",
              " 909,\n",
              " 910,\n",
              " 911,\n",
              " 912,\n",
              " 913,\n",
              " 914,\n",
              " 915,\n",
              " 916,\n",
              " 917,\n",
              " 918,\n",
              " 919,\n",
              " 920,\n",
              " 921,\n",
              " 922,\n",
              " 923,\n",
              " 924,\n",
              " 925,\n",
              " 926,\n",
              " 927,\n",
              " 928,\n",
              " 929,\n",
              " 930,\n",
              " 931,\n",
              " 932,\n",
              " 933,\n",
              " 934,\n",
              " 935,\n",
              " 936,\n",
              " 937,\n",
              " 938,\n",
              " 939,\n",
              " 940,\n",
              " 941,\n",
              " 942,\n",
              " 943,\n",
              " 944,\n",
              " 945,\n",
              " 946,\n",
              " 947,\n",
              " 948,\n",
              " 949,\n",
              " 950,\n",
              " 951,\n",
              " 952,\n",
              " 953,\n",
              " 954,\n",
              " 955,\n",
              " 956,\n",
              " 957,\n",
              " 958,\n",
              " 959,\n",
              " 960,\n",
              " 961,\n",
              " 962,\n",
              " 963,\n",
              " 964,\n",
              " 965,\n",
              " 966,\n",
              " 967,\n",
              " 968,\n",
              " 969,\n",
              " 970,\n",
              " 971,\n",
              " 972,\n",
              " 973,\n",
              " 974,\n",
              " 975,\n",
              " 976,\n",
              " 977,\n",
              " 978,\n",
              " 979,\n",
              " 980,\n",
              " 981,\n",
              " 982,\n",
              " 983,\n",
              " 984,\n",
              " 985,\n",
              " 986,\n",
              " 987,\n",
              " 988,\n",
              " 989,\n",
              " 990,\n",
              " 991,\n",
              " 992,\n",
              " 993,\n",
              " 994,\n",
              " 995,\n",
              " 996,\n",
              " 997,\n",
              " 998,\n",
              " 999,\n",
              " ...]"
            ]
          },
          "execution_count": 12,
          "metadata": {},
          "output_type": "execute_result"
        }
      ],
      "source": [
        "nums_rdd.collect()"
      ]
    },
    {
      "cell_type": "code",
      "execution_count": null,
      "metadata": {
        "colab": {
          "base_uri": "https://localhost:8080/"
        },
        "id": "UoTQcQKhp0Mw",
        "outputId": "4a6631f2-1733-4cd7-8bfa-0c2ae74c9f0c"
      },
      "outputs": [
        {
          "data": {
            "text/plain": [
              "[0, 1, 2, 3, 4, 5, 6, 7, 8, 9]"
            ]
          },
          "execution_count": 13,
          "metadata": {},
          "output_type": "execute_result"
        }
      ],
      "source": [
        "nums_rdd.take(10)"
      ]
    },
    {
      "cell_type": "code",
      "execution_count": null,
      "metadata": {
        "colab": {
          "base_uri": "https://localhost:8080/"
        },
        "id": "BwvnZRo9oJkN",
        "outputId": "f3d2b2e7-ee85-466a-c23b-e01ff7608e8c"
      },
      "outputs": [
        {
          "data": {
            "text/plain": [
              "PythonRDD[4] at RDD at PythonRDD.scala:53"
            ]
          },
          "execution_count": 16,
          "metadata": {},
          "output_type": "execute_result"
        }
      ],
      "source": [
        "square_nums_rdd = nums_rdd.map(lambda x: x**2)\n",
        "square_nums_rdd"
      ]
    },
    {
      "cell_type": "code",
      "execution_count": null,
      "metadata": {
        "colab": {
          "base_uri": "https://localhost:8080/"
        },
        "id": "tgi6uuolqQO5",
        "outputId": "f63dfe98-916e-413b-f386-cce7ec5c7283"
      },
      "outputs": [
        {
          "data": {
            "text/plain": [
              "[0, 1, 4, 9, 16]"
            ]
          },
          "execution_count": 17,
          "metadata": {},
          "output_type": "execute_result"
        }
      ],
      "source": [
        "square_nums_rdd.take(5)"
      ]
    },
    {
      "cell_type": "code",
      "execution_count": null,
      "metadata": {
        "colab": {
          "base_uri": "https://localhost:8080/"
        },
        "id": "h-6ULsT2qvKE",
        "outputId": "7cbeca3a-8763-47e5-9c32-86b03789a1a1"
      },
      "outputs": [
        {
          "data": {
            "text/plain": [
              "[(0, 1), (1, 1), (4, 1), (9, 1), (16, 2)]"
            ]
          },
          "execution_count": 21,
          "metadata": {},
          "output_type": "execute_result"
        }
      ],
      "source": [
        "pairs = square_nums_rdd.map(lambda x : (x,len(str(x))))\n",
        "pairs.take(5)"
      ]
    },
    {
      "cell_type": "code",
      "execution_count": null,
      "metadata": {
        "colab": {
          "base_uri": "https://localhost:8080/"
        },
        "id": "ZidPKQymsWMw",
        "outputId": "d804701a-0d55-4995-d432-d77932875fd4"
      },
      "outputs": [
        {
          "data": {
            "text/plain": [
              "[(16, 2), (25, 2), (36, 2), (49, 2), (64, 2)]"
            ]
          },
          "execution_count": 34,
          "metadata": {},
          "output_type": "execute_result"
        }
      ],
      "source": [
        "even_digit_pairs = pairs.filter(lambda x: (x[1] % 2) == 0 )\n",
        "even_digit_pairs.take(5)"
      ]
    },
    {
      "cell_type": "code",
      "execution_count": null,
      "metadata": {
        "colab": {
          "base_uri": "https://localhost:8080/"
        },
        "id": "tP54mqh9vIO0",
        "outputId": "567253e9-e8c1-4bfe-a614-d8586f4afb6c"
      },
      "outputs": [
        {
          "data": {
            "text/plain": [
              "[(2, 16), (2, 25), (2, 36), (2, 49), (2, 64)]"
            ]
          },
          "execution_count": 35,
          "metadata": {},
          "output_type": "execute_result"
        }
      ],
      "source": [
        "flipped_pairs= even_digit_pairs.map(lambda x: (x[1],x[0]) )\n",
        "flipped_pairs.take(5)"
      ]
    },
    {
      "cell_type": "code",
      "execution_count": null,
      "metadata": {
        "colab": {
          "base_uri": "https://localhost:8080/"
        },
        "id": "LRFUw9LvvjHR",
        "outputId": "9561f06a-5995-4f55-80c4-9b1780439ec8"
      },
      "outputs": [
        {
          "data": {
            "text/plain": [
              "[(2, <pyspark.resultiterable.ResultIterable at 0x7f5b45d4fd00>),\n",
              " (4, <pyspark.resultiterable.ResultIterable at 0x7f5b45c45600>),\n",
              " (6, <pyspark.resultiterable.ResultIterable at 0x7f5b45c445e0>),\n",
              " (8, <pyspark.resultiterable.ResultIterable at 0x7f5b45c479d0>),\n",
              " (10, <pyspark.resultiterable.ResultIterable at 0x7f5b45c44100>)]"
            ]
          },
          "execution_count": 37,
          "metadata": {},
          "output_type": "execute_result"
        }
      ],
      "source": [
        "grouped  = flipped_pairs.groupByKey()\n",
        "grouped.take(20)"
      ]
    },
    {
      "cell_type": "code",
      "execution_count": null,
      "metadata": {
        "colab": {
          "base_uri": "https://localhost:8080/"
        },
        "id": "jntLWpv6xrI5",
        "outputId": "8e7206b0-e937-4217-c35b-128b6c1b1e5c"
      },
      "outputs": [
        {
          "data": {
            "text/plain": [
              "[(2, [16, 25, 36, 49, 64, 81]),\n",
              " (4,\n",
              "  [1024,\n",
              "   1089,\n",
              "   1156,\n",
              "   1225,\n",
              "   1296,\n",
              "   1369,\n",
              "   1444,\n",
              "   1521,\n",
              "   1600,\n",
              "   1681,\n",
              "   1764,\n",
              "   1849,\n",
              "   1936,\n",
              "   2025,\n",
              "   2116,\n",
              "   2209,\n",
              "   2304,\n",
              "   2401,\n",
              "   2500,\n",
              "   2601,\n",
              "   2704,\n",
              "   2809,\n",
              "   2916,\n",
              "   3025,\n",
              "   3136,\n",
              "   3249,\n",
              "   3364,\n",
              "   3481,\n",
              "   3600,\n",
              "   3721,\n",
              "   3844,\n",
              "   3969,\n",
              "   4096,\n",
              "   4225,\n",
              "   4356,\n",
              "   4489,\n",
              "   4624,\n",
              "   4761,\n",
              "   4900,\n",
              "   5041,\n",
              "   5184,\n",
              "   5329,\n",
              "   5476,\n",
              "   5625,\n",
              "   5776,\n",
              "   5929,\n",
              "   6084,\n",
              "   6241,\n",
              "   6400,\n",
              "   6561,\n",
              "   6724,\n",
              "   6889,\n",
              "   7056,\n",
              "   7225,\n",
              "   7396,\n",
              "   7569,\n",
              "   7744,\n",
              "   7921,\n",
              "   8100,\n",
              "   8281,\n",
              "   8464,\n",
              "   8649,\n",
              "   8836,\n",
              "   9025,\n",
              "   9216,\n",
              "   9409,\n",
              "   9604,\n",
              "   9801])]"
            ]
          },
          "execution_count": 40,
          "metadata": {},
          "output_type": "execute_result"
        }
      ],
      "source": [
        "grouped= grouped.map(lambda x:(x[0],list(x[1])))\n",
        "grouped.take(2)"
      ]
    },
    {
      "cell_type": "code",
      "execution_count": null,
      "metadata": {
        "colab": {
          "base_uri": "https://localhost:8080/"
        },
        "id": "fQ-3L1DtzQS0",
        "outputId": "c220d11f-9e27-46fe-cdd6-dc3ad171424c"
      },
      "outputs": [
        {
          "data": {
            "text/plain": [
              "[(2, 45.166666666666664),\n",
              " (4, 4675.5),\n",
              " (6, 471838.0),\n",
              " (8, 47204941.666666664),\n",
              " (10, 4720705565.0)]"
            ]
          },
          "execution_count": 46,
          "metadata": {},
          "output_type": "execute_result"
        }
      ],
      "source": [
        "average = grouped.map(lambda x :(x[0],sum(x[1])/ len(x[1])))\n",
        "average.collect()"
      ]
    },
    {
      "cell_type": "code",
      "execution_count": null,
      "metadata": {
        "id": "5AbfvB8In_Vf"
      },
      "outputs": [],
      "source": []
    },
    {
      "cell_type": "code",
      "execution_count": null,
      "metadata": {
        "id": "h3wB48nrM4mm"
      },
      "outputs": [],
      "source": []
    },
    {
      "cell_type": "code",
      "execution_count": null,
      "metadata": {
        "id": "XXS8rEtwM4pe"
      },
      "outputs": [],
      "source": []
    },
    {
      "cell_type": "code",
      "execution_count": null,
      "metadata": {
        "id": "LIahxUu0M4sl"
      },
      "outputs": [],
      "source": []
    },
    {
      "cell_type": "code",
      "execution_count": null,
      "metadata": {
        "id": "TJzebhhGM4vc"
      },
      "outputs": [],
      "source": []
    },
    {
      "cell_type": "code",
      "execution_count": null,
      "metadata": {
        "id": "ZMdwnzCTM4yI"
      },
      "outputs": [],
      "source": []
    },
    {
      "cell_type": "code",
      "execution_count": null,
      "metadata": {
        "id": "mnYg5ILfM40-"
      },
      "outputs": [],
      "source": []
    },
    {
      "cell_type": "code",
      "execution_count": null,
      "metadata": {
        "id": "A9UtOGvKM43r"
      },
      "outputs": [],
      "source": []
    },
    {
      "cell_type": "code",
      "execution_count": null,
      "metadata": {
        "id": "ynXvEvzIM46b"
      },
      "outputs": [],
      "source": []
    },
    {
      "cell_type": "markdown",
      "metadata": {
        "id": "wFuhFgqBOE9w"
      },
      "source": [
        "krishnaiyak"
      ]
    },
    {
      "cell_type": "markdown",
      "metadata": {
        "id": "0-yEbHpAD8Ex"
      },
      "source": [
        "# Loading dataframe , reading file , selecting column , adding new columm"
      ]
    },
    {
      "cell_type": "code",
      "execution_count": null,
      "metadata": {
        "id": "Gfq0KcbTOGsG"
      },
      "outputs": [],
      "source": [
        "import pyspark"
      ]
    },
    {
      "cell_type": "code",
      "execution_count": null,
      "metadata": {
        "colab": {
          "base_uri": "https://localhost:8080/",
          "height": 206
        },
        "id": "Kc-taLA6OItE",
        "outputId": "56bb3b4b-7d44-4730-ab27-cf288fad2a7e"
      },
      "outputs": [
        {
          "data": {
            "application/vnd.google.colaboratory.intrinsic+json": {
              "summary": "{\n  \"name\": \"dfpanda\",\n  \"rows\": 11,\n  \"fields\": [\n    {\n      \"column\": \"Name\",\n      \"properties\": {\n        \"dtype\": \"string\",\n        \"num_unique_values\": 11,\n        \"samples\": [\n          \"nawfel \",\n          \"Ratul \",\n          \"ovi \"\n        ],\n        \"semantic_type\": \"\",\n        \"description\": \"\"\n      }\n    },\n    {\n      \"column\": \"Age \",\n      \"properties\": {\n        \"dtype\": \"number\",\n        \"std\": 3,\n        \"min\": 4,\n        \"max\": 18,\n        \"num_unique_values\": 9,\n        \"samples\": [\n          5,\n          11,\n          7\n        ],\n        \"semantic_type\": \"\",\n        \"description\": \"\"\n      }\n    }\n  ]\n}",
              "type": "dataframe",
              "variable_name": "dfpanda"
            },
            "text/html": [
              "\n",
              "  <div id=\"df-dce13568-e8ac-49d4-8ebb-74b83ef6e74c\" class=\"colab-df-container\">\n",
              "    <div>\n",
              "<style scoped>\n",
              "    .dataframe tbody tr th:only-of-type {\n",
              "        vertical-align: middle;\n",
              "    }\n",
              "\n",
              "    .dataframe tbody tr th {\n",
              "        vertical-align: top;\n",
              "    }\n",
              "\n",
              "    .dataframe thead th {\n",
              "        text-align: right;\n",
              "    }\n",
              "</style>\n",
              "<table border=\"1\" class=\"dataframe\">\n",
              "  <thead>\n",
              "    <tr style=\"text-align: right;\">\n",
              "      <th></th>\n",
              "      <th>Name</th>\n",
              "      <th>Age</th>\n",
              "    </tr>\n",
              "  </thead>\n",
              "  <tbody>\n",
              "    <tr>\n",
              "      <th>0</th>\n",
              "      <td>Ratul</td>\n",
              "      <td>10</td>\n",
              "    </tr>\n",
              "    <tr>\n",
              "      <th>1</th>\n",
              "      <td>Rasel</td>\n",
              "      <td>11</td>\n",
              "    </tr>\n",
              "    <tr>\n",
              "      <th>2</th>\n",
              "      <td>tahnik</td>\n",
              "      <td>10</td>\n",
              "    </tr>\n",
              "    <tr>\n",
              "      <th>3</th>\n",
              "      <td>samin</td>\n",
              "      <td>18</td>\n",
              "    </tr>\n",
              "    <tr>\n",
              "      <th>4</th>\n",
              "      <td>mustafiz</td>\n",
              "      <td>10</td>\n",
              "    </tr>\n",
              "  </tbody>\n",
              "</table>\n",
              "</div>\n",
              "    <div class=\"colab-df-buttons\">\n",
              "\n",
              "  <div class=\"colab-df-container\">\n",
              "    <button class=\"colab-df-convert\" onclick=\"convertToInteractive('df-dce13568-e8ac-49d4-8ebb-74b83ef6e74c')\"\n",
              "            title=\"Convert this dataframe to an interactive table.\"\n",
              "            style=\"display:none;\">\n",
              "\n",
              "  <svg xmlns=\"http://www.w3.org/2000/svg\" height=\"24px\" viewBox=\"0 -960 960 960\">\n",
              "    <path d=\"M120-120v-720h720v720H120Zm60-500h600v-160H180v160Zm220 220h160v-160H400v160Zm0 220h160v-160H400v160ZM180-400h160v-160H180v160Zm440 0h160v-160H620v160ZM180-180h160v-160H180v160Zm440 0h160v-160H620v160Z\"/>\n",
              "  </svg>\n",
              "    </button>\n",
              "\n",
              "  <style>\n",
              "    .colab-df-container {\n",
              "      display:flex;\n",
              "      gap: 12px;\n",
              "    }\n",
              "\n",
              "    .colab-df-convert {\n",
              "      background-color: #E8F0FE;\n",
              "      border: none;\n",
              "      border-radius: 50%;\n",
              "      cursor: pointer;\n",
              "      display: none;\n",
              "      fill: #1967D2;\n",
              "      height: 32px;\n",
              "      padding: 0 0 0 0;\n",
              "      width: 32px;\n",
              "    }\n",
              "\n",
              "    .colab-df-convert:hover {\n",
              "      background-color: #E2EBFA;\n",
              "      box-shadow: 0px 1px 2px rgba(60, 64, 67, 0.3), 0px 1px 3px 1px rgba(60, 64, 67, 0.15);\n",
              "      fill: #174EA6;\n",
              "    }\n",
              "\n",
              "    .colab-df-buttons div {\n",
              "      margin-bottom: 4px;\n",
              "    }\n",
              "\n",
              "    [theme=dark] .colab-df-convert {\n",
              "      background-color: #3B4455;\n",
              "      fill: #D2E3FC;\n",
              "    }\n",
              "\n",
              "    [theme=dark] .colab-df-convert:hover {\n",
              "      background-color: #434B5C;\n",
              "      box-shadow: 0px 1px 3px 1px rgba(0, 0, 0, 0.15);\n",
              "      filter: drop-shadow(0px 1px 2px rgba(0, 0, 0, 0.3));\n",
              "      fill: #FFFFFF;\n",
              "    }\n",
              "  </style>\n",
              "\n",
              "    <script>\n",
              "      const buttonEl =\n",
              "        document.querySelector('#df-dce13568-e8ac-49d4-8ebb-74b83ef6e74c button.colab-df-convert');\n",
              "      buttonEl.style.display =\n",
              "        google.colab.kernel.accessAllowed ? 'block' : 'none';\n",
              "\n",
              "      async function convertToInteractive(key) {\n",
              "        const element = document.querySelector('#df-dce13568-e8ac-49d4-8ebb-74b83ef6e74c');\n",
              "        const dataTable =\n",
              "          await google.colab.kernel.invokeFunction('convertToInteractive',\n",
              "                                                    [key], {});\n",
              "        if (!dataTable) return;\n",
              "\n",
              "        const docLinkHtml = 'Like what you see? Visit the ' +\n",
              "          '<a target=\"_blank\" href=https://colab.research.google.com/notebooks/data_table.ipynb>data table notebook</a>'\n",
              "          + ' to learn more about interactive tables.';\n",
              "        element.innerHTML = '';\n",
              "        dataTable['output_type'] = 'display_data';\n",
              "        await google.colab.output.renderOutput(dataTable, element);\n",
              "        const docLink = document.createElement('div');\n",
              "        docLink.innerHTML = docLinkHtml;\n",
              "        element.appendChild(docLink);\n",
              "      }\n",
              "    </script>\n",
              "  </div>\n",
              "\n",
              "\n",
              "<div id=\"df-79ebb8a9-643f-4f0e-a945-0ca00d17020e\">\n",
              "  <button class=\"colab-df-quickchart\" onclick=\"quickchart('df-79ebb8a9-643f-4f0e-a945-0ca00d17020e')\"\n",
              "            title=\"Suggest charts\"\n",
              "            style=\"display:none;\">\n",
              "\n",
              "<svg xmlns=\"http://www.w3.org/2000/svg\" height=\"24px\"viewBox=\"0 0 24 24\"\n",
              "     width=\"24px\">\n",
              "    <g>\n",
              "        <path d=\"M19 3H5c-1.1 0-2 .9-2 2v14c0 1.1.9 2 2 2h14c1.1 0 2-.9 2-2V5c0-1.1-.9-2-2-2zM9 17H7v-7h2v7zm4 0h-2V7h2v10zm4 0h-2v-4h2v4z\"/>\n",
              "    </g>\n",
              "</svg>\n",
              "  </button>\n",
              "\n",
              "<style>\n",
              "  .colab-df-quickchart {\n",
              "      --bg-color: #E8F0FE;\n",
              "      --fill-color: #1967D2;\n",
              "      --hover-bg-color: #E2EBFA;\n",
              "      --hover-fill-color: #174EA6;\n",
              "      --disabled-fill-color: #AAA;\n",
              "      --disabled-bg-color: #DDD;\n",
              "  }\n",
              "\n",
              "  [theme=dark] .colab-df-quickchart {\n",
              "      --bg-color: #3B4455;\n",
              "      --fill-color: #D2E3FC;\n",
              "      --hover-bg-color: #434B5C;\n",
              "      --hover-fill-color: #FFFFFF;\n",
              "      --disabled-bg-color: #3B4455;\n",
              "      --disabled-fill-color: #666;\n",
              "  }\n",
              "\n",
              "  .colab-df-quickchart {\n",
              "    background-color: var(--bg-color);\n",
              "    border: none;\n",
              "    border-radius: 50%;\n",
              "    cursor: pointer;\n",
              "    display: none;\n",
              "    fill: var(--fill-color);\n",
              "    height: 32px;\n",
              "    padding: 0;\n",
              "    width: 32px;\n",
              "  }\n",
              "\n",
              "  .colab-df-quickchart:hover {\n",
              "    background-color: var(--hover-bg-color);\n",
              "    box-shadow: 0 1px 2px rgba(60, 64, 67, 0.3), 0 1px 3px 1px rgba(60, 64, 67, 0.15);\n",
              "    fill: var(--button-hover-fill-color);\n",
              "  }\n",
              "\n",
              "  .colab-df-quickchart-complete:disabled,\n",
              "  .colab-df-quickchart-complete:disabled:hover {\n",
              "    background-color: var(--disabled-bg-color);\n",
              "    fill: var(--disabled-fill-color);\n",
              "    box-shadow: none;\n",
              "  }\n",
              "\n",
              "  .colab-df-spinner {\n",
              "    border: 2px solid var(--fill-color);\n",
              "    border-color: transparent;\n",
              "    border-bottom-color: var(--fill-color);\n",
              "    animation:\n",
              "      spin 1s steps(1) infinite;\n",
              "  }\n",
              "\n",
              "  @keyframes spin {\n",
              "    0% {\n",
              "      border-color: transparent;\n",
              "      border-bottom-color: var(--fill-color);\n",
              "      border-left-color: var(--fill-color);\n",
              "    }\n",
              "    20% {\n",
              "      border-color: transparent;\n",
              "      border-left-color: var(--fill-color);\n",
              "      border-top-color: var(--fill-color);\n",
              "    }\n",
              "    30% {\n",
              "      border-color: transparent;\n",
              "      border-left-color: var(--fill-color);\n",
              "      border-top-color: var(--fill-color);\n",
              "      border-right-color: var(--fill-color);\n",
              "    }\n",
              "    40% {\n",
              "      border-color: transparent;\n",
              "      border-right-color: var(--fill-color);\n",
              "      border-top-color: var(--fill-color);\n",
              "    }\n",
              "    60% {\n",
              "      border-color: transparent;\n",
              "      border-right-color: var(--fill-color);\n",
              "    }\n",
              "    80% {\n",
              "      border-color: transparent;\n",
              "      border-right-color: var(--fill-color);\n",
              "      border-bottom-color: var(--fill-color);\n",
              "    }\n",
              "    90% {\n",
              "      border-color: transparent;\n",
              "      border-bottom-color: var(--fill-color);\n",
              "    }\n",
              "  }\n",
              "</style>\n",
              "\n",
              "  <script>\n",
              "    async function quickchart(key) {\n",
              "      const quickchartButtonEl =\n",
              "        document.querySelector('#' + key + ' button');\n",
              "      quickchartButtonEl.disabled = true;  // To prevent multiple clicks.\n",
              "      quickchartButtonEl.classList.add('colab-df-spinner');\n",
              "      try {\n",
              "        const charts = await google.colab.kernel.invokeFunction(\n",
              "            'suggestCharts', [key], {});\n",
              "      } catch (error) {\n",
              "        console.error('Error during call to suggestCharts:', error);\n",
              "      }\n",
              "      quickchartButtonEl.classList.remove('colab-df-spinner');\n",
              "      quickchartButtonEl.classList.add('colab-df-quickchart-complete');\n",
              "    }\n",
              "    (() => {\n",
              "      let quickchartButtonEl =\n",
              "        document.querySelector('#df-79ebb8a9-643f-4f0e-a945-0ca00d17020e button');\n",
              "      quickchartButtonEl.style.display =\n",
              "        google.colab.kernel.accessAllowed ? 'block' : 'none';\n",
              "    })();\n",
              "  </script>\n",
              "</div>\n",
              "\n",
              "    </div>\n",
              "  </div>\n"
            ],
            "text/plain": [
              "        Name  Age \n",
              "0     Ratul     10\n",
              "1     Rasel     11\n",
              "2    tahnik     10\n",
              "3     samin     18\n",
              "4  mustafiz     10"
            ]
          },
          "execution_count": 113,
          "metadata": {},
          "output_type": "execute_result"
        }
      ],
      "source": [
        "import pandas as pd\n",
        "dfpanda = pd.read_csv(\"/content/pyspark data.csv\")\n",
        "dfpanda.head()"
      ]
    },
    {
      "cell_type": "code",
      "execution_count": null,
      "metadata": {
        "colab": {
          "base_uri": "https://localhost:8080/"
        },
        "id": "FfjBLUqfkuwf",
        "outputId": "ae8926b3-da5b-42d0-9657-32ef3d736dc8"
      },
      "outputs": [
        {
          "data": {
            "text/plain": [
              "0       Ratul \n",
              "1       Rasel \n",
              "2      tahnik \n",
              "3       samin \n",
              "4    mustafiz \n",
              "Name: Name, dtype: object"
            ]
          },
          "execution_count": 115,
          "metadata": {},
          "output_type": "execute_result"
        }
      ],
      "source": [
        "dfpanda['Name'].head()"
      ]
    },
    {
      "cell_type": "code",
      "execution_count": null,
      "metadata": {
        "id": "Miql2fIuWVZI"
      },
      "outputs": [],
      "source": [
        "import pyspark"
      ]
    },
    {
      "cell_type": "code",
      "execution_count": null,
      "metadata": {
        "id": "u_ixmLwXPXjq"
      },
      "outputs": [],
      "source": [
        "from pyspark.sql import SparkSession"
      ]
    },
    {
      "cell_type": "code",
      "execution_count": null,
      "metadata": {
        "id": "BpvQJcTAPfnm"
      },
      "outputs": [],
      "source": [
        "spark = SparkSession.builder.appName('practise').getOrCreate()"
      ]
    },
    {
      "cell_type": "code",
      "execution_count": null,
      "metadata": {
        "colab": {
          "base_uri": "https://localhost:8080/",
          "height": 221
        },
        "id": "ZLTdjonEM488",
        "outputId": "b9d4c381-ca35-4a87-b74e-ebc81507c822"
      },
      "outputs": [
        {
          "data": {
            "text/html": [
              "\n",
              "            <div>\n",
              "                <p><b>SparkSession - in-memory</b></p>\n",
              "                \n",
              "        <div>\n",
              "            <p><b>SparkContext</b></p>\n",
              "\n",
              "            <p><a href=\"http://bdc1772cf5ca:4040\">Spark UI</a></p>\n",
              "\n",
              "            <dl>\n",
              "              <dt>Version</dt>\n",
              "                <dd><code>v3.5.1</code></dd>\n",
              "              <dt>Master</dt>\n",
              "                <dd><code>local</code></dd>\n",
              "              <dt>AppName</dt>\n",
              "                <dd><code>example_app</code></dd>\n",
              "            </dl>\n",
              "        </div>\n",
              "        \n",
              "            </div>\n",
              "        "
            ],
            "text/plain": [
              "<pyspark.sql.session.SparkSession at 0x7f5b45d82380>"
            ]
          },
          "execution_count": 58,
          "metadata": {},
          "output_type": "execute_result"
        }
      ],
      "source": [
        "spark"
      ]
    },
    {
      "cell_type": "code",
      "execution_count": null,
      "metadata": {
        "id": "tyMVsjbJQ98x"
      },
      "outputs": [],
      "source": [
        "df_pyspark = spark.read.csv('/content/pyspark data.csv')"
      ]
    },
    {
      "cell_type": "code",
      "execution_count": null,
      "metadata": {
        "colab": {
          "base_uri": "https://localhost:8080/"
        },
        "id": "8LZzPdV_RvcM",
        "outputId": "106f2c20-eeff-4835-b2e4-19377f18f934"
      },
      "outputs": [
        {
          "name": "stdout",
          "output_type": "stream",
          "text": [
            "+---------+----+\n",
            "|      _c0| _c1|\n",
            "+---------+----+\n",
            "|     Name|Age |\n",
            "|   Ratul |  10|\n",
            "|   Rasel |  11|\n",
            "|  tahnik |  10|\n",
            "|   samin |  18|\n",
            "|mustafiz |  10|\n",
            "|  nawfel |   9|\n",
            "|  shobuj |   8|\n",
            "|    alvi |   7|\n",
            "|   sohel |   6|\n",
            "|     ovi |   5|\n",
            "|    labib|   4|\n",
            "+---------+----+\n",
            "\n"
          ]
        }
      ],
      "source": [
        "df_pyspark.show()"
      ]
    },
    {
      "cell_type": "markdown",
      "metadata": {
        "id": "bdQyiMAwVecD"
      },
      "source": [
        "here we have a c0 and c1 , how can we drop this? only by declaring that the csv file has a header"
      ]
    },
    {
      "cell_type": "code",
      "execution_count": null,
      "metadata": {
        "colab": {
          "base_uri": "https://localhost:8080/"
        },
        "id": "AaHMZv9WSWGM",
        "outputId": "d8745533-b422-4fc3-f8a9-16fb1723c62f"
      },
      "outputs": [
        {
          "name": "stdout",
          "output_type": "stream",
          "text": [
            "+---------+----+\n",
            "|     Name|Age |\n",
            "+---------+----+\n",
            "|   Ratul |  10|\n",
            "|   Rasel |  11|\n",
            "|  tahnik |  10|\n",
            "|   samin |  18|\n",
            "|mustafiz |  10|\n",
            "|  nawfel |   9|\n",
            "|  shobuj |   8|\n",
            "|    alvi |   7|\n",
            "|   sohel |   6|\n",
            "|     ovi |   5|\n",
            "|    labib|   4|\n",
            "+---------+----+\n",
            "\n"
          ]
        }
      ],
      "source": [
        "spark.read.option('header','True').csv('/content/pyspark data.csv').show()"
      ]
    },
    {
      "cell_type": "markdown",
      "metadata": {
        "id": "PAKRplhJVo_v"
      },
      "source": [
        "insted of directly declaring the show() , we can create a new df and tell it to show the df later , like  this"
      ]
    },
    {
      "cell_type": "code",
      "execution_count": null,
      "metadata": {
        "id": "3KarOyvuTcUm"
      },
      "outputs": [],
      "source": [
        "df_spark = spark.read.option('header','True').csv('/content/pyspark data.csv')"
      ]
    },
    {
      "cell_type": "code",
      "execution_count": null,
      "metadata": {
        "colab": {
          "base_uri": "https://localhost:8080/"
        },
        "id": "8Oqwj07mTfNZ",
        "outputId": "7b7f277f-52e4-4bf6-9457-31a08f2c5632"
      },
      "outputs": [
        {
          "name": "stdout",
          "output_type": "stream",
          "text": [
            "+---------+----+\n",
            "|     Name|Age |\n",
            "+---------+----+\n",
            "|   Ratul |  10|\n",
            "|   Rasel |  11|\n",
            "|  tahnik |  10|\n",
            "|   samin |  18|\n",
            "|mustafiz |  10|\n",
            "|  nawfel |   9|\n",
            "|  shobuj |   8|\n",
            "|    alvi |   7|\n",
            "|   sohel |   6|\n",
            "|     ovi |   5|\n",
            "|    labib|   4|\n",
            "+---------+----+\n",
            "\n"
          ]
        }
      ],
      "source": [
        "df_spark.show()"
      ]
    },
    {
      "cell_type": "code",
      "execution_count": null,
      "metadata": {
        "id": "4puUoJ_oWS53"
      },
      "outputs": [],
      "source": []
    },
    {
      "cell_type": "code",
      "execution_count": null,
      "metadata": {
        "colab": {
          "base_uri": "https://localhost:8080/",
          "height": 203
        },
        "id": "gzsw3opbUGrE",
        "outputId": "4f9b3e1f-6b28-4223-e768-f2deb0d66bae"
      },
      "outputs": [
        {
          "data": {
            "text/html": [
              "<div style=\"max-width:800px; border: 1px solid var(--colab-border-color);\"><style>\n",
              "      pre.function-repr-contents {\n",
              "        overflow-x: auto;\n",
              "        padding: 8px 12px;\n",
              "        max-height: 500px;\n",
              "      }\n",
              "\n",
              "      pre.function-repr-contents.function-repr-contents-collapsed {\n",
              "        cursor: pointer;\n",
              "        max-height: 100px;\n",
              "      }\n",
              "    </style>\n",
              "    <pre style=\"white-space: initial; background:\n",
              "         var(--colab-secondary-surface-color); padding: 8px 12px;\n",
              "         border-bottom: 1px solid var(--colab-border-color);\"><b>pandas.core.frame.DataFrame</b><br/>def __init__(data=None, index: Axes | None=None, columns: Axes | None=None, dtype: Dtype | None=None, copy: bool | None=None) -&gt; None</pre><pre class=\"function-repr-contents function-repr-contents-collapsed\" style=\"\"><a class=\"filepath\" style=\"display:none\" href=\"#\">/usr/local/lib/python3.10/dist-packages/pandas/core/frame.py</a>Two-dimensional, size-mutable, potentially heterogeneous tabular data.\n",
              "\n",
              "Data structure also contains labeled axes (rows and columns).\n",
              "Arithmetic operations align on both row and column labels. Can be\n",
              "thought of as a dict-like container for Series objects. The primary\n",
              "pandas data structure.\n",
              "\n",
              "Parameters\n",
              "----------\n",
              "data : ndarray (structured or homogeneous), Iterable, dict, or DataFrame\n",
              "    Dict can contain Series, arrays, constants, dataclass or list-like objects. If\n",
              "    data is a dict, column order follows insertion-order. If a dict contains Series\n",
              "    which have an index defined, it is aligned by its index. This alignment also\n",
              "    occurs if data is a Series or a DataFrame itself. Alignment is done on\n",
              "    Series/DataFrame inputs.\n",
              "\n",
              "    If data is a list of dicts, column order follows insertion-order.\n",
              "\n",
              "index : Index or array-like\n",
              "    Index to use for resulting frame. Will default to RangeIndex if\n",
              "    no indexing information part of input data and no index provided.\n",
              "columns : Index or array-like\n",
              "    Column labels to use for resulting frame when data does not have them,\n",
              "    defaulting to RangeIndex(0, 1, 2, ..., n). If data contains column labels,\n",
              "    will perform column selection instead.\n",
              "dtype : dtype, default None\n",
              "    Data type to force. Only a single dtype is allowed. If None, infer.\n",
              "copy : bool or None, default None\n",
              "    Copy data from inputs.\n",
              "    For dict data, the default of None behaves like ``copy=True``.  For DataFrame\n",
              "    or 2d ndarray input, the default of None behaves like ``copy=False``.\n",
              "    If data is a dict containing one or more Series (possibly of different dtypes),\n",
              "    ``copy=False`` will ensure that these inputs are not copied.\n",
              "\n",
              "    .. versionchanged:: 1.3.0\n",
              "\n",
              "See Also\n",
              "--------\n",
              "DataFrame.from_records : Constructor from tuples, also record arrays.\n",
              "DataFrame.from_dict : From dicts of Series, arrays, or dicts.\n",
              "read_csv : Read a comma-separated values (csv) file into DataFrame.\n",
              "read_table : Read general delimited file into DataFrame.\n",
              "read_clipboard : Read text from clipboard into DataFrame.\n",
              "\n",
              "Notes\n",
              "-----\n",
              "Please reference the :ref:`User Guide &lt;basics.dataframe&gt;` for more information.\n",
              "\n",
              "Examples\n",
              "--------\n",
              "Constructing DataFrame from a dictionary.\n",
              "\n",
              "&gt;&gt;&gt; d = {&#x27;col1&#x27;: [1, 2], &#x27;col2&#x27;: [3, 4]}\n",
              "&gt;&gt;&gt; df = pd.DataFrame(data=d)\n",
              "&gt;&gt;&gt; df\n",
              "   col1  col2\n",
              "0     1     3\n",
              "1     2     4\n",
              "\n",
              "Notice that the inferred dtype is int64.\n",
              "\n",
              "&gt;&gt;&gt; df.dtypes\n",
              "col1    int64\n",
              "col2    int64\n",
              "dtype: object\n",
              "\n",
              "To enforce a single dtype:\n",
              "\n",
              "&gt;&gt;&gt; df = pd.DataFrame(data=d, dtype=np.int8)\n",
              "&gt;&gt;&gt; df.dtypes\n",
              "col1    int8\n",
              "col2    int8\n",
              "dtype: object\n",
              "\n",
              "Constructing DataFrame from a dictionary including Series:\n",
              "\n",
              "&gt;&gt;&gt; d = {&#x27;col1&#x27;: [0, 1, 2, 3], &#x27;col2&#x27;: pd.Series([2, 3], index=[2, 3])}\n",
              "&gt;&gt;&gt; pd.DataFrame(data=d, index=[0, 1, 2, 3])\n",
              "   col1  col2\n",
              "0     0   NaN\n",
              "1     1   NaN\n",
              "2     2   2.0\n",
              "3     3   3.0\n",
              "\n",
              "Constructing DataFrame from numpy ndarray:\n",
              "\n",
              "&gt;&gt;&gt; df2 = pd.DataFrame(np.array([[1, 2, 3], [4, 5, 6], [7, 8, 9]]),\n",
              "...                    columns=[&#x27;a&#x27;, &#x27;b&#x27;, &#x27;c&#x27;])\n",
              "&gt;&gt;&gt; df2\n",
              "   a  b  c\n",
              "0  1  2  3\n",
              "1  4  5  6\n",
              "2  7  8  9\n",
              "\n",
              "Constructing DataFrame from a numpy ndarray that has labeled columns:\n",
              "\n",
              "&gt;&gt;&gt; data = np.array([(1, 2, 3), (4, 5, 6), (7, 8, 9)],\n",
              "...                 dtype=[(&quot;a&quot;, &quot;i4&quot;), (&quot;b&quot;, &quot;i4&quot;), (&quot;c&quot;, &quot;i4&quot;)])\n",
              "&gt;&gt;&gt; df3 = pd.DataFrame(data, columns=[&#x27;c&#x27;, &#x27;a&#x27;])\n",
              "...\n",
              "&gt;&gt;&gt; df3\n",
              "   c  a\n",
              "0  3  1\n",
              "1  6  4\n",
              "2  9  7\n",
              "\n",
              "Constructing DataFrame from dataclass:\n",
              "\n",
              "&gt;&gt;&gt; from dataclasses import make_dataclass\n",
              "&gt;&gt;&gt; Point = make_dataclass(&quot;Point&quot;, [(&quot;x&quot;, int), (&quot;y&quot;, int)])\n",
              "&gt;&gt;&gt; pd.DataFrame([Point(0, 0), Point(0, 3), Point(2, 3)])\n",
              "   x  y\n",
              "0  0  0\n",
              "1  0  3\n",
              "2  2  3\n",
              "\n",
              "Constructing DataFrame from Series/DataFrame:\n",
              "\n",
              "&gt;&gt;&gt; ser = pd.Series([1, 2, 3], index=[&quot;a&quot;, &quot;b&quot;, &quot;c&quot;])\n",
              "&gt;&gt;&gt; df = pd.DataFrame(data=ser, index=[&quot;a&quot;, &quot;c&quot;])\n",
              "&gt;&gt;&gt; df\n",
              "   0\n",
              "a  1\n",
              "c  3\n",
              "\n",
              "&gt;&gt;&gt; df1 = pd.DataFrame([1, 2, 3], index=[&quot;a&quot;, &quot;b&quot;, &quot;c&quot;], columns=[&quot;x&quot;])\n",
              "&gt;&gt;&gt; df2 = pd.DataFrame(data=df1, index=[&quot;a&quot;, &quot;c&quot;])\n",
              "&gt;&gt;&gt; df2\n",
              "   x\n",
              "a  1\n",
              "c  3</pre>\n",
              "      <script>\n",
              "      if (google.colab.kernel.accessAllowed && google.colab.files && google.colab.files.view) {\n",
              "        for (const element of document.querySelectorAll('.filepath')) {\n",
              "          element.style.display = 'block'\n",
              "          element.onclick = (event) => {\n",
              "            event.preventDefault();\n",
              "            event.stopPropagation();\n",
              "            google.colab.files.view(element.textContent, 490);\n",
              "          };\n",
              "        }\n",
              "      }\n",
              "      for (const element of document.querySelectorAll('.function-repr-contents')) {\n",
              "        element.onclick = (event) => {\n",
              "          event.preventDefault();\n",
              "          event.stopPropagation();\n",
              "          element.classList.toggle('function-repr-contents-collapsed');\n",
              "        };\n",
              "      }\n",
              "      </script>\n",
              "      </div>"
            ],
            "text/plain": [
              "pandas.core.frame.DataFrame"
            ]
          },
          "execution_count": 76,
          "metadata": {},
          "output_type": "execute_result"
        }
      ],
      "source": [
        "type(df)"
      ]
    },
    {
      "cell_type": "code",
      "execution_count": null,
      "metadata": {
        "colab": {
          "base_uri": "https://localhost:8080/",
          "height": 186
        },
        "id": "ca0oewc4UIoh",
        "outputId": "b3023593-722b-45bd-b1b4-17ab97715218"
      },
      "outputs": [
        {
          "data": {
            "text/html": [
              "<div style=\"max-width:800px; border: 1px solid var(--colab-border-color);\"><style>\n",
              "      pre.function-repr-contents {\n",
              "        overflow-x: auto;\n",
              "        padding: 8px 12px;\n",
              "        max-height: 500px;\n",
              "      }\n",
              "\n",
              "      pre.function-repr-contents.function-repr-contents-collapsed {\n",
              "        cursor: pointer;\n",
              "        max-height: 100px;\n",
              "      }\n",
              "    </style>\n",
              "    <pre style=\"white-space: initial; background:\n",
              "         var(--colab-secondary-surface-color); padding: 8px 12px;\n",
              "         border-bottom: 1px solid var(--colab-border-color);\"><b>pyspark.sql.dataframe.DataFrame</b><br/>def __init__(jdf: JavaObject, sql_ctx: Union[&#x27;SQLContext&#x27;, &#x27;SparkSession&#x27;])</pre><pre class=\"function-repr-contents function-repr-contents-collapsed\" style=\"\"><a class=\"filepath\" style=\"display:none\" href=\"#\">/usr/local/lib/python3.10/dist-packages/pyspark/sql/dataframe.py</a>A distributed collection of data grouped into named columns.\n",
              "\n",
              ".. versionadded:: 1.3.0\n",
              "\n",
              ".. versionchanged:: 3.4.0\n",
              "    Supports Spark Connect.\n",
              "\n",
              "Examples\n",
              "--------\n",
              "A :class:`DataFrame` is equivalent to a relational table in Spark SQL,\n",
              "and can be created using various functions in :class:`SparkSession`:\n",
              "\n",
              "&gt;&gt;&gt; people = spark.createDataFrame([\n",
              "...     {&quot;deptId&quot;: 1, &quot;age&quot;: 40, &quot;name&quot;: &quot;Hyukjin Kwon&quot;, &quot;gender&quot;: &quot;M&quot;, &quot;salary&quot;: 50},\n",
              "...     {&quot;deptId&quot;: 1, &quot;age&quot;: 50, &quot;name&quot;: &quot;Takuya Ueshin&quot;, &quot;gender&quot;: &quot;M&quot;, &quot;salary&quot;: 100},\n",
              "...     {&quot;deptId&quot;: 2, &quot;age&quot;: 60, &quot;name&quot;: &quot;Xinrong Meng&quot;, &quot;gender&quot;: &quot;F&quot;, &quot;salary&quot;: 150},\n",
              "...     {&quot;deptId&quot;: 3, &quot;age&quot;: 20, &quot;name&quot;: &quot;Haejoon Lee&quot;, &quot;gender&quot;: &quot;M&quot;, &quot;salary&quot;: 200}\n",
              "... ])\n",
              "\n",
              "Once created, it can be manipulated using the various domain-specific-language\n",
              "(DSL) functions defined in: :class:`DataFrame`, :class:`Column`.\n",
              "\n",
              "To select a column from the :class:`DataFrame`, use the apply method:\n",
              "\n",
              "&gt;&gt;&gt; age_col = people.age\n",
              "\n",
              "A more concrete example:\n",
              "\n",
              "&gt;&gt;&gt; # To create DataFrame using SparkSession\n",
              "... department = spark.createDataFrame([\n",
              "...     {&quot;id&quot;: 1, &quot;name&quot;: &quot;PySpark&quot;},\n",
              "...     {&quot;id&quot;: 2, &quot;name&quot;: &quot;ML&quot;},\n",
              "...     {&quot;id&quot;: 3, &quot;name&quot;: &quot;Spark SQL&quot;}\n",
              "... ])\n",
              "\n",
              "&gt;&gt;&gt; people.filter(people.age &gt; 30).join(\n",
              "...     department, people.deptId == department.id).groupBy(\n",
              "...     department.name, &quot;gender&quot;).agg({&quot;salary&quot;: &quot;avg&quot;, &quot;age&quot;: &quot;max&quot;}).show()\n",
              "+-------+------+-----------+--------+\n",
              "|   name|gender|avg(salary)|max(age)|\n",
              "+-------+------+-----------+--------+\n",
              "|     ML|     F|      150.0|      60|\n",
              "|PySpark|     M|       75.0|      50|\n",
              "+-------+------+-----------+--------+\n",
              "\n",
              "Notes\n",
              "-----\n",
              "A DataFrame should only be created as described above. It should not be directly\n",
              "created via using the constructor.</pre>\n",
              "      <script>\n",
              "      if (google.colab.kernel.accessAllowed && google.colab.files && google.colab.files.view) {\n",
              "        for (const element of document.querySelectorAll('.filepath')) {\n",
              "          element.style.display = 'block'\n",
              "          element.onclick = (event) => {\n",
              "            event.preventDefault();\n",
              "            event.stopPropagation();\n",
              "            google.colab.files.view(element.textContent, 80);\n",
              "          };\n",
              "        }\n",
              "      }\n",
              "      for (const element of document.querySelectorAll('.function-repr-contents')) {\n",
              "        element.onclick = (event) => {\n",
              "          event.preventDefault();\n",
              "          event.stopPropagation();\n",
              "          element.classList.toggle('function-repr-contents-collapsed');\n",
              "        };\n",
              "      }\n",
              "      </script>\n",
              "      </div>"
            ],
            "text/plain": [
              "pyspark.sql.dataframe.DataFrame"
            ]
          },
          "execution_count": 77,
          "metadata": {},
          "output_type": "execute_result"
        }
      ],
      "source": [
        "type(df_spark)"
      ]
    },
    {
      "cell_type": "code",
      "execution_count": null,
      "metadata": {
        "colab": {
          "base_uri": "https://localhost:8080/"
        },
        "id": "gOzeJr4LUU0Y",
        "outputId": "322f5270-2d42-4e98-ad9a-0c78de00c262"
      },
      "outputs": [
        {
          "data": {
            "text/plain": [
              "[Row(Name='Ratul ', Age ='10'),\n",
              " Row(Name='Rasel ', Age ='11'),\n",
              " Row(Name='tahnik ', Age ='10')]"
            ]
          },
          "execution_count": 78,
          "metadata": {},
          "output_type": "execute_result"
        }
      ],
      "source": [
        "df_spark.head(3)"
      ]
    },
    {
      "cell_type": "code",
      "execution_count": null,
      "metadata": {
        "colab": {
          "base_uri": "https://localhost:8080/"
        },
        "id": "Vj0l06OTUZcs",
        "outputId": "faf070fb-fe80-4b09-8840-baaf534c9370"
      },
      "outputs": [
        {
          "name": "stdout",
          "output_type": "stream",
          "text": [
            "root\n",
            " |-- Name: string (nullable = true)\n",
            " |-- Age : string (nullable = true)\n",
            "\n"
          ]
        }
      ],
      "source": [
        "df_spark.printSchema()"
      ]
    },
    {
      "cell_type": "code",
      "execution_count": null,
      "metadata": {
        "id": "_xRjX7a9Ymwg"
      },
      "outputs": [],
      "source": []
    },
    {
      "cell_type": "markdown",
      "metadata": {
        "id": "X1DKyKANVU5v"
      },
      "source": [
        "the printschema is more like info of pandas dataframe **bold text**"
      ]
    },
    {
      "cell_type": "code",
      "execution_count": null,
      "metadata": {
        "id": "LefeSKZETw-3"
      },
      "outputs": [],
      "source": [
        "import pyspark"
      ]
    },
    {
      "cell_type": "code",
      "execution_count": null,
      "metadata": {
        "id": "-RUdGTfeWjv7"
      },
      "outputs": [],
      "source": [
        "from pyspark.sql import SparkSession"
      ]
    },
    {
      "cell_type": "code",
      "execution_count": null,
      "metadata": {
        "id": "uky6-1LOXGci"
      },
      "outputs": [],
      "source": [
        "spark = SparkSession.builder.appName('Dataframe').getOrCreate()"
      ]
    },
    {
      "cell_type": "code",
      "execution_count": null,
      "metadata": {
        "colab": {
          "base_uri": "https://localhost:8080/",
          "height": 221
        },
        "id": "PZ6f0lVUYA1Q",
        "outputId": "b25940fc-1ed6-4faf-dbbc-28374deee1fb"
      },
      "outputs": [
        {
          "data": {
            "text/html": [
              "\n",
              "            <div>\n",
              "                <p><b>SparkSession - in-memory</b></p>\n",
              "                \n",
              "        <div>\n",
              "            <p><b>SparkContext</b></p>\n",
              "\n",
              "            <p><a href=\"http://bdc1772cf5ca:4040\">Spark UI</a></p>\n",
              "\n",
              "            <dl>\n",
              "              <dt>Version</dt>\n",
              "                <dd><code>v3.5.1</code></dd>\n",
              "              <dt>Master</dt>\n",
              "                <dd><code>local</code></dd>\n",
              "              <dt>AppName</dt>\n",
              "                <dd><code>example_app</code></dd>\n",
              "            </dl>\n",
              "        </div>\n",
              "        \n",
              "            </div>\n",
              "        "
            ],
            "text/plain": [
              "<pyspark.sql.session.SparkSession at 0x7f5b45d82380>"
            ]
          },
          "execution_count": 88,
          "metadata": {},
          "output_type": "execute_result"
        }
      ],
      "source": [
        "spark"
      ]
    },
    {
      "cell_type": "code",
      "execution_count": null,
      "metadata": {
        "colab": {
          "base_uri": "https://localhost:8080/"
        },
        "id": "QHUoSIwgYLgM",
        "outputId": "128ed03e-b952-4d41-ba2d-da0ab6cc79fc"
      },
      "outputs": [
        {
          "name": "stdout",
          "output_type": "stream",
          "text": [
            "+---------+----+\n",
            "|     Name|Age |\n",
            "+---------+----+\n",
            "|   Ratul |  10|\n",
            "|   Rasel |  11|\n",
            "|  tahnik |  10|\n",
            "|   samin |  18|\n",
            "|mustafiz |  10|\n",
            "|  nawfel |   9|\n",
            "|  shobuj |   8|\n",
            "|    alvi |   7|\n",
            "|   sohel |   6|\n",
            "|     ovi |   5|\n",
            "|    labib|   4|\n",
            "+---------+----+\n",
            "\n"
          ]
        }
      ],
      "source": [
        "df = spark.read.option('header','True').csv('/content/pyspark data.csv',inferSchema= True)\n",
        "df.show()"
      ]
    },
    {
      "cell_type": "markdown",
      "metadata": {
        "id": "aUs1BwExZIic"
      },
      "source": [
        "the inferschema show the orginacl datatype in the printschema command"
      ]
    },
    {
      "cell_type": "code",
      "execution_count": null,
      "metadata": {
        "colab": {
          "base_uri": "https://localhost:8080/"
        },
        "id": "WOnx9fw6YZ7W",
        "outputId": "c85179f0-df6e-4dab-d58b-148e6ebcd7bc"
      },
      "outputs": [
        {
          "name": "stdout",
          "output_type": "stream",
          "text": [
            "root\n",
            " |-- Name: string (nullable = true)\n",
            " |-- Age : integer (nullable = true)\n",
            "\n"
          ]
        }
      ],
      "source": [
        "df.printSchema()"
      ]
    },
    {
      "cell_type": "markdown",
      "metadata": {
        "id": "jUkb_Q1gfHMm"
      },
      "source": [
        "now the same thing can be domne in other way"
      ]
    },
    {
      "cell_type": "code",
      "execution_count": null,
      "metadata": {
        "colab": {
          "base_uri": "https://localhost:8080/"
        },
        "id": "nqo6odY-fKkF",
        "outputId": "ecffacda-40e1-4eee-ab1e-06effb219263"
      },
      "outputs": [
        {
          "name": "stdout",
          "output_type": "stream",
          "text": [
            "+---------+----+\n",
            "|     Name|Age |\n",
            "+---------+----+\n",
            "|   Ratul |  10|\n",
            "|   Rasel |  11|\n",
            "|  tahnik |  10|\n",
            "|   samin |  18|\n",
            "|mustafiz |  10|\n",
            "|  nawfel |   9|\n",
            "|  shobuj |   8|\n",
            "|    alvi |   7|\n",
            "|   sohel |   6|\n",
            "|     ovi |   5|\n",
            "|    labib|   4|\n",
            "+---------+----+\n",
            "\n"
          ]
        }
      ],
      "source": [
        "df = spark.read.csv('/content/pyspark data.csv',header= True,inferSchema= True)\n",
        "df.show()"
      ]
    },
    {
      "cell_type": "code",
      "execution_count": null,
      "metadata": {
        "colab": {
          "base_uri": "https://localhost:8080/"
        },
        "id": "nb_U9OqmiUJz",
        "outputId": "f635e825-dd83-4330-fc38-1128aba32f89"
      },
      "outputs": [
        {
          "data": {
            "text/plain": [
              "['Name', 'Age ']"
            ]
          },
          "execution_count": 109,
          "metadata": {},
          "output_type": "execute_result"
        }
      ],
      "source": [
        "df.columns"
      ]
    },
    {
      "cell_type": "markdown",
      "metadata": {
        "id": "sZ-IfLDCjo8p"
      },
      "source": [
        "To select Specific column"
      ]
    },
    {
      "cell_type": "code",
      "execution_count": null,
      "metadata": {
        "colab": {
          "base_uri": "https://localhost:8080/"
        },
        "id": "7IfNrLK0YntD",
        "outputId": "18b643b1-0d16-4b86-db70-08023f867a47"
      },
      "outputs": [
        {
          "name": "stdout",
          "output_type": "stream",
          "text": [
            "+---------+\n",
            "|     Name|\n",
            "+---------+\n",
            "|   Ratul |\n",
            "|   Rasel |\n",
            "|  tahnik |\n",
            "|   samin |\n",
            "|mustafiz |\n",
            "|  nawfel |\n",
            "|  shobuj |\n",
            "|    alvi |\n",
            "|   sohel |\n",
            "|     ovi |\n",
            "|    labib|\n",
            "+---------+\n",
            "\n"
          ]
        }
      ],
      "source": [
        "df.select('Name').show()"
      ]
    },
    {
      "cell_type": "markdown",
      "metadata": {
        "id": "aceMGe09kSfR"
      },
      "source": [
        "to Select multiple column"
      ]
    },
    {
      "cell_type": "code",
      "execution_count": null,
      "metadata": {
        "colab": {
          "base_uri": "https://localhost:8080/"
        },
        "id": "Z58rXK49kUg2",
        "outputId": "050c2c66-a1da-451f-931b-bd45b58fe56b"
      },
      "outputs": [
        {
          "name": "stdout",
          "output_type": "stream",
          "text": [
            "+---------+----+\n",
            "|     Name|Age |\n",
            "+---------+----+\n",
            "|   Ratul |  10|\n",
            "|   Rasel |  11|\n",
            "|  tahnik |  10|\n",
            "|   samin |  18|\n",
            "|mustafiz |  10|\n",
            "|  nawfel |   9|\n",
            "|  shobuj |   8|\n",
            "|    alvi |   7|\n",
            "|   sohel |   6|\n",
            "|     ovi |   5|\n",
            "|    labib|   4|\n",
            "+---------+----+\n",
            "\n"
          ]
        }
      ],
      "source": [
        "df.select(['Name', 'Age ']).show()"
      ]
    },
    {
      "cell_type": "markdown",
      "metadata": {
        "id": "OjN5Rux_k-K3"
      },
      "source": [
        "Appling Describe"
      ]
    },
    {
      "cell_type": "code",
      "execution_count": null,
      "metadata": {
        "colab": {
          "base_uri": "https://localhost:8080/"
        },
        "id": "EQBBBT_1lAKL",
        "outputId": "b4165f97-7262-4f53-b3f5-536e000a3f39"
      },
      "outputs": [
        {
          "name": "stdout",
          "output_type": "stream",
          "text": [
            "+-------+-------+-----------------+\n",
            "|summary|   Name|             Age |\n",
            "+-------+-------+-----------------+\n",
            "|  count|     11|               11|\n",
            "|   mean|   NULL|8.909090909090908|\n",
            "| stddev|   NULL|3.780331875762906|\n",
            "|    min| Rasel |                4|\n",
            "|    max|tahnik |               18|\n",
            "+-------+-------+-----------------+\n",
            "\n"
          ]
        }
      ],
      "source": [
        "df.describe().show()"
      ]
    },
    {
      "cell_type": "markdown",
      "metadata": {
        "id": "Svfzc69guIKi"
      },
      "source": [
        "Adding a new Column"
      ]
    },
    {
      "cell_type": "code",
      "execution_count": null,
      "metadata": {
        "id": "f-FlUhCTtEdz"
      },
      "outputs": [],
      "source": [
        "df = df.withColumn('Age After 2 years',df['Age ']+2)"
      ]
    },
    {
      "cell_type": "code",
      "execution_count": null,
      "metadata": {
        "colab": {
          "base_uri": "https://localhost:8080/"
        },
        "id": "3UgOKXGTttPo",
        "outputId": "edf21a89-51c7-4c9d-fb7d-1bf32c6a5814"
      },
      "outputs": [
        {
          "name": "stdout",
          "output_type": "stream",
          "text": [
            "+---------+----+-----------------+\n",
            "|     Name|Age |Age After 2 years|\n",
            "+---------+----+-----------------+\n",
            "|   Ratul |  10|               12|\n",
            "|   Rasel |  11|               13|\n",
            "|  tahnik |  10|               12|\n",
            "|   samin |  18|               20|\n",
            "|mustafiz |  10|               12|\n",
            "|  nawfel |   9|               11|\n",
            "|  shobuj |   8|               10|\n",
            "|    alvi |   7|                9|\n",
            "|   sohel |   6|                8|\n",
            "|     ovi |   5|                7|\n",
            "|    labib|   4|                6|\n",
            "+---------+----+-----------------+\n",
            "\n"
          ]
        }
      ],
      "source": [
        "df.show()"
      ]
    },
    {
      "cell_type": "markdown",
      "metadata": {
        "id": "ji12iaF9Dskx"
      },
      "source": [
        "# Dropping,renaming column & rows"
      ]
    },
    {
      "cell_type": "markdown",
      "metadata": {
        "id": "jDtqYZakuKk-"
      },
      "source": [
        "Dropping a Current Column"
      ]
    },
    {
      "cell_type": "code",
      "execution_count": null,
      "metadata": {
        "colab": {
          "base_uri": "https://localhost:8080/"
        },
        "id": "PjDepTGNuAUX",
        "outputId": "d6e5e702-5624-4988-9409-617249e539e9"
      },
      "outputs": [
        {
          "name": "stdout",
          "output_type": "stream",
          "text": [
            "+---------+----+\n",
            "|     Name|Age |\n",
            "+---------+----+\n",
            "|   Ratul |  10|\n",
            "|   Rasel |  11|\n",
            "|  tahnik |  10|\n",
            "|   samin |  18|\n",
            "|mustafiz |  10|\n",
            "|  nawfel |   9|\n",
            "|  shobuj |   8|\n",
            "|    alvi |   7|\n",
            "|   sohel |   6|\n",
            "|     ovi |   5|\n",
            "|    labib|   4|\n",
            "+---------+----+\n",
            "\n"
          ]
        }
      ],
      "source": [
        "df = df.drop('Age After 2 years')\n",
        "df.show()"
      ]
    },
    {
      "cell_type": "markdown",
      "metadata": {
        "id": "eYGMjwZMuPYv"
      },
      "source": [
        "Renaming Column"
      ]
    },
    {
      "cell_type": "code",
      "execution_count": null,
      "metadata": {
        "colab": {
          "base_uri": "https://localhost:8080/"
        },
        "id": "qTdhN8j5uVfy",
        "outputId": "72e7a197-2e43-437d-9176-a98fe3871eeb"
      },
      "outputs": [
        {
          "name": "stdout",
          "output_type": "stream",
          "text": [
            "+---------+----+\n",
            "| New Name|Age |\n",
            "+---------+----+\n",
            "|   Ratul |  10|\n",
            "|   Rasel |  11|\n",
            "|  tahnik |  10|\n",
            "|   samin |  18|\n",
            "|mustafiz |  10|\n",
            "|  nawfel |   9|\n",
            "|  shobuj |   8|\n",
            "|    alvi |   7|\n",
            "|   sohel |   6|\n",
            "|     ovi |   5|\n",
            "|    labib|   4|\n",
            "+---------+----+\n",
            "\n"
          ]
        }
      ],
      "source": [
        "df.withColumnRenamed('Name','New Name').show()\n"
      ]
    },
    {
      "cell_type": "code",
      "execution_count": null,
      "metadata": {
        "id": "oI8uLd9MucHb"
      },
      "outputs": [],
      "source": [
        "from pyspark.sql import SparkSession\n",
        "spark = SparkSession.builder.appName('Practice').getOrCreate()\n"
      ]
    },
    {
      "cell_type": "code",
      "execution_count": null,
      "metadata": {
        "colab": {
          "base_uri": "https://localhost:8080/"
        },
        "id": "QfqO7ryZuOmw",
        "outputId": "c9fb1aa6-7f04-4a16-cb55-d147f94e0c16"
      },
      "outputs": [
        {
          "name": "stdout",
          "output_type": "stream",
          "text": [
            "+---------+----+-----------+-------+\n",
            "|     Name|Age |Esperience |Salary |\n",
            "+---------+----+-----------+-------+\n",
            "|   Ratul |  10|          1|    100|\n",
            "|   Rasel |  11|          2|    200|\n",
            "|  tahnik |  10|          3|    500|\n",
            "|   samin |  18|          4|    399|\n",
            "|mustafiz |  10|          5|    400|\n",
            "|  nawfel |   9|          6|    200|\n",
            "|  shobuj |   8|          7|    900|\n",
            "|    alvi |   7|          8|    100|\n",
            "|   sohel |   6|          9|     10|\n",
            "|     ovi |   5|         10|     10|\n",
            "|    labib|   4|         11|     30|\n",
            "+---------+----+-----------+-------+\n",
            "\n"
          ]
        }
      ],
      "source": [
        "df = spark.read.csv('/content/pyspark data.csv',header= True, inferSchema= True)\n",
        "df.show()"
      ]
    },
    {
      "cell_type": "code",
      "execution_count": null,
      "metadata": {
        "colab": {
          "base_uri": "https://localhost:8080/"
        },
        "id": "nFYuVc28w2yk",
        "outputId": "6e864cc7-6ed4-45d1-c807-5a8cafef995a"
      },
      "outputs": [
        {
          "name": "stdout",
          "output_type": "stream",
          "text": [
            "root\n",
            " |-- Name: string (nullable = true)\n",
            " |-- Age : integer (nullable = true)\n",
            " |-- Esperience : integer (nullable = true)\n",
            " |-- Salary : integer (nullable = true)\n",
            "\n"
          ]
        }
      ],
      "source": [
        "df.printSchema()"
      ]
    },
    {
      "cell_type": "code",
      "execution_count": null,
      "metadata": {
        "colab": {
          "base_uri": "https://localhost:8080/"
        },
        "id": "Dprgsi-d1g3W",
        "outputId": "a10ed36b-4c0b-41ba-ca49-5ba6483210c2"
      },
      "outputs": [
        {
          "name": "stdout",
          "output_type": "stream",
          "text": [
            "+---------+----+-----------+-------+\n",
            "|     Name|Age |Esperience |Salary |\n",
            "+---------+----+-----------+-------+\n",
            "|   Ratul |  10|          1|    100|\n",
            "|   Rasel |  11|          2|    200|\n",
            "|  tahnik |  10|          3|    500|\n",
            "|   samin |  18|          4|    399|\n",
            "|mustafiz |  10|          5|    400|\n",
            "|  nawfel |   9|          6|    200|\n",
            "|  shobuj |   8|          7|    900|\n",
            "|    alvi |   7|          8|    100|\n",
            "|   sohel |   6|          9|     10|\n",
            "|     ovi |   5|         10|     10|\n",
            "|    labib|   4|         11|     30|\n",
            "+---------+----+-----------+-------+\n",
            "\n"
          ]
        }
      ],
      "source": [
        "df.na.drop().show"
      ]
    },
    {
      "cell_type": "markdown",
      "metadata": {
        "id": "_52fUniq4xlf"
      },
      "source": [
        "how = 'any\" drop if there any any null values on the row"
      ]
    },
    {
      "cell_type": "code",
      "execution_count": null,
      "metadata": {
        "colab": {
          "base_uri": "https://localhost:8080/"
        },
        "id": "7I0ard4z4stf",
        "outputId": "153d2fc7-787d-4fa5-8a4e-5536934090bb"
      },
      "outputs": [
        {
          "name": "stdout",
          "output_type": "stream",
          "text": [
            "+---------+----+-----------+-------+\n",
            "|     Name|Age |Esperience |Salary |\n",
            "+---------+----+-----------+-------+\n",
            "|   Ratul |  10|          1|    100|\n",
            "|   Rasel |  11|          2|    200|\n",
            "|  tahnik |  10|          3|    500|\n",
            "|   samin |  18|          4|    399|\n",
            "|mustafiz |  10|          5|    400|\n",
            "|  nawfel |   9|          6|    200|\n",
            "|  shobuj |   8|          7|    900|\n",
            "|    alvi |   7|          8|    100|\n",
            "|   sohel |   6|          9|     10|\n",
            "|     ovi |   5|         10|     10|\n",
            "|    labib|   4|         11|     30|\n",
            "+---------+----+-----------+-------+\n",
            "\n"
          ]
        }
      ],
      "source": [
        "df.na.drop(how = 'any').show()"
      ]
    },
    {
      "cell_type": "markdown",
      "metadata": {
        "id": "wRK2_SxQ43jN"
      },
      "source": [
        "drops rows , if all the value of the row is null"
      ]
    },
    {
      "cell_type": "code",
      "execution_count": null,
      "metadata": {
        "id": "01LJe42_42I0"
      },
      "outputs": [],
      "source": [
        "df.na.drop(how = 'all').show()"
      ]
    },
    {
      "cell_type": "markdown",
      "metadata": {
        "id": "NSkW2Xkh6J8W"
      },
      "source": [
        "if there is  less than two non null values then the row will be deleted , because of thresh = 2"
      ]
    },
    {
      "cell_type": "code",
      "execution_count": null,
      "metadata": {
        "colab": {
          "base_uri": "https://localhost:8080/"
        },
        "id": "qgufQf5n6BWB",
        "outputId": "7f0a80ec-ca66-43c2-b16e-e9efb91d4721"
      },
      "outputs": [
        {
          "name": "stdout",
          "output_type": "stream",
          "text": [
            "+---------+----+-----------+-------+\n",
            "|     Name|Age |Esperience |Salary |\n",
            "+---------+----+-----------+-------+\n",
            "|   Ratul |  10|          1|    100|\n",
            "|   Rasel |  11|          2|    200|\n",
            "|  tahnik |  10|          3|    500|\n",
            "|   samin |  18|          4|    399|\n",
            "|mustafiz |  10|          5|    400|\n",
            "|  nawfel |   9|          6|    200|\n",
            "|  shobuj |   8|          7|    900|\n",
            "|    alvi |   7|          8|    100|\n",
            "|   sohel |   6|          9|     10|\n",
            "|     ovi |   5|         10|     10|\n",
            "|    labib|   4|         11|     30|\n",
            "+---------+----+-----------+-------+\n",
            "\n"
          ]
        }
      ],
      "source": [
        "df.na.drop(how = 'all',thresh =2).show()"
      ]
    },
    {
      "cell_type": "markdown",
      "metadata": {
        "id": "uAQUSlW26w6A"
      },
      "source": [
        "by creating subset , we can drop null values of only those column\n"
      ]
    },
    {
      "cell_type": "code",
      "execution_count": null,
      "metadata": {
        "colab": {
          "base_uri": "https://localhost:8080/"
        },
        "id": "UlSnb_d06nOa",
        "outputId": "8f171d7f-873f-40be-ebc3-e8cf401bedca"
      },
      "outputs": [
        {
          "name": "stdout",
          "output_type": "stream",
          "text": [
            "+---------+----+-----------+-------+\n",
            "|     Name|Age |Esperience |Salary |\n",
            "+---------+----+-----------+-------+\n",
            "|   Ratul |  10|          1|    100|\n",
            "|   Rasel |  11|          2|    200|\n",
            "|  tahnik |  10|          3|    500|\n",
            "|   samin |  18|          4|    399|\n",
            "|mustafiz |  10|          5|    400|\n",
            "|  nawfel |   9|          6|    200|\n",
            "|  shobuj |   8|          7|    900|\n",
            "|    alvi |   7|          8|    100|\n",
            "|   sohel |   6|          9|     10|\n",
            "|     ovi |   5|         10|     10|\n",
            "|    labib|   4|         11|     30|\n",
            "+---------+----+-----------+-------+\n",
            "\n"
          ]
        }
      ],
      "source": [
        "df.na.drop(how = 'all',subset= ['Salary ']).show()"
      ]
    },
    {
      "cell_type": "markdown",
      "metadata": {
        "id": "JpSsSCbA6_jt"
      },
      "source": [
        "replacing null values with other values"
      ]
    },
    {
      "cell_type": "code",
      "execution_count": null,
      "metadata": {
        "colab": {
          "base_uri": "https://localhost:8080/"
        },
        "id": "jSKoAdhB7CHe",
        "outputId": "8a236f43-29dc-437a-e18c-846910d0c704"
      },
      "outputs": [
        {
          "name": "stdout",
          "output_type": "stream",
          "text": [
            "+---------+----+-----------+-------+\n",
            "|     Name|Age |Esperience |Salary |\n",
            "+---------+----+-----------+-------+\n",
            "|   Ratul |  10|          1|    100|\n",
            "|   Rasel |  11|          2|    200|\n",
            "|  tahnik |  10|          3|    500|\n",
            "|   samin |  18|          4|    399|\n",
            "|mustafiz |  10|          5|    400|\n",
            "|  nawfel |   9|          6|    200|\n",
            "|  shobuj |   8|          7|    900|\n",
            "|    alvi |   7|          8|    100|\n",
            "|   sohel |   6|          9|     10|\n",
            "|     ovi |   5|         10|     10|\n",
            "|    labib|   4|         11|     30|\n",
            "+---------+----+-----------+-------+\n",
            "\n"
          ]
        }
      ],
      "source": [
        "df.na.fill('Missing values').show()"
      ]
    },
    {
      "cell_type": "markdown",
      "metadata": {
        "id": "HYy4zXe8-wSO"
      },
      "source": [
        "it replace the missing value of only 'Name' Column"
      ]
    },
    {
      "cell_type": "code",
      "execution_count": null,
      "metadata": {
        "colab": {
          "base_uri": "https://localhost:8080/"
        },
        "id": "HELTZ1Wl7SEd",
        "outputId": "41daffaa-80d2-4058-a1dc-ad530d44c316"
      },
      "outputs": [
        {
          "name": "stdout",
          "output_type": "stream",
          "text": [
            "+---------+----+-----------+-------+\n",
            "|     Name|Age |Esperience |Salary |\n",
            "+---------+----+-----------+-------+\n",
            "|   Ratul |  10|          1|    100|\n",
            "|   Rasel |  11|          2|    200|\n",
            "|  tahnik |  10|          3|    500|\n",
            "|   samin |  18|          4|    399|\n",
            "|mustafiz |  10|          5|    400|\n",
            "|  nawfel |   9|          6|    200|\n",
            "|  shobuj |   8|          7|    900|\n",
            "|    alvi |   7|          8|    100|\n",
            "|   sohel |   6|          9|     10|\n",
            "|     ovi |   5|         10|     10|\n",
            "|    labib|   4|         11|     30|\n",
            "+---------+----+-----------+-------+\n",
            "\n"
          ]
        }
      ],
      "source": [
        "df.na.fill('Missing values',['Name']).show()"
      ]
    },
    {
      "cell_type": "code",
      "execution_count": null,
      "metadata": {
        "colab": {
          "base_uri": "https://localhost:8080/"
        },
        "id": "sDJchIRe1VYa",
        "outputId": "12a6acaa-fc7d-449b-9d3c-3a297d57990c"
      },
      "outputs": [
        {
          "name": "stdout",
          "output_type": "stream",
          "text": [
            "+----+-----------+-------+\n",
            "|Age |Esperience |Salary |\n",
            "+----+-----------+-------+\n",
            "|  10|          1|    100|\n",
            "|  11|          2|    200|\n",
            "|  10|          3|    500|\n",
            "|  18|          4|    399|\n",
            "|  10|          5|    400|\n",
            "|   9|          6|    200|\n",
            "|   8|          7|    900|\n",
            "|   7|          8|    100|\n",
            "|   6|          9|     10|\n",
            "|   5|         10|     10|\n",
            "|   4|         11|     30|\n",
            "+----+-----------+-------+\n",
            "\n"
          ]
        }
      ],
      "source": [
        "df.drop('Name').show()"
      ]
    },
    {
      "cell_type": "markdown",
      "metadata": {
        "id": "GWIJnSJDEMwj"
      },
      "source": [
        "# filter operation in pyspark"
      ]
    },
    {
      "cell_type": "code",
      "execution_count": null,
      "metadata": {
        "id": "5jgR5h3AER9o"
      },
      "outputs": [],
      "source": [
        "from pyspark.sql import SparkSession"
      ]
    },
    {
      "cell_type": "code",
      "execution_count": null,
      "metadata": {
        "id": "_UUObRJuEt2L"
      },
      "outputs": [],
      "source": [
        "spark = SparkSession.builder.appName('Practise').getOrCreate()"
      ]
    },
    {
      "cell_type": "code",
      "source": [],
      "metadata": {
        "id": "HBoktTZ5vy61"
      },
      "execution_count": null,
      "outputs": []
    },
    {
      "cell_type": "code",
      "execution_count": null,
      "metadata": {
        "id": "N_CGWxidEP9o"
      },
      "outputs": [],
      "source": [
        "df = spark.read.csv('/content/pyspark data_filter.csv',header= True,inferSchema= True)"
      ]
    },
    {
      "cell_type": "code",
      "execution_count": null,
      "metadata": {
        "colab": {
          "base_uri": "https://localhost:8080/"
        },
        "id": "B0brWXbYFUI1",
        "outputId": "cc882195-ab72-4529-fea6-495fbf1cd601"
      },
      "outputs": [
        {
          "output_type": "stream",
          "name": "stdout",
          "text": [
            "+---------+----+-----------+-------+\n",
            "|     Name|Age |Esperience |Salary |\n",
            "+---------+----+-----------+-------+\n",
            "|   Ratul |  10|          1|    100|\n",
            "|   Rasel |  11|          2|    200|\n",
            "|  tahnik |  10|          3|    500|\n",
            "|   samin |  18|          4|    399|\n",
            "|mustafiz |  10|          5|    400|\n",
            "|  nawfel |   9|          6|    200|\n",
            "|  shobuj |   8|          7|    900|\n",
            "|    alvi |   7|          8|    100|\n",
            "|   sohel |   6|          9|     10|\n",
            "|     ovi |   5|         10|     10|\n",
            "|    labib|   4|         11|     30|\n",
            "+---------+----+-----------+-------+\n",
            "\n"
          ]
        }
      ],
      "source": [
        "df.show()"
      ]
    },
    {
      "cell_type": "code",
      "execution_count": null,
      "metadata": {
        "colab": {
          "base_uri": "https://localhost:8080/"
        },
        "id": "YgW7DO7FN1ag",
        "outputId": "d84bd20a-d0a9-4cf9-8ece-93b53c3878c7"
      },
      "outputs": [
        {
          "output_type": "execute_result",
          "data": {
            "text/plain": [
              "['Name', 'Age ', 'Esperience ', 'Salary ']"
            ]
          },
          "metadata": {},
          "execution_count": 39
        }
      ],
      "source": [
        "df.columns"
      ]
    },
    {
      "cell_type": "code",
      "source": [
        "df = df.withColumnRenamed('Age ', 'Age') \\\n",
        "       .withColumnRenamed('Esperience ', 'Experience') \\\n",
        "       .withColumnRenamed('Salary ', 'Salary')"
      ],
      "metadata": {
        "id": "whSUuKtL0SbB"
      },
      "execution_count": null,
      "outputs": []
    },
    {
      "cell_type": "markdown",
      "source": [
        "filtering people whose salary is greater than 100"
      ],
      "metadata": {
        "id": "yJzK_uk_0c2p"
      }
    },
    {
      "cell_type": "code",
      "execution_count": null,
      "metadata": {
        "colab": {
          "base_uri": "https://localhost:8080/"
        },
        "id": "Fnz7p5GTNTM7",
        "outputId": "c70468da-c1c0-47dc-a0c6-eec19e6a168a"
      },
      "outputs": [
        {
          "output_type": "stream",
          "name": "stdout",
          "text": [
            "+---------+---+----------+------+\n",
            "|     Name|Age|Experience|Salary|\n",
            "+---------+---+----------+------+\n",
            "|   Rasel | 11|         2|   200|\n",
            "|  tahnik | 10|         3|   500|\n",
            "|   samin | 18|         4|   399|\n",
            "|mustafiz | 10|         5|   400|\n",
            "|  nawfel |  9|         6|   200|\n",
            "|  shobuj |  8|         7|   900|\n",
            "+---------+---+----------+------+\n",
            "\n"
          ]
        }
      ],
      "source": [
        "df.filter(\"Salary  > 100\").show()"
      ]
    },
    {
      "cell_type": "markdown",
      "source": [
        "filtering with salary but seeiong only name and age column"
      ],
      "metadata": {
        "id": "APBWbkiD0sgJ"
      }
    },
    {
      "cell_type": "code",
      "source": [
        "df.filter(\"Salary  > 100\").select(['Name','Age']).show()"
      ],
      "metadata": {
        "colab": {
          "base_uri": "https://localhost:8080/"
        },
        "id": "YOSg-q0D0lJk",
        "outputId": "c529d4b7-5fe1-432a-a9bc-99eebdad6d0b"
      },
      "execution_count": null,
      "outputs": [
        {
          "output_type": "stream",
          "name": "stdout",
          "text": [
            "+---------+---+\n",
            "|     Name|Age|\n",
            "+---------+---+\n",
            "|   Rasel | 11|\n",
            "|  tahnik | 10|\n",
            "|   samin | 18|\n",
            "|mustafiz | 10|\n",
            "|  nawfel |  9|\n",
            "|  shobuj |  8|\n",
            "+---------+---+\n",
            "\n"
          ]
        }
      ]
    },
    {
      "cell_type": "markdown",
      "source": [
        "the filter can also be applied in this way"
      ],
      "metadata": {
        "id": "jVIia8lR1JUE"
      }
    },
    {
      "cell_type": "code",
      "source": [
        "df.filter(df['Salary']>= 100).show()"
      ],
      "metadata": {
        "colab": {
          "base_uri": "https://localhost:8080/"
        },
        "id": "GjW5R28-0wzI",
        "outputId": "a735c393-82b8-45f7-9916-6fb2d02db59d"
      },
      "execution_count": null,
      "outputs": [
        {
          "output_type": "stream",
          "name": "stdout",
          "text": [
            "+---------+---+----------+------+\n",
            "|     Name|Age|Experience|Salary|\n",
            "+---------+---+----------+------+\n",
            "|   Ratul | 10|         1|   100|\n",
            "|   Rasel | 11|         2|   200|\n",
            "|  tahnik | 10|         3|   500|\n",
            "|   samin | 18|         4|   399|\n",
            "|mustafiz | 10|         5|   400|\n",
            "|  nawfel |  9|         6|   200|\n",
            "|  shobuj |  8|         7|   900|\n",
            "|    alvi |  7|         8|   100|\n",
            "+---------+---+----------+------+\n",
            "\n"
          ]
        }
      ]
    },
    {
      "cell_type": "markdown",
      "source": [
        "filtering with multiple condition **and**\n"
      ],
      "metadata": {
        "id": "rr5AhOUx1cuS"
      }
    },
    {
      "cell_type": "code",
      "source": [
        "df.filter((df['Salary']> 100) & (df['Age'] > 9)).show()"
      ],
      "metadata": {
        "colab": {
          "base_uri": "https://localhost:8080/"
        },
        "id": "REJ-kdiN1OCR",
        "outputId": "9507bcd9-3ea6-4d46-c7bd-664e10941847"
      },
      "execution_count": null,
      "outputs": [
        {
          "output_type": "stream",
          "name": "stdout",
          "text": [
            "+---------+---+----------+------+\n",
            "|     Name|Age|Experience|Salary|\n",
            "+---------+---+----------+------+\n",
            "|   Rasel | 11|         2|   200|\n",
            "|  tahnik | 10|         3|   500|\n",
            "|   samin | 18|         4|   399|\n",
            "|mustafiz | 10|         5|   400|\n",
            "+---------+---+----------+------+\n",
            "\n"
          ]
        }
      ]
    },
    {
      "cell_type": "code",
      "source": [],
      "metadata": {
        "id": "SBZEJhI61jR0"
      },
      "execution_count": null,
      "outputs": []
    },
    {
      "cell_type": "markdown",
      "source": [
        "filtering with multiple condition **or**\n"
      ],
      "metadata": {
        "id": "uYCwHgre1hec"
      }
    },
    {
      "cell_type": "code",
      "source": [
        "df.filter((df['Salary']> 100) | (df['Age'] > 10)).show()"
      ],
      "metadata": {
        "colab": {
          "base_uri": "https://localhost:8080/"
        },
        "id": "gSwjFg4w1kLI",
        "outputId": "04af19e1-c99f-401f-c692-1df7f905e8f7"
      },
      "execution_count": null,
      "outputs": [
        {
          "output_type": "stream",
          "name": "stdout",
          "text": [
            "+---------+---+----------+------+\n",
            "|     Name|Age|Experience|Salary|\n",
            "+---------+---+----------+------+\n",
            "|   Rasel | 11|         2|   200|\n",
            "|  tahnik | 10|         3|   500|\n",
            "|   samin | 18|         4|   399|\n",
            "|mustafiz | 10|         5|   400|\n",
            "|  nawfel |  9|         6|   200|\n",
            "|  shobuj |  8|         7|   900|\n",
            "+---------+---+----------+------+\n",
            "\n"
          ]
        }
      ]
    },
    {
      "cell_type": "markdown",
      "source": [
        "inverse"
      ],
      "metadata": {
        "id": "KRDArDFi10dY"
      }
    },
    {
      "cell_type": "code",
      "source": [
        "df.filter(~(df['Salary']>= 100)).show()"
      ],
      "metadata": {
        "colab": {
          "base_uri": "https://localhost:8080/"
        },
        "id": "esUF5PNL11Yi",
        "outputId": "c90737f4-ecd5-4027-b9e8-00c106ab33dc"
      },
      "execution_count": null,
      "outputs": [
        {
          "output_type": "stream",
          "name": "stdout",
          "text": [
            "+------+---+----------+------+\n",
            "|  Name|Age|Experience|Salary|\n",
            "+------+---+----------+------+\n",
            "|sohel |  6|         9|    10|\n",
            "|  ovi |  5|        10|    10|\n",
            "| labib|  4|        11|    30|\n",
            "+------+---+----------+------+\n",
            "\n"
          ]
        }
      ]
    },
    {
      "cell_type": "code",
      "execution_count": null,
      "metadata": {
        "id": "0T1AKgRPuHQ2"
      },
      "outputs": [],
      "source": []
    },
    {
      "cell_type": "markdown",
      "source": [
        "# Group by and aggrigate"
      ],
      "metadata": {
        "id": "jEqeLpk2q5H3"
      }
    },
    {
      "cell_type": "code",
      "source": [
        "pip install pyspark"
      ],
      "metadata": {
        "colab": {
          "base_uri": "https://localhost:8080/"
        },
        "id": "Iy1hiyB7vM2Z",
        "outputId": "53251dac-1413-4b55-83ee-f32227feb7e5"
      },
      "execution_count": null,
      "outputs": [
        {
          "output_type": "stream",
          "name": "stdout",
          "text": [
            "Collecting pyspark\n",
            "  Downloading pyspark-3.5.1.tar.gz (317.0 MB)\n",
            "\u001b[2K     \u001b[90m━━━━━━━━━━━━━━━━━━━━━━━━━━━━━━━━━━━━━━━━\u001b[0m \u001b[32m317.0/317.0 MB\u001b[0m \u001b[31m3.3 MB/s\u001b[0m eta \u001b[36m0:00:00\u001b[0m\n",
            "\u001b[?25h  Preparing metadata (setup.py) ... \u001b[?25l\u001b[?25hdone\n",
            "Requirement already satisfied: py4j==0.10.9.7 in /usr/local/lib/python3.10/dist-packages (from pyspark) (0.10.9.7)\n",
            "Building wheels for collected packages: pyspark\n",
            "  Building wheel for pyspark (setup.py) ... \u001b[?25l\u001b[?25hdone\n",
            "  Created wheel for pyspark: filename=pyspark-3.5.1-py2.py3-none-any.whl size=317488491 sha256=d9129649d55130df7980f1cc41e86e8cdc661c2b0264a98e9e91928dd4a9623f\n",
            "  Stored in directory: /root/.cache/pip/wheels/80/1d/60/2c256ed38dddce2fdd93be545214a63e02fbd8d74fb0b7f3a6\n",
            "Successfully built pyspark\n",
            "Installing collected packages: pyspark\n",
            "Successfully installed pyspark-3.5.1\n"
          ]
        }
      ]
    },
    {
      "cell_type": "code",
      "source": [
        "from pyspark.sql import SparkSession\n",
        "spark = SparkSession.builder.appName('Practise').getOrCreate()\n"
      ],
      "metadata": {
        "id": "iksNNoiYvC5n"
      },
      "execution_count": null,
      "outputs": []
    },
    {
      "cell_type": "code",
      "source": [
        "df = spark.read.csv(\"/content/pyspark data.csv\",header = True, inferSchema = True)"
      ],
      "metadata": {
        "id": "y8dHHZlLwbCz"
      },
      "execution_count": null,
      "outputs": []
    },
    {
      "cell_type": "code",
      "source": [
        "df.show()"
      ],
      "metadata": {
        "colab": {
          "base_uri": "https://localhost:8080/"
        },
        "id": "f-4SrwHxwtn7",
        "outputId": "4315958c-d91e-4d72-f37f-063e26e77844"
      },
      "execution_count": null,
      "outputs": [
        {
          "output_type": "stream",
          "name": "stdout",
          "text": [
            "+---------+-----------+-----------+-------+\n",
            "|     Name|Department |Esperience |Salary |\n",
            "+---------+-----------+-----------+-------+\n",
            "|   Ratul |        MIS|          1|    100|\n",
            "|   Rasel |        MIS|          2|    200|\n",
            "|  tahnik |        MIS|          3|    500|\n",
            "|   samin |        MIS|          4|    399|\n",
            "|mustafiz |        AIS|          5|    400|\n",
            "|  nawfel |        AIS|          6|    200|\n",
            "|  shobuj |        AIS|          7|    900|\n",
            "|    alvi |        AIS|          8|    100|\n",
            "|   sohel |        FIN|          9|     10|\n",
            "|     ovi |        FIN|         10|    800|\n",
            "|    labib|        FIN|         11|     30|\n",
            "+---------+-----------+-----------+-------+\n",
            "\n"
          ]
        }
      ]
    },
    {
      "cell_type": "code",
      "source": [
        "df.printSchema()"
      ],
      "metadata": {
        "colab": {
          "base_uri": "https://localhost:8080/"
        },
        "id": "YFR41d9zxGOh",
        "outputId": "2c1c695b-9fb5-4ee6-beaf-bffa9e914ff7"
      },
      "execution_count": null,
      "outputs": [
        {
          "output_type": "stream",
          "name": "stdout",
          "text": [
            "root\n",
            " |-- Name: string (nullable = true)\n",
            " |-- Department : string (nullable = true)\n",
            " |-- Esperience : integer (nullable = true)\n",
            " |-- Salary : integer (nullable = true)\n",
            "\n"
          ]
        }
      ]
    },
    {
      "cell_type": "markdown",
      "source": [
        "Group by"
      ],
      "metadata": {
        "id": "jvcG1KTTxjxe"
      }
    },
    {
      "cell_type": "code",
      "source": [
        "df.groupBy('Name').sum().show()"
      ],
      "metadata": {
        "colab": {
          "base_uri": "https://localhost:8080/"
        },
        "id": "sTyxvwhJxL6d",
        "outputId": "1c2eb6d3-c1f2-44be-86e8-98952a70289e"
      },
      "execution_count": null,
      "outputs": [
        {
          "output_type": "stream",
          "name": "stdout",
          "text": [
            "+---------+----------------+------------+\n",
            "|     Name|sum(Esperience )|sum(Salary )|\n",
            "+---------+----------------+------------+\n",
            "|  tahnik |               3|         500|\n",
            "|  nawfel |               6|         200|\n",
            "|    alvi |               8|         100|\n",
            "|     ovi |              10|         800|\n",
            "|   sohel |               9|          10|\n",
            "|  shobuj |               7|         900|\n",
            "|   Ratul |               1|         100|\n",
            "|    labib|              11|          30|\n",
            "|   Rasel |               2|         200|\n",
            "|mustafiz |               5|         400|\n",
            "|   samin |               4|         399|\n",
            "+---------+----------------+------------+\n",
            "\n"
          ]
        }
      ]
    },
    {
      "cell_type": "code",
      "source": [
        "df.groupBy('Name').max().show()"
      ],
      "metadata": {
        "colab": {
          "base_uri": "https://localhost:8080/"
        },
        "id": "_DJoVoNiy3AM",
        "outputId": "cb0792ea-0185-41ce-9cf0-e042ecc88612"
      },
      "execution_count": null,
      "outputs": [
        {
          "output_type": "stream",
          "name": "stdout",
          "text": [
            "+---------+----------------+------------+\n",
            "|     Name|max(Esperience )|max(Salary )|\n",
            "+---------+----------------+------------+\n",
            "|  tahnik |               3|         500|\n",
            "|  nawfel |               6|         200|\n",
            "|    alvi |               8|         100|\n",
            "|     ovi |              10|         800|\n",
            "|   sohel |               9|          10|\n",
            "|  shobuj |               7|         900|\n",
            "|   Ratul |               1|         100|\n",
            "|    labib|              11|          30|\n",
            "|   Rasel |               2|         200|\n",
            "|mustafiz |               5|         400|\n",
            "|   samin |               4|         399|\n",
            "+---------+----------------+------------+\n",
            "\n"
          ]
        }
      ]
    },
    {
      "cell_type": "code",
      "source": [
        "df.groupBy('Name').avg().show()"
      ],
      "metadata": {
        "colab": {
          "base_uri": "https://localhost:8080/"
        },
        "id": "lJPvoQN5zEW6",
        "outputId": "a667cb5d-c72d-451c-fd86-a6330ac1196d"
      },
      "execution_count": null,
      "outputs": [
        {
          "output_type": "stream",
          "name": "stdout",
          "text": [
            "+---------+----------------+------------+\n",
            "|     Name|avg(Esperience )|avg(Salary )|\n",
            "+---------+----------------+------------+\n",
            "|  tahnik |             3.0|       500.0|\n",
            "|  nawfel |             6.0|       200.0|\n",
            "|    alvi |             8.0|       100.0|\n",
            "|     ovi |            10.0|       800.0|\n",
            "|   sohel |             9.0|        10.0|\n",
            "|  shobuj |             7.0|       900.0|\n",
            "|   Ratul |             1.0|       100.0|\n",
            "|    labib|            11.0|        30.0|\n",
            "|   Rasel |             2.0|       200.0|\n",
            "|mustafiz |             5.0|       400.0|\n",
            "|   samin |             4.0|       399.0|\n",
            "+---------+----------------+------------+\n",
            "\n"
          ]
        }
      ]
    },
    {
      "cell_type": "markdown",
      "source": [],
      "metadata": {
        "id": "x364Ly2dyGBc"
      }
    },
    {
      "cell_type": "markdown",
      "source": [
        "group by based on department and finding the sum"
      ],
      "metadata": {
        "id": "JaV_szZkyGJr"
      }
    },
    {
      "cell_type": "code",
      "source": [
        "df.groupBy('Department ').sum().show()"
      ],
      "metadata": {
        "colab": {
          "base_uri": "https://localhost:8080/"
        },
        "id": "HFTEkEWqx9st",
        "outputId": "1dd03a69-c8b0-40c0-dbc6-0fff06e68c24"
      },
      "execution_count": null,
      "outputs": [
        {
          "output_type": "stream",
          "name": "stdout",
          "text": [
            "+-----------+----------------+------------+\n",
            "|Department |sum(Esperience )|sum(Salary )|\n",
            "+-----------+----------------+------------+\n",
            "|        MIS|              10|        1199|\n",
            "|        FIN|              30|         840|\n",
            "|        AIS|              26|        1600|\n",
            "+-----------+----------------+------------+\n",
            "\n"
          ]
        }
      ]
    },
    {
      "cell_type": "markdown",
      "source": [
        "group by based on department and finding the sum"
      ],
      "metadata": {
        "id": "pktsPPfjyPPJ"
      }
    },
    {
      "cell_type": "code",
      "source": [
        "df.groupBy('Department ').mean().show()"
      ],
      "metadata": {
        "colab": {
          "base_uri": "https://localhost:8080/"
        },
        "id": "xn8XI9PCyQjj",
        "outputId": "a6d4d432-7536-4fec-e094-a5c3070a7d4b"
      },
      "execution_count": null,
      "outputs": [
        {
          "output_type": "stream",
          "name": "stdout",
          "text": [
            "+-----------+----------------+------------+\n",
            "|Department |avg(Esperience )|avg(Salary )|\n",
            "+-----------+----------------+------------+\n",
            "|        MIS|             2.5|      299.75|\n",
            "|        FIN|            10.0|       280.0|\n",
            "|        AIS|             6.5|       400.0|\n",
            "+-----------+----------------+------------+\n",
            "\n"
          ]
        }
      ]
    },
    {
      "cell_type": "markdown",
      "source": [
        "Finding the number of employee of each department"
      ],
      "metadata": {
        "id": "SSLb8MohyY5o"
      }
    },
    {
      "cell_type": "code",
      "source": [
        "df.groupBy('Department ').count().show()"
      ],
      "metadata": {
        "colab": {
          "base_uri": "https://localhost:8080/"
        },
        "id": "CJ1umQ-gyWm-",
        "outputId": "3af2b861-bc61-4df8-ec10-1ece026995ce"
      },
      "execution_count": null,
      "outputs": [
        {
          "output_type": "stream",
          "name": "stdout",
          "text": [
            "+-----------+-----+\n",
            "|Department |count|\n",
            "+-----------+-----+\n",
            "|        MIS|    4|\n",
            "|        FIN|    3|\n",
            "|        AIS|    4|\n",
            "+-----------+-----+\n",
            "\n"
          ]
        }
      ]
    },
    {
      "cell_type": "markdown",
      "source": [
        "aggrigate of salary"
      ],
      "metadata": {
        "id": "F6-1XnhaykiQ"
      }
    },
    {
      "cell_type": "code",
      "source": [
        "df.agg({'Salary ': 'sum'}).show()"
      ],
      "metadata": {
        "colab": {
          "base_uri": "https://localhost:8080/"
        },
        "id": "xZhwJLaXymaL",
        "outputId": "93cc99e4-7d48-48e7-f709-cf380d302d2d"
      },
      "execution_count": null,
      "outputs": [
        {
          "output_type": "stream",
          "name": "stdout",
          "text": [
            "+------------+\n",
            "|sum(Salary )|\n",
            "+------------+\n",
            "|        3639|\n",
            "+------------+\n",
            "\n"
          ]
        }
      ]
    },
    {
      "cell_type": "markdown",
      "source": [
        "# NPysmark and ml LR"
      ],
      "metadata": {
        "id": "FkG-bFr_1_-B"
      }
    },
    {
      "cell_type": "code",
      "source": [
        "pip install pyspark"
      ],
      "metadata": {
        "colab": {
          "base_uri": "https://localhost:8080/"
        },
        "id": "ncI642bqCvkc",
        "outputId": "c835b035-805b-499e-dc11-2ab0a67aba29"
      },
      "execution_count": 2,
      "outputs": [
        {
          "output_type": "stream",
          "name": "stdout",
          "text": [
            "Collecting pyspark\n",
            "  Downloading pyspark-3.5.1.tar.gz (317.0 MB)\n",
            "\u001b[2K     \u001b[90m━━━━━━━━━━━━━━━━━━━━━━━━━━━━━━━━━━━━━━━━\u001b[0m \u001b[32m317.0/317.0 MB\u001b[0m \u001b[31m3.4 MB/s\u001b[0m eta \u001b[36m0:00:00\u001b[0m\n",
            "\u001b[?25h  Preparing metadata (setup.py) ... \u001b[?25l\u001b[?25hdone\n",
            "Requirement already satisfied: py4j==0.10.9.7 in /usr/local/lib/python3.10/dist-packages (from pyspark) (0.10.9.7)\n",
            "Building wheels for collected packages: pyspark\n",
            "  Building wheel for pyspark (setup.py) ... \u001b[?25l\u001b[?25hdone\n",
            "  Created wheel for pyspark: filename=pyspark-3.5.1-py2.py3-none-any.whl size=317488491 sha256=1a2aee8053c2ab5368fa66bf8e0529a9ce1f652d7c3cbbd5255007b090d138aa\n",
            "  Stored in directory: /root/.cache/pip/wheels/80/1d/60/2c256ed38dddce2fdd93be545214a63e02fbd8d74fb0b7f3a6\n",
            "Successfully built pyspark\n",
            "Installing collected packages: pyspark\n",
            "Successfully installed pyspark-3.5.1\n"
          ]
        }
      ]
    },
    {
      "cell_type": "code",
      "source": [
        "from pyspark.sql import SparkSession"
      ],
      "metadata": {
        "id": "NchIEYl0CmLO"
      },
      "execution_count": 3,
      "outputs": []
    },
    {
      "cell_type": "code",
      "source": [
        "spark = SparkSession.builder.appName('Practise').getOrCreate()"
      ],
      "metadata": {
        "id": "op1ZrPe4FSub"
      },
      "execution_count": 4,
      "outputs": []
    },
    {
      "cell_type": "code",
      "source": [
        "df= spark.read.csv('/content/pyspark data_filter.csv',header= True,inferSchema=True)"
      ],
      "metadata": {
        "id": "_bpHKL3BFeYQ"
      },
      "execution_count": 5,
      "outputs": []
    },
    {
      "cell_type": "code",
      "source": [
        "df.show()"
      ],
      "metadata": {
        "colab": {
          "base_uri": "https://localhost:8080/"
        },
        "id": "-3enmdlPFsrA",
        "outputId": "772916a2-7be7-4cea-b14f-9fe889f1258e"
      },
      "execution_count": 6,
      "outputs": [
        {
          "output_type": "stream",
          "name": "stdout",
          "text": [
            "+---------+----+-----------+-------+\n",
            "|     Name|Age |Esperience |Salary |\n",
            "+---------+----+-----------+-------+\n",
            "|   Ratul |  10|          1|    100|\n",
            "|   Rasel |  11|          2|    200|\n",
            "|  tahnik |  10|          3|    500|\n",
            "|   samin |  18|          4|    399|\n",
            "|mustafiz |  10|          5|    400|\n",
            "|  nawfel |   9|          6|    200|\n",
            "|  shobuj |   8|          7|    900|\n",
            "|    alvi |   7|          8|    100|\n",
            "|   sohel |   6|          9|     10|\n",
            "|     ovi |   5|         10|     10|\n",
            "|    labib|   4|         11|     30|\n",
            "+---------+----+-----------+-------+\n",
            "\n"
          ]
        }
      ]
    },
    {
      "cell_type": "code",
      "source": [],
      "metadata": {
        "id": "1szKIayEGGkA"
      },
      "execution_count": null,
      "outputs": []
    },
    {
      "cell_type": "code",
      "source": [
        "df.printSchema()"
      ],
      "metadata": {
        "colab": {
          "base_uri": "https://localhost:8080/"
        },
        "id": "LoN6_VHKGDNw",
        "outputId": "75c904df-d753-494b-d839-cdb03205803d"
      },
      "execution_count": 7,
      "outputs": [
        {
          "output_type": "stream",
          "name": "stdout",
          "text": [
            "root\n",
            " |-- Name: string (nullable = true)\n",
            " |-- Age : integer (nullable = true)\n",
            " |-- Esperience : integer (nullable = true)\n",
            " |-- Salary : integer (nullable = true)\n",
            "\n"
          ]
        }
      ]
    }
  ],
  "metadata": {
    "colab": {
      "provenance": []
    },
    "kernelspec": {
      "display_name": "Python 3",
      "name": "python3"
    },
    "language_info": {
      "name": "python"
    }
  },
  "nbformat": 4,
  "nbformat_minor": 0
}