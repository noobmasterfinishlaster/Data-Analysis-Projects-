{
  "nbformat": 4,
  "nbformat_minor": 0,
  "metadata": {
    "colab": {
      "provenance": [],
      "toc_visible": true
    },
    "kernelspec": {
      "name": "python3",
      "display_name": "Python 3"
    },
    "language_info": {
      "name": "python"
    }
  },
  "cells": [
    {
      "cell_type": "code",
      "execution_count": null,
      "metadata": {
        "colab": {
          "base_uri": "https://localhost:8080/"
        },
        "id": "KFC_CexIQh1V",
        "outputId": "4075196e-515a-4760-8bce-a4c35616c575"
      },
      "outputs": [
        {
          "output_type": "stream",
          "name": "stdout",
          "text": [
            "I am gonna be a Pythonist.\n"
          ]
        }
      ],
      "source": [
        "print(\"I am gonna be a Pythonist.\")"
      ]
    },
    {
      "cell_type": "markdown",
      "source": [
        "# Day 1 (datatype and others)\n"
      ],
      "metadata": {
        "id": "Dbfn7ZrJTg5M"
      }
    },
    {
      "cell_type": "markdown",
      "source": [
        "**Day1**"
      ],
      "metadata": {
        "id": "qQCFQYvkQs3Y"
      }
    },
    {
      "cell_type": "code",
      "source": [
        "print('My Name is Ratul and this is my first line on python')"
      ],
      "metadata": {
        "colab": {
          "base_uri": "https://localhost:8080/"
        },
        "id": "F7vac-2TQviH",
        "outputId": "ba05205a-39bf-4389-fe0a-5306f1f659b1"
      },
      "execution_count": null,
      "outputs": [
        {
          "output_type": "stream",
          "name": "stdout",
          "text": [
            "My Name is Ratul and this is my first line on python\n"
          ]
        }
      ]
    },
    {
      "cell_type": "code",
      "source": [
        "print(\"My name is ratul, it's 1st january of 2024 and i am still an intern at rokomari\")"
      ],
      "metadata": {
        "colab": {
          "base_uri": "https://localhost:8080/"
        },
        "id": "dsDlGxOYQ3WX",
        "outputId": "ad54f270-8ebe-48f1-938d-89ce030a771a"
      },
      "execution_count": null,
      "outputs": [
        {
          "output_type": "stream",
          "name": "stdout",
          "text": [
            "My name is ratul, it's 1st january of 2024 and i am still an intern at rokomari\n"
          ]
        }
      ]
    },
    {
      "cell_type": "code",
      "source": [
        "a = 3+4\n",
        "a"
      ],
      "metadata": {
        "colab": {
          "base_uri": "https://localhost:8080/"
        },
        "id": "8QiOq6ymRW-5",
        "outputId": "b8f8bc2b-406a-4297-8e88-e07cb7c2832b"
      },
      "execution_count": null,
      "outputs": [
        {
          "output_type": "execute_result",
          "data": {
            "text/plain": [
              "7"
            ]
          },
          "metadata": {},
          "execution_count": 3
        }
      ]
    },
    {
      "cell_type": "code",
      "source": [
        "a = 3+4\n",
        "print(a)"
      ],
      "metadata": {
        "colab": {
          "base_uri": "https://localhost:8080/"
        },
        "id": "LyfBiSKnRabf",
        "outputId": "4c321940-350c-4021-d3b1-78e06394d207"
      },
      "execution_count": null,
      "outputs": [
        {
          "output_type": "stream",
          "name": "stdout",
          "text": [
            "7\n"
          ]
        }
      ]
    },
    {
      "cell_type": "code",
      "source": [
        "a = 5\n",
        "a"
      ],
      "metadata": {
        "colab": {
          "base_uri": "https://localhost:8080/"
        },
        "id": "ID_p3nyDRdzI",
        "outputId": "3fc7f52b-a4bd-439a-f595-223186d42cb0"
      },
      "execution_count": null,
      "outputs": [
        {
          "output_type": "execute_result",
          "data": {
            "text/plain": [
              "5"
            ]
          },
          "metadata": {},
          "execution_count": 9
        }
      ]
    },
    {
      "cell_type": "code",
      "source": [
        "b= 5.4\n",
        "b\n",
        "type(b)"
      ],
      "metadata": {
        "colab": {
          "base_uri": "https://localhost:8080/"
        },
        "id": "Q4YjwBJTRi8z",
        "outputId": "0f58a04f-4d4c-40c3-ff12-91410927bc02"
      },
      "execution_count": null,
      "outputs": [
        {
          "output_type": "execute_result",
          "data": {
            "text/plain": [
              "float"
            ]
          },
          "metadata": {},
          "execution_count": 6
        }
      ]
    },
    {
      "cell_type": "code",
      "source": [
        "c = a+b\n",
        "print(c)"
      ],
      "metadata": {
        "colab": {
          "base_uri": "https://localhost:8080/"
        },
        "id": "6pR2afQgRlGW",
        "outputId": "4d262a2e-a528-4eb0-99d3-b3130e1377ab"
      },
      "execution_count": null,
      "outputs": [
        {
          "output_type": "stream",
          "name": "stdout",
          "text": [
            "12.4\n"
          ]
        }
      ]
    },
    {
      "cell_type": "code",
      "source": [
        "type(c)"
      ],
      "metadata": {
        "colab": {
          "base_uri": "https://localhost:8080/"
        },
        "id": "rYuhAqC6Rqnn",
        "outputId": "4b120eda-db72-4f1c-d2e0-35d7d74b950b"
      },
      "execution_count": null,
      "outputs": [
        {
          "output_type": "execute_result",
          "data": {
            "text/plain": [
              "float"
            ]
          },
          "metadata": {},
          "execution_count": 8
        }
      ]
    },
    {
      "cell_type": "code",
      "source": [
        "type(a)"
      ],
      "metadata": {
        "colab": {
          "base_uri": "https://localhost:8080/"
        },
        "id": "2JaAJROFV4QV",
        "outputId": "2906ea5e-9ec5-41ac-fb39-6fd5b9031887"
      },
      "execution_count": null,
      "outputs": [
        {
          "output_type": "execute_result",
          "data": {
            "text/plain": [
              "int"
            ]
          },
          "metadata": {},
          "execution_count": 9
        }
      ]
    },
    {
      "cell_type": "code",
      "source": [
        "type(c)"
      ],
      "metadata": {
        "colab": {
          "base_uri": "https://localhost:8080/"
        },
        "id": "7FuRnJurV55Q",
        "outputId": "617ea8e6-dc49-455d-a33a-8fa608eff04a"
      },
      "execution_count": null,
      "outputs": [
        {
          "output_type": "execute_result",
          "data": {
            "text/plain": [
              "float"
            ]
          },
          "metadata": {},
          "execution_count": 10
        }
      ]
    },
    {
      "cell_type": "code",
      "source": [
        "d = 'Hello World'"
      ],
      "metadata": {
        "id": "ekitHwaeWTDT"
      },
      "execution_count": null,
      "outputs": []
    },
    {
      "cell_type": "code",
      "source": [
        "type(d)"
      ],
      "metadata": {
        "colab": {
          "base_uri": "https://localhost:8080/"
        },
        "id": "Gq5jl9e8WrYN",
        "outputId": "fd2aa61e-be08-43c8-f44c-6bc8b28796ae"
      },
      "execution_count": null,
      "outputs": [
        {
          "output_type": "execute_result",
          "data": {
            "text/plain": [
              "str"
            ]
          },
          "metadata": {},
          "execution_count": 19
        }
      ]
    },
    {
      "cell_type": "code",
      "source": [
        "d = True\n",
        "type(d)"
      ],
      "metadata": {
        "colab": {
          "base_uri": "https://localhost:8080/"
        },
        "id": "YDz_knz_Wtjz",
        "outputId": "486618a4-9584-4d77-db1e-108a238de42d"
      },
      "execution_count": null,
      "outputs": [
        {
          "output_type": "execute_result",
          "data": {
            "text/plain": [
              "bool"
            ]
          },
          "metadata": {},
          "execution_count": 12
        }
      ]
    },
    {
      "cell_type": "code",
      "source": [
        "a=input()\n",
        "b= input()\n",
        "print('The value of a  is:',a,type(a))\n",
        "print('The value of b is:',b,type(a))"
      ],
      "metadata": {
        "colab": {
          "base_uri": "https://localhost:8080/"
        },
        "id": "-JmVfLBaYcQI",
        "outputId": "845ad709-764a-4aaa-f5b3-e0b34397e631"
      },
      "execution_count": null,
      "outputs": [
        {
          "output_type": "stream",
          "name": "stdout",
          "text": [
            "6\n",
            "6\n",
            "The value of a  is: 6 <class 'str'>\n",
            "The value of b is: 6 <class 'str'>\n"
          ]
        }
      ]
    },
    {
      "cell_type": "code",
      "source": [
        "c= a * b\n",
        "c"
      ],
      "metadata": {
        "colab": {
          "base_uri": "https://localhost:8080/",
          "height": 193
        },
        "id": "P4PRESwuY6Pc",
        "outputId": "7f5a0861-fdfd-4486-85a6-3fe185b47cd9"
      },
      "execution_count": null,
      "outputs": [
        {
          "output_type": "error",
          "ename": "TypeError",
          "evalue": "can't multiply sequence by non-int of type 'str'",
          "traceback": [
            "\u001b[0;31m---------------------------------------------------------------------------\u001b[0m",
            "\u001b[0;31mTypeError\u001b[0m                                 Traceback (most recent call last)",
            "\u001b[0;32m<ipython-input-16-ae063b7d34e6>\u001b[0m in \u001b[0;36m<cell line: 1>\u001b[0;34m()\u001b[0m\n\u001b[0;32m----> 1\u001b[0;31m \u001b[0mc\u001b[0m\u001b[0;34m=\u001b[0m \u001b[0ma\u001b[0m \u001b[0;34m*\u001b[0m \u001b[0mb\u001b[0m\u001b[0;34m\u001b[0m\u001b[0;34m\u001b[0m\u001b[0m\n\u001b[0m\u001b[1;32m      2\u001b[0m \u001b[0mc\u001b[0m\u001b[0;34m\u001b[0m\u001b[0;34m\u001b[0m\u001b[0m\n",
            "\u001b[0;31mTypeError\u001b[0m: can't multiply sequence by non-int of type 'str'"
          ]
        }
      ]
    },
    {
      "cell_type": "code",
      "source": [
        "a=int(input())\n",
        "b= int(input())\n",
        "print('The value of a  is:',a,type(a))\n",
        "print('The value of b is:',b,type(a))"
      ],
      "metadata": {
        "colab": {
          "base_uri": "https://localhost:8080/"
        },
        "id": "jHVmGarSaEsA",
        "outputId": "a36dadbd-8826-45c3-f7fd-2d5ddbd83c33"
      },
      "execution_count": null,
      "outputs": [
        {
          "output_type": "stream",
          "name": "stdout",
          "text": [
            "5\n",
            "5\n",
            "The value of a  is: 5 <class 'int'>\n",
            "The value of b is: 5 <class 'int'>\n"
          ]
        }
      ]
    },
    {
      "cell_type": "code",
      "source": [
        "c= a * b\n",
        "c"
      ],
      "metadata": {
        "colab": {
          "base_uri": "https://localhost:8080/"
        },
        "id": "sVK2wy3GaLCE",
        "outputId": "4a0d4106-50d6-4ba8-9c6d-69641fac9b82"
      },
      "execution_count": null,
      "outputs": [
        {
          "output_type": "execute_result",
          "data": {
            "text/plain": [
              "25"
            ]
          },
          "metadata": {},
          "execution_count": 19
        }
      ]
    },
    {
      "cell_type": "code",
      "source": [
        "# type casting\n",
        "a = '5'\n",
        "b = '7'\n",
        "sum = a+b\n",
        "sum"
      ],
      "metadata": {
        "colab": {
          "base_uri": "https://localhost:8080/",
          "height": 35
        },
        "id": "bT9XbOvXb9Lb",
        "outputId": "cca26470-f359-45f6-fcb6-a9b91b312212"
      },
      "execution_count": null,
      "outputs": [
        {
          "output_type": "execute_result",
          "data": {
            "text/plain": [
              "'57'"
            ],
            "application/vnd.google.colaboratory.intrinsic+json": {
              "type": "string"
            }
          },
          "metadata": {},
          "execution_count": 24
        }
      ]
    },
    {
      "cell_type": "code",
      "source": [
        "sum = int(a)+ int(b)\n",
        "sum"
      ],
      "metadata": {
        "colab": {
          "base_uri": "https://localhost:8080/"
        },
        "id": "4H3SDdQdjpFZ",
        "outputId": "a60e9915-100a-4db9-ddae-a16f2d35c5a6"
      },
      "execution_count": null,
      "outputs": [
        {
          "output_type": "execute_result",
          "data": {
            "text/plain": [
              "12"
            ]
          },
          "metadata": {},
          "execution_count": 25
        }
      ]
    },
    {
      "cell_type": "code",
      "source": [
        "a,b = input().split()\n",
        "print('The Value of a and b are:',a,'and',b)"
      ],
      "metadata": {
        "colab": {
          "base_uri": "https://localhost:8080/"
        },
        "id": "fWUSXWSjalpO",
        "outputId": "088b944c-6e21-43c3-8733-851971a70589"
      },
      "execution_count": null,
      "outputs": [
        {
          "output_type": "stream",
          "name": "stdout",
          "text": [
            "5 6 \n",
            "The Value of a and b are: 5 and 6\n"
          ]
        }
      ]
    },
    {
      "cell_type": "code",
      "source": [
        "type(a)"
      ],
      "metadata": {
        "colab": {
          "base_uri": "https://localhost:8080/"
        },
        "id": "I_nG7ssHbgI7",
        "outputId": "9d3e9514-ee8b-4995-b25e-4de5ef38c455"
      },
      "execution_count": null,
      "outputs": [
        {
          "output_type": "execute_result",
          "data": {
            "text/plain": [
              "str"
            ]
          },
          "metadata": {},
          "execution_count": 41
        }
      ]
    },
    {
      "cell_type": "code",
      "source": [
        "a =int(a)\n",
        "b= int(b)\n",
        "c = a+b\n",
        "c"
      ],
      "metadata": {
        "colab": {
          "base_uri": "https://localhost:8080/"
        },
        "id": "rcd9W9udcGLr",
        "outputId": "a06dc053-374c-4a49-8746-7edc740c6c77"
      },
      "execution_count": null,
      "outputs": [
        {
          "output_type": "execute_result",
          "data": {
            "text/plain": [
              "11"
            ]
          },
          "metadata": {},
          "execution_count": 48
        }
      ]
    },
    {
      "cell_type": "code",
      "source": [
        "name = input(\"Insert Your Name:\")\n",
        "print(\"Hello\",name)"
      ],
      "metadata": {
        "colab": {
          "base_uri": "https://localhost:8080/"
        },
        "id": "v2RJn-rUcZnn",
        "outputId": "8e80ecc3-5d48-49a7-eaee-73801bb86079"
      },
      "execution_count": null,
      "outputs": [
        {
          "output_type": "stream",
          "name": "stdout",
          "text": [
            "Insert Your Name:Ratul\n",
            "Hello Ratul\n"
          ]
        }
      ]
    },
    {
      "cell_type": "code",
      "source": [
        "age = input(\"Insert Your Age\")\n",
        "print(\"Hello\",name,\"Your Age is\",age)"
      ],
      "metadata": {
        "colab": {
          "base_uri": "https://localhost:8080/"
        },
        "id": "sRPqkJFCdNoI",
        "outputId": "09d37983-1225-4455-e202-72d6076b582b"
      },
      "execution_count": null,
      "outputs": [
        {
          "output_type": "stream",
          "name": "stdout",
          "text": [
            "Insert Your Age23\n",
            "Hello Ratul Your Age is 23\n"
          ]
        }
      ]
    },
    {
      "cell_type": "code",
      "source": [
        "y = list(name)\n",
        "print(y)"
      ],
      "metadata": {
        "colab": {
          "base_uri": "https://localhost:8080/"
        },
        "id": "KgGWw7o3d15A",
        "outputId": "83064c68-4784-4217-d0b1-72b9b4fce4b2"
      },
      "execution_count": null,
      "outputs": [
        {
          "output_type": "stream",
          "name": "stdout",
          "text": [
            "['R', 'a', 't', 'u', 'l']\n"
          ]
        }
      ]
    },
    {
      "cell_type": "code",
      "source": [
        "number = 3.1416\n",
        "formattedNumber = format(number, '.2f')\n",
        "print(formattedNumber)\n"
      ],
      "metadata": {
        "colab": {
          "base_uri": "https://localhost:8080/"
        },
        "id": "hBXJJ2ligwP_",
        "outputId": "084bf426-566a-4b55-e5ba-93f14108f588"
      },
      "execution_count": null,
      "outputs": [
        {
          "output_type": "stream",
          "name": "stdout",
          "text": [
            "3.14\n"
          ]
        }
      ]
    },
    {
      "cell_type": "code",
      "source": [
        "x =1\n",
        "y = 2\n",
        "print('Before swap x:',x)\n",
        "print('After Swap y:',y)\n",
        "temp = x\n",
        "x = y\n",
        "y = temp\n",
        "print ('After Swap x:',x)\n",
        "print('After Saap y',y)\n",
        "\n"
      ],
      "metadata": {
        "colab": {
          "base_uri": "https://localhost:8080/"
        },
        "id": "yKMNcZPjhk0T",
        "outputId": "5ba92514-c8f2-42cd-81d2-d095b8a0ef45"
      },
      "execution_count": null,
      "outputs": [
        {
          "output_type": "stream",
          "name": "stdout",
          "text": [
            "Before swap x: 1\n",
            "After Swap y: 2\n",
            "After Swap x: 2\n",
            "After Saap y 1\n"
          ]
        }
      ]
    },
    {
      "cell_type": "code",
      "source": [
        "x = 5\n",
        "y = 6\n",
        "print('Before Swap')\n",
        "print (\"x\",x)\n",
        "print(\"y\",y)\n",
        "x,y = y,x\n",
        "print(\"after Swap \")\n",
        "print(\"x\",x)\n",
        "print(\"y\",y)"
      ],
      "metadata": {
        "colab": {
          "base_uri": "https://localhost:8080/"
        },
        "id": "NfIkx7jvh_-x",
        "outputId": "48e47d66-d6cc-40df-ee06-c3780f83b443"
      },
      "execution_count": null,
      "outputs": [
        {
          "output_type": "stream",
          "name": "stdout",
          "text": [
            "Before Swap\n",
            "x 5\n",
            "y 6\n",
            "after Swap \n",
            "x 6\n",
            "y 5\n"
          ]
        }
      ]
    },
    {
      "cell_type": "code",
      "source": [
        "formatted_string = \"name: {},age:{}\".format(name,age)\n",
        "print(formatted_string)"
      ],
      "metadata": {
        "colab": {
          "base_uri": "https://localhost:8080/"
        },
        "id": "lXv3zfKeipk1",
        "outputId": "9da06d6f-eb34-408e-dc25-61d12ec15443"
      },
      "execution_count": null,
      "outputs": [
        {
          "output_type": "stream",
          "name": "stdout",
          "text": [
            "name: Ratul,age:23\n"
          ]
        }
      ]
    },
    {
      "cell_type": "code",
      "source": [
        "name =\"Ratul\"\n",
        "age = 24\n",
        "formatted_string = \"name: {},age:{}\".format(name,age)\n",
        "print(formatted_string)"
      ],
      "metadata": {
        "colab": {
          "base_uri": "https://localhost:8080/"
        },
        "id": "Famacf3vi8ug",
        "outputId": "2a6e5388-fc46-4939-faf1-862b6ef1d2f1"
      },
      "execution_count": null,
      "outputs": [
        {
          "output_type": "stream",
          "name": "stdout",
          "text": [
            "name: Ratul,age:24\n"
          ]
        }
      ]
    },
    {
      "cell_type": "code",
      "source": [
        "text = \"Hello,Worlrd!\"\n",
        "length = len(text)\n",
        "print(\"String Length\",length)\n",
        "#To replace any element of a string\n",
        "new_text = text.replace(\"Hello\",\"Hi\")\n",
        "print('New_string',new_text)\n",
        "# to cut the elemets of String\n",
        "stripped_text = text.strip(\"!\")\n",
        "print(stripped_text)\n",
        "#to split the element of string\n",
        "split_word= text.split(\",\")\n",
        "print(split_word)\n",
        "\n"
      ],
      "metadata": {
        "colab": {
          "base_uri": "https://localhost:8080/"
        },
        "id": "eXo4AG3VjYNb",
        "outputId": "d184bc86-162c-4a52-bfec-77e4d1263232"
      },
      "execution_count": null,
      "outputs": [
        {
          "output_type": "stream",
          "name": "stdout",
          "text": [
            "String Length 13\n",
            "New_string Hi,Worlrd!\n",
            "Hello,Worlrd\n",
            "['Hello', 'Worlrd!']\n"
          ]
        }
      ]
    },
    {
      "cell_type": "markdown",
      "source": [
        "# Day 2 (Opertor, String)"
      ],
      "metadata": {
        "id": "y9AA5JCOTdCN"
      }
    },
    {
      "cell_type": "markdown",
      "source": [
        "Boolean"
      ],
      "metadata": {
        "id": "MD9GUKEjRjRT"
      }
    },
    {
      "cell_type": "code",
      "source": [
        "print(2 == 2)\n",
        "print(2 == 3)\n",
        "print(2 >= 3)\n",
        "print(2 <= 3)\n",
        "\n"
      ],
      "metadata": {
        "colab": {
          "base_uri": "https://localhost:8080/"
        },
        "id": "rdgFwayfRIrG",
        "outputId": "92d42154-fcf5-4b12-99e9-a49c4d96a76c"
      },
      "execution_count": null,
      "outputs": [
        {
          "output_type": "stream",
          "name": "stdout",
          "text": [
            "True\n",
            "False\n",
            "False\n",
            "True\n"
          ]
        }
      ]
    },
    {
      "cell_type": "markdown",
      "source": [
        "Assign Operator"
      ],
      "metadata": {
        "id": "tYfvzLOuRkOI"
      }
    },
    {
      "cell_type": "code",
      "source": [
        "a = 5\n",
        "print(a)\n",
        "a +=2\n",
        "print(a)\n"
      ],
      "metadata": {
        "colab": {
          "base_uri": "https://localhost:8080/"
        },
        "id": "fo1mSU54RoSe",
        "outputId": "43e4b696-00a2-44a2-dbf8-e1ee1b2064a9"
      },
      "execution_count": null,
      "outputs": [
        {
          "output_type": "stream",
          "name": "stdout",
          "text": [
            "5\n",
            "7\n"
          ]
        }
      ]
    },
    {
      "cell_type": "code",
      "source": [
        "print(2 ==2 and 3==3)\n",
        "print(2==2 and 3==2)\n",
        "print(2 == 2 or 3 == 4)\n",
        "print(2 == 3 or 3 == 4)"
      ],
      "metadata": {
        "colab": {
          "base_uri": "https://localhost:8080/"
        },
        "id": "KNHaeuICTCex",
        "outputId": "58a284f6-ba11-4d3d-a775-b2ee7b9c3b7a"
      },
      "execution_count": null,
      "outputs": [
        {
          "output_type": "stream",
          "name": "stdout",
          "text": [
            "True\n",
            "False\n",
            "True\n",
            "False\n"
          ]
        }
      ]
    },
    {
      "cell_type": "markdown",
      "source": [
        "Membership Operator"
      ],
      "metadata": {
        "id": "UNG9mI1gV6SE"
      }
    },
    {
      "cell_type": "code",
      "source": [
        "a = 'bangladesh'\n",
        "b = 'desh'\n",
        "b in a"
      ],
      "metadata": {
        "colab": {
          "base_uri": "https://localhost:8080/"
        },
        "id": "DTbWBhnNV7jv",
        "outputId": "b5f6e55b-943d-4e44-c48e-3f6c72957671"
      },
      "execution_count": null,
      "outputs": [
        {
          "output_type": "execute_result",
          "data": {
            "text/plain": [
              "True"
            ]
          },
          "metadata": {},
          "execution_count": 25
        }
      ]
    },
    {
      "cell_type": "code",
      "source": [
        "a in b"
      ],
      "metadata": {
        "colab": {
          "base_uri": "https://localhost:8080/"
        },
        "id": "Ec4ofRJLX3xt",
        "outputId": "31294844-c78e-48a1-f2de-a5d79e77827b"
      },
      "execution_count": null,
      "outputs": [
        {
          "output_type": "execute_result",
          "data": {
            "text/plain": [
              "False"
            ]
          },
          "metadata": {},
          "execution_count": 18
        }
      ]
    },
    {
      "cell_type": "code",
      "source": [
        "a = 'bangladesh'\n",
        "b = 'in'\n",
        "b in a"
      ],
      "metadata": {
        "colab": {
          "base_uri": "https://localhost:8080/"
        },
        "id": "q5oVAKhEW5OB",
        "outputId": "dff55551-dc2b-4f6f-8312-329e748935b3"
      },
      "execution_count": null,
      "outputs": [
        {
          "output_type": "execute_result",
          "data": {
            "text/plain": [
              "False"
            ]
          },
          "metadata": {},
          "execution_count": 24
        }
      ]
    },
    {
      "cell_type": "code",
      "source": [
        "a = 1\n",
        "b = 1\n",
        "b is a\n"
      ],
      "metadata": {
        "colab": {
          "base_uri": "https://localhost:8080/"
        },
        "id": "lj9JqzFVY6zP",
        "outputId": "2a1052ad-552e-4f8b-f62d-9464d67c4ad9"
      },
      "execution_count": null,
      "outputs": [
        {
          "output_type": "execute_result",
          "data": {
            "text/plain": [
              "True"
            ]
          },
          "metadata": {},
          "execution_count": 20
        }
      ]
    },
    {
      "cell_type": "code",
      "source": [
        "a = 6000\n",
        "b = 6000\n",
        "b is a\n"
      ],
      "metadata": {
        "colab": {
          "base_uri": "https://localhost:8080/"
        },
        "id": "FBxNQ45LX1zd",
        "outputId": "6c66abbd-820d-4c83-f216-ddf2f9335735"
      },
      "execution_count": null,
      "outputs": [
        {
          "output_type": "execute_result",
          "data": {
            "text/plain": [
              "False"
            ]
          },
          "metadata": {},
          "execution_count": 21
        }
      ]
    },
    {
      "cell_type": "code",
      "source": [
        "print(\"I like the # symbole.\")"
      ],
      "metadata": {
        "colab": {
          "base_uri": "https://localhost:8080/"
        },
        "id": "1avPNyIiY54S",
        "outputId": "e4113bcd-79a5-4c85-84fb-d956d33d0748"
      },
      "execution_count": null,
      "outputs": [
        {
          "output_type": "stream",
          "name": "stdout",
          "text": [
            "I like the # symbole.\n"
          ]
        }
      ]
    },
    {
      "cell_type": "code",
      "source": [
        "\"\"\"\n",
        "... a is an int variable.\n",
        "... This is another comment.\n",
        "... \"\"\""
      ],
      "metadata": {
        "colab": {
          "base_uri": "https://localhost:8080/",
          "height": 35
        },
        "id": "F2I2RjfRZYKM",
        "outputId": "3afd7795-caf5-4a84-ba6c-dd805a9c5c88"
      },
      "execution_count": null,
      "outputs": [
        {
          "output_type": "execute_result",
          "data": {
            "text/plain": [
              "'\\na is an int variable.\\nThis is another comment.\\n'"
            ],
            "application/vnd.google.colaboratory.intrinsic+json": {
              "type": "string"
            }
          },
          "metadata": {},
          "execution_count": 23
        }
      ]
    },
    {
      "cell_type": "markdown",
      "source": [
        "*স্ট্রিং ম্যানিপুলেশন"
      ],
      "metadata": {
        "id": "XAuz11oa5zYB"
      }
    },
    {
      "cell_type": "code",
      "source": [
        "a = 'Ratul'\n",
        "type(a)"
      ],
      "metadata": {
        "colab": {
          "base_uri": "https://localhost:8080/"
        },
        "id": "b8DVnGx651bx",
        "outputId": "1785ca73-ca52-49be-f456-35001d8d0c98"
      },
      "execution_count": null,
      "outputs": [
        {
          "output_type": "execute_result",
          "data": {
            "text/plain": [
              "str"
            ]
          },
          "metadata": {},
          "execution_count": 26
        }
      ]
    },
    {
      "cell_type": "code",
      "source": [
        "c = \"Bangladesh is my 'motherland', I love her very much.\"\n",
        "c"
      ],
      "metadata": {
        "colab": {
          "base_uri": "https://localhost:8080/",
          "height": 35
        },
        "id": "WWjTJh_86Fb1",
        "outputId": "9348f3e3-e783-4bc7-cf49-43e9f02b8cd4"
      },
      "execution_count": null,
      "outputs": [
        {
          "output_type": "execute_result",
          "data": {
            "text/plain": [
              "\"Bangladesh is my 'motherland', I love her very much.\""
            ],
            "application/vnd.google.colaboratory.intrinsic+json": {
              "type": "string"
            }
          },
          "metadata": {},
          "execution_count": 32
        }
      ]
    },
    {
      "cell_type": "markdown",
      "source": [
        "স্ট্রিংয়ে ভ্যালু access"
      ],
      "metadata": {
        "id": "a1zXedv87if1"
      }
    },
    {
      "cell_type": "code",
      "source": [
        "c[0]"
      ],
      "metadata": {
        "colab": {
          "base_uri": "https://localhost:8080/",
          "height": 35
        },
        "id": "66eEbxLj7O5v",
        "outputId": "ac5335a5-ab86-40da-c2c5-43ed29160cc8"
      },
      "execution_count": null,
      "outputs": [
        {
          "output_type": "execute_result",
          "data": {
            "text/plain": [
              "'B'"
            ],
            "application/vnd.google.colaboratory.intrinsic+json": {
              "type": "string"
            }
          },
          "metadata": {},
          "execution_count": 33
        }
      ]
    },
    {
      "cell_type": "code",
      "source": [
        "print(a[0])\n",
        "print(a[1])\n",
        "print(a[2])\n",
        "print(a[3])\n",
        "print(a[4])"
      ],
      "metadata": {
        "colab": {
          "base_uri": "https://localhost:8080/"
        },
        "id": "0HcLccxa7klr",
        "outputId": "5570a84c-c047-44d4-e752-09f4e234f42a"
      },
      "execution_count": null,
      "outputs": [
        {
          "output_type": "stream",
          "name": "stdout",
          "text": [
            "R\n",
            "a\n",
            "t\n",
            "u\n",
            "l\n"
          ]
        }
      ]
    },
    {
      "cell_type": "code",
      "source": [
        "a[1:5]"
      ],
      "metadata": {
        "colab": {
          "base_uri": "https://localhost:8080/",
          "height": 35
        },
        "id": "WzcMG78X7y87",
        "outputId": "4712f85f-23d7-4409-f930-19132caa856f"
      },
      "execution_count": null,
      "outputs": [
        {
          "output_type": "execute_result",
          "data": {
            "text/plain": [
              "'atul'"
            ],
            "application/vnd.google.colaboratory.intrinsic+json": {
              "type": "string"
            }
          },
          "metadata": {},
          "execution_count": 29
        }
      ]
    },
    {
      "cell_type": "code",
      "source": [
        "a[0:]"
      ],
      "metadata": {
        "colab": {
          "base_uri": "https://localhost:8080/",
          "height": 35
        },
        "id": "4md-SwtF8D7d",
        "outputId": "a3b5c446-055d-4bd6-f029-1270683191b6"
      },
      "execution_count": null,
      "outputs": [
        {
          "output_type": "execute_result",
          "data": {
            "text/plain": [
              "'Ratul'"
            ],
            "application/vnd.google.colaboratory.intrinsic+json": {
              "type": "string"
            }
          },
          "metadata": {},
          "execution_count": 36
        }
      ]
    },
    {
      "cell_type": "code",
      "source": [
        "a[1:]"
      ],
      "metadata": {
        "colab": {
          "base_uri": "https://localhost:8080/",
          "height": 35
        },
        "id": "k6v9ulOF8KiF",
        "outputId": "a8055114-6e2b-4614-c8f1-b73b380683cf"
      },
      "execution_count": null,
      "outputs": [
        {
          "output_type": "execute_result",
          "data": {
            "text/plain": [
              "'atul'"
            ],
            "application/vnd.google.colaboratory.intrinsic+json": {
              "type": "string"
            }
          },
          "metadata": {},
          "execution_count": 37
        }
      ]
    },
    {
      "cell_type": "code",
      "source": [
        "a[4:5]"
      ],
      "metadata": {
        "colab": {
          "base_uri": "https://localhost:8080/",
          "height": 35
        },
        "id": "_YbmvfX58NZR",
        "outputId": "f43b55a8-5480-43f9-d2a0-45e93e95d7e0"
      },
      "execution_count": null,
      "outputs": [
        {
          "output_type": "execute_result",
          "data": {
            "text/plain": [
              "'l'"
            ],
            "application/vnd.google.colaboratory.intrinsic+json": {
              "type": "string"
            }
          },
          "metadata": {},
          "execution_count": 39
        }
      ]
    },
    {
      "cell_type": "code",
      "source": [
        "a[2:5]*2"
      ],
      "metadata": {
        "colab": {
          "base_uri": "https://localhost:8080/",
          "height": 35
        },
        "id": "YDGghVHP883E",
        "outputId": "9c1ac2ee-07b8-46f1-d30d-13e9a517b017"
      },
      "execution_count": null,
      "outputs": [
        {
          "output_type": "execute_result",
          "data": {
            "text/plain": [
              "'tultul'"
            ],
            "application/vnd.google.colaboratory.intrinsic+json": {
              "type": "string"
            }
          },
          "metadata": {},
          "execution_count": 42
        }
      ]
    },
    {
      "cell_type": "code",
      "source": [
        "number = 436.15757823658945\n",
        "number"
      ],
      "metadata": {
        "colab": {
          "base_uri": "https://localhost:8080/"
        },
        "id": "1vOS3u4t9v9g",
        "outputId": "359ddeb6-4d6b-4b53-db0a-09cad98c3ab8"
      },
      "execution_count": null,
      "outputs": [
        {
          "output_type": "execute_result",
          "data": {
            "text/plain": [
              "436.1575782365895"
            ]
          },
          "metadata": {},
          "execution_count": 43
        }
      ]
    },
    {
      "cell_type": "code",
      "source": [],
      "metadata": {
        "id": "zkVOxXow-8K0"
      },
      "execution_count": null,
      "outputs": []
    },
    {
      "cell_type": "code",
      "source": [
        "print('%.2f' % number)"
      ],
      "metadata": {
        "colab": {
          "base_uri": "https://localhost:8080/"
        },
        "id": "BIX3BbpM907B",
        "outputId": "5879841b-9ca0-4426-ad9e-2ffc7f7f31cd"
      },
      "execution_count": null,
      "outputs": [
        {
          "output_type": "stream",
          "name": "stdout",
          "text": [
            "436.16\n"
          ]
        }
      ]
    },
    {
      "cell_type": "code",
      "source": [
        "print('%.3f' % number)"
      ],
      "metadata": {
        "colab": {
          "base_uri": "https://localhost:8080/"
        },
        "id": "82kleRRm96xG",
        "outputId": "25c0f212-2a07-419f-e4fd-0c65d06702eb"
      },
      "execution_count": null,
      "outputs": [
        {
          "output_type": "stream",
          "name": "stdout",
          "text": [
            "436.158\n"
          ]
        }
      ]
    },
    {
      "cell_type": "markdown",
      "source": [
        "%s সিম্বলটা ব্যবহার করেছি, এটা হল স্ট্রিং ফরম্যাট সিম্বল। ইন্টিজারের জন্য %d, ফ্লোটের জন্য %f এরকম আলাদা আলাদা ফরম্যাট সিম্বল রয়েছে"
      ],
      "metadata": {
        "id": "URbnmFI9-24L"
      }
    },
    {
      "cell_type": "code",
      "source": [
        "a = input()\n",
        "b = input()\n",
        "print(\"My Favourite languages are :\",a,\"and\",b)"
      ],
      "metadata": {
        "colab": {
          "base_uri": "https://localhost:8080/"
        },
        "id": "ZW-iVAjm-_fB",
        "outputId": "5eaeb149-939f-4909-e78d-9b4a0e72ab84"
      },
      "execution_count": null,
      "outputs": [
        {
          "output_type": "stream",
          "name": "stdout",
          "text": [
            "Bangla\n",
            "English\n",
            "My Favourite languages are : Bangla and English\n"
          ]
        }
      ]
    },
    {
      "cell_type": "code",
      "source": [
        "a = input()\n",
        "b= input()\n",
        "print('My favorite lange are: %s and %s'%(a,b))"
      ],
      "metadata": {
        "colab": {
          "base_uri": "https://localhost:8080/"
        },
        "id": "ebeTLDvk_Wli",
        "outputId": "1aa42988-2b00-4537-b089-ca80283e506e"
      },
      "execution_count": null,
      "outputs": [
        {
          "output_type": "stream",
          "name": "stdout",
          "text": [
            "Bangla\n",
            "English\n",
            "My favorite lange are: Bangla and English\n"
          ]
        }
      ]
    },
    {
      "cell_type": "markdown",
      "source": [
        "স্ট্রিং জোড়াতালি"
      ],
      "metadata": {
        "id": "83e2n73jAA9r"
      }
    },
    {
      "cell_type": "code",
      "source": [
        "c = a + b\n",
        "c"
      ],
      "metadata": {
        "colab": {
          "base_uri": "https://localhost:8080/",
          "height": 35
        },
        "id": "zH0oHrHGAAPo",
        "outputId": "88d657cf-a1ca-462c-9428-bfc3a95358a6"
      },
      "execution_count": null,
      "outputs": [
        {
          "output_type": "execute_result",
          "data": {
            "text/plain": [
              "'BanglaEnglish'"
            ],
            "application/vnd.google.colaboratory.intrinsic+json": {
              "type": "string"
            }
          },
          "metadata": {},
          "execution_count": 52
        }
      ]
    },
    {
      "cell_type": "code",
      "source": [
        "c = a + '-' + b\n",
        "c"
      ],
      "metadata": {
        "colab": {
          "base_uri": "https://localhost:8080/",
          "height": 35
        },
        "id": "_I1WXtzgAHjk",
        "outputId": "440c9084-4dcc-4db1-88f2-0c1d834220f2"
      },
      "execution_count": null,
      "outputs": [
        {
          "output_type": "execute_result",
          "data": {
            "text/plain": [
              "'Bangla-English'"
            ],
            "application/vnd.google.colaboratory.intrinsic+json": {
              "type": "string"
            }
          },
          "metadata": {},
          "execution_count": 53
        }
      ]
    },
    {
      "cell_type": "code",
      "source": [
        "c = '-'.join((a,b))\n",
        "c"
      ],
      "metadata": {
        "colab": {
          "base_uri": "https://localhost:8080/",
          "height": 35
        },
        "id": "EU0Cl0GyAUKX",
        "outputId": "9f77ec62-6458-4328-9c01-3382e46d424b"
      },
      "execution_count": null,
      "outputs": [
        {
          "output_type": "execute_result",
          "data": {
            "text/plain": [
              "'Bangla-English'"
            ],
            "application/vnd.google.colaboratory.intrinsic+json": {
              "type": "string"
            }
          },
          "metadata": {},
          "execution_count": 56
        }
      ]
    },
    {
      "cell_type": "code",
      "source": [
        "c.capitalize()"
      ],
      "metadata": {
        "colab": {
          "base_uri": "https://localhost:8080/",
          "height": 35
        },
        "id": "LcCVv8BoArVX",
        "outputId": "d9004a23-23c4-49f2-8fa1-44b1872b68a2"
      },
      "execution_count": null,
      "outputs": [
        {
          "output_type": "execute_result",
          "data": {
            "text/plain": [
              "'Bangla-english'"
            ],
            "application/vnd.google.colaboratory.intrinsic+json": {
              "type": "string"
            }
          },
          "metadata": {},
          "execution_count": 57
        }
      ]
    },
    {
      "cell_type": "code",
      "source": [
        "c.upper()"
      ],
      "metadata": {
        "colab": {
          "base_uri": "https://localhost:8080/",
          "height": 35
        },
        "id": "djMILOpLAxjl",
        "outputId": "6dacefde-c01d-4872-8b0c-a4900b4fa8c3"
      },
      "execution_count": null,
      "outputs": [
        {
          "output_type": "execute_result",
          "data": {
            "text/plain": [
              "'BANGLA-ENGLISH'"
            ],
            "application/vnd.google.colaboratory.intrinsic+json": {
              "type": "string"
            }
          },
          "metadata": {},
          "execution_count": 59
        }
      ]
    },
    {
      "cell_type": "code",
      "source": [
        "c.lower()"
      ],
      "metadata": {
        "colab": {
          "base_uri": "https://localhost:8080/",
          "height": 35
        },
        "id": "z7sRH6-nA3dw",
        "outputId": "69347c4f-8aa1-4806-fab2-6e05c6a3a6ee"
      },
      "execution_count": null,
      "outputs": [
        {
          "output_type": "execute_result",
          "data": {
            "text/plain": [
              "\"bangladesh is my 'motherland', i love her very much.\""
            ],
            "application/vnd.google.colaboratory.intrinsic+json": {
              "type": "string"
            }
          },
          "metadata": {},
          "execution_count": 34
        }
      ]
    },
    {
      "cell_type": "code",
      "source": [
        "c.title()"
      ],
      "metadata": {
        "colab": {
          "base_uri": "https://localhost:8080/",
          "height": 35
        },
        "id": "5Q_lSGfCA5jA",
        "outputId": "2759d2dd-6688-4af9-c51e-cc1174b1879e"
      },
      "execution_count": null,
      "outputs": [
        {
          "output_type": "execute_result",
          "data": {
            "text/plain": [
              "\"Bangladesh Is My 'Motherland', I Love Her Very Much.\""
            ],
            "application/vnd.google.colaboratory.intrinsic+json": {
              "type": "string"
            }
          },
          "metadata": {},
          "execution_count": 35
        }
      ]
    },
    {
      "cell_type": "code",
      "source": [
        "c.swapcase()"
      ],
      "metadata": {
        "colab": {
          "base_uri": "https://localhost:8080/",
          "height": 35
        },
        "id": "6P0r96LdLEwD",
        "outputId": "a1da525a-f2d3-47fb-fd79-836cbbf148ef"
      },
      "execution_count": null,
      "outputs": [
        {
          "output_type": "execute_result",
          "data": {
            "text/plain": [
              "\"bANGLADESH IS MY 'MOTHERLAND', i LOVE HER VERY MUCH.\""
            ],
            "application/vnd.google.colaboratory.intrinsic+json": {
              "type": "string"
            }
          },
          "metadata": {},
          "execution_count": 36
        }
      ]
    },
    {
      "cell_type": "code",
      "source": [
        "len(c[:5])\n",
        "print(c[:5])"
      ],
      "metadata": {
        "colab": {
          "base_uri": "https://localhost:8080/"
        },
        "id": "SJheTeaVLpLz",
        "outputId": "2cd03316-3eb3-4f3a-a316-6d4a8083f2b6"
      },
      "execution_count": null,
      "outputs": [
        {
          "output_type": "stream",
          "name": "stdout",
          "text": [
            "Bangl\n"
          ]
        }
      ]
    },
    {
      "cell_type": "code",
      "source": [
        "c.count('a')\n"
      ],
      "metadata": {
        "colab": {
          "base_uri": "https://localhost:8080/"
        },
        "id": "ZsxCpdJLMczb",
        "outputId": "bc2fb5d8-a627-4754-94d1-536b33540b4d"
      },
      "execution_count": null,
      "outputs": [
        {
          "output_type": "execute_result",
          "data": {
            "text/plain": [
              "3"
            ]
          },
          "metadata": {},
          "execution_count": 39
        }
      ]
    },
    {
      "cell_type": "code",
      "source": [
        "sentence = 'How can a clam cram in a clean cream can?'\n",
        "sentence.count('c')"
      ],
      "metadata": {
        "colab": {
          "base_uri": "https://localhost:8080/"
        },
        "id": "WH7YLCmHQrzY",
        "outputId": "6bbe4e90-5295-4f72-a6d0-1d8f30e66a7c"
      },
      "execution_count": null,
      "outputs": [
        {
          "output_type": "execute_result",
          "data": {
            "text/plain": [
              "6"
            ]
          },
          "metadata": {},
          "execution_count": 40
        }
      ]
    },
    {
      "cell_type": "code",
      "source": [
        "sentence.count('c',4)"
      ],
      "metadata": {
        "colab": {
          "base_uri": "https://localhost:8080/"
        },
        "id": "Hoqs6Fe3RGFu",
        "outputId": "ac998c48-d0b4-4b54-8aad-b5b93f220127"
      },
      "execution_count": null,
      "outputs": [
        {
          "output_type": "execute_result",
          "data": {
            "text/plain": [
              "6"
            ]
          },
          "metadata": {},
          "execution_count": 41
        }
      ]
    },
    {
      "cell_type": "code",
      "source": [
        "sentence.count('c',5)"
      ],
      "metadata": {
        "colab": {
          "base_uri": "https://localhost:8080/"
        },
        "id": "5lOy0FNgRIit",
        "outputId": "ded55c0b-7291-41e9-fbe0-af633f49a926"
      },
      "execution_count": null,
      "outputs": [
        {
          "output_type": "execute_result",
          "data": {
            "text/plain": [
              "5"
            ]
          },
          "metadata": {},
          "execution_count": 42
        }
      ]
    },
    {
      "cell_type": "code",
      "source": [
        "sentence.find('c',5)"
      ],
      "metadata": {
        "colab": {
          "base_uri": "https://localhost:8080/"
        },
        "id": "ZrtUjOYrRNsj",
        "outputId": "e62a0ab7-82a1-4eee-c9d6-959f2dddffb1"
      },
      "execution_count": null,
      "outputs": [
        {
          "output_type": "execute_result",
          "data": {
            "text/plain": [
              "10"
            ]
          },
          "metadata": {},
          "execution_count": 81
        }
      ]
    },
    {
      "cell_type": "code",
      "source": [
        "sentence.find('x')"
      ],
      "metadata": {
        "colab": {
          "base_uri": "https://localhost:8080/"
        },
        "id": "NWCvZScZRqPh",
        "outputId": "e237cd6f-235a-4e9c-9129-a52923cf7e4d"
      },
      "execution_count": null,
      "outputs": [
        {
          "output_type": "execute_result",
          "data": {
            "text/plain": [
              "-1"
            ]
          },
          "metadata": {},
          "execution_count": 82
        }
      ]
    },
    {
      "cell_type": "code",
      "source": [
        "sentence .replace('c','d')"
      ],
      "metadata": {
        "colab": {
          "base_uri": "https://localhost:8080/",
          "height": 35
        },
        "id": "1jDnKKpFRxJB",
        "outputId": "0d174936-fed7-443e-bf89-440f65eafe4f"
      },
      "execution_count": null,
      "outputs": [
        {
          "output_type": "execute_result",
          "data": {
            "text/plain": [
              "'How dan a dlam dram in a dlean dream dan?'"
            ],
            "application/vnd.google.colaboratory.intrinsic+json": {
              "type": "string"
            }
          },
          "metadata": {},
          "execution_count": 83
        }
      ]
    },
    {
      "cell_type": "code",
      "source": [
        "sentence.strip('?')"
      ],
      "metadata": {
        "colab": {
          "base_uri": "https://localhost:8080/",
          "height": 35
        },
        "id": "NkeXDz2oR5nf",
        "outputId": "c73f44f0-8406-4c19-8e7d-c9ff5ec406fd"
      },
      "execution_count": null,
      "outputs": [
        {
          "output_type": "execute_result",
          "data": {
            "text/plain": [
              "'How can a clam cram in a clean cream can'"
            ],
            "application/vnd.google.colaboratory.intrinsic+json": {
              "type": "string"
            }
          },
          "metadata": {},
          "execution_count": 84
        }
      ]
    },
    {
      "cell_type": "code",
      "source": [
        "sentence.strip('?').lower().split(' ')"
      ],
      "metadata": {
        "colab": {
          "base_uri": "https://localhost:8080/"
        },
        "id": "puj6FDZxSsnT",
        "outputId": "d9912a47-e742-4d9f-f096-3e2881b04677"
      },
      "execution_count": null,
      "outputs": [
        {
          "output_type": "execute_result",
          "data": {
            "text/plain": [
              "['how', 'can', 'a', 'clam', 'cram', 'in', 'a', 'clean', 'cream', 'can']"
            ]
          },
          "metadata": {},
          "execution_count": 86
        }
      ]
    },
    {
      "cell_type": "code",
      "source": [
        "a = 'hARRY!!!!'"
      ],
      "metadata": {
        "id": "OU23T_MjTmj4"
      },
      "execution_count": null,
      "outputs": []
    },
    {
      "cell_type": "code",
      "source": [
        "print(a.rstrip(\"!\"))"
      ],
      "metadata": {
        "colab": {
          "base_uri": "https://localhost:8080/"
        },
        "id": "iRRbjxAkd-sR",
        "outputId": "2637711d-4bf4-4b1a-910f-3d2344af21e0"
      },
      "execution_count": null,
      "outputs": [
        {
          "output_type": "stream",
          "name": "stdout",
          "text": [
            "hARRY\n"
          ]
        }
      ]
    },
    {
      "cell_type": "code",
      "source": [],
      "metadata": {
        "id": "5WorQiI-eR81"
      },
      "execution_count": null,
      "outputs": []
    },
    {
      "cell_type": "markdown",
      "source": [
        "# Day 3 (list )"
      ],
      "metadata": {
        "id": "PKspPsjBTlUV"
      }
    },
    {
      "cell_type": "markdown",
      "source": [
        "List"
      ],
      "metadata": {
        "id": "MpXDiMnETnoT"
      }
    },
    {
      "cell_type": "code",
      "source": [
        "l = [3,5,6]\n",
        "print(l)\n",
        "print(l[0])\n",
        "print(l[1])\n",
        "print(l[2])"
      ],
      "metadata": {
        "colab": {
          "base_uri": "https://localhost:8080/"
        },
        "id": "2yRiPflATo3H",
        "outputId": "efa49e57-7be5-4bb4-a946-be86a3806a52"
      },
      "execution_count": null,
      "outputs": [
        {
          "output_type": "stream",
          "name": "stdout",
          "text": [
            "[3, 5, 6]\n",
            "3\n",
            "5\n",
            "6\n"
          ]
        }
      ]
    },
    {
      "cell_type": "code",
      "source": [
        "l.append(8)\n",
        "print(l)\n",
        "print(len(l))"
      ],
      "metadata": {
        "colab": {
          "base_uri": "https://localhost:8080/"
        },
        "id": "-Jok_omQVwTh",
        "outputId": "db32a179-2263-4d5c-897b-0398ecf88cb3"
      },
      "execution_count": null,
      "outputs": [
        {
          "output_type": "stream",
          "name": "stdout",
          "text": [
            "[3, 5, 6, 4, 4, 5, 8]\n",
            "7\n"
          ]
        }
      ]
    },
    {
      "cell_type": "code",
      "source": [
        "l[1:3:5]"
      ],
      "metadata": {
        "colab": {
          "base_uri": "https://localhost:8080/"
        },
        "id": "5EqbjXcydriI",
        "outputId": "4cdda5df-86cc-4b1f-b4ec-79cbb350bb60"
      },
      "execution_count": null,
      "outputs": [
        {
          "output_type": "execute_result",
          "data": {
            "text/plain": [
              "[5]"
            ]
          },
          "metadata": {},
          "execution_count": 73
        }
      ]
    },
    {
      "cell_type": "code",
      "source": [
        "# Accessing The third value of the list (Positive Index)\n",
        "print(l[2])\n",
        "# Accessing The third value of the list (Negative Index)\n",
        "print(l[-3])\n",
        "print(l[len(l)-3])\n",
        "print(l[6-3])"
      ],
      "metadata": {
        "colab": {
          "base_uri": "https://localhost:8080/"
        },
        "id": "-u23vmhMVcYH",
        "outputId": "613fac81-0a88-4b51-aff2-d6fb7405a158"
      },
      "execution_count": null,
      "outputs": [
        {
          "output_type": "stream",
          "name": "stdout",
          "text": [
            "6\n",
            "5\n",
            "5\n",
            "4\n"
          ]
        }
      ]
    },
    {
      "cell_type": "code",
      "source": [
        "a = int(input())\n",
        "if a in l:\n",
        "  print('Yes , The value',a, 'is in l')\n",
        "else:\n",
        "  print('No , The value',a, 'is not in l')\n"
      ],
      "metadata": {
        "colab": {
          "base_uri": "https://localhost:8080/"
        },
        "id": "-XYQNpOdY63k",
        "outputId": "62f93803-3b7d-4ae7-dd0f-0eca4c27004c"
      },
      "execution_count": null,
      "outputs": [
        {
          "output_type": "stream",
          "name": "stdout",
          "text": [
            "6\n",
            "Yes , The value 6 is in l\n"
          ]
        }
      ]
    },
    {
      "cell_type": "code",
      "source": [
        "A = [',']\n",
        "A"
      ],
      "metadata": {
        "colab": {
          "base_uri": "https://localhost:8080/"
        },
        "id": "wsp5bjF3krm4",
        "outputId": "56fe31ff-3d58-482b-900a-b178418002d7"
      },
      "execution_count": null,
      "outputs": [
        {
          "output_type": "execute_result",
          "data": {
            "text/plain": [
              "[',']"
            ]
          },
          "metadata": {},
          "execution_count": 76
        }
      ]
    },
    {
      "cell_type": "code",
      "source": [
        "A = ['APPLE','TEA','iCEcREAM','HUMAN','mONKEY']\n",
        "A"
      ],
      "metadata": {
        "colab": {
          "base_uri": "https://localhost:8080/"
        },
        "id": "XGyOgy8Bk0qp",
        "outputId": "f759da58-822d-4791-cff0-d4ab1088667f"
      },
      "execution_count": null,
      "outputs": [
        {
          "output_type": "execute_result",
          "data": {
            "text/plain": [
              "['APPLE', 'TEA', 'iCEcREAM', 'HUMAN', 'mONKEY']"
            ]
          },
          "metadata": {},
          "execution_count": 77
        }
      ]
    },
    {
      "cell_type": "code",
      "source": [
        "print(type(A))"
      ],
      "metadata": {
        "colab": {
          "base_uri": "https://localhost:8080/"
        },
        "id": "b3LhDVlWo00F",
        "outputId": "b0adab61-082b-4285-c87e-ef5ced12fad4"
      },
      "execution_count": null,
      "outputs": [
        {
          "output_type": "stream",
          "name": "stdout",
          "text": [
            "<class 'list'>\n"
          ]
        }
      ]
    },
    {
      "cell_type": "code",
      "source": [
        "A.append(3)\n",
        "A\n",
        "A.append(3.1416)\n",
        "A"
      ],
      "metadata": {
        "colab": {
          "base_uri": "https://localhost:8080/"
        },
        "id": "KIpWAdS7o6Pr",
        "outputId": "a2e8a09b-4851-464b-912c-b2366bb2cd34"
      },
      "execution_count": null,
      "outputs": [
        {
          "output_type": "execute_result",
          "data": {
            "text/plain": [
              "['APPLE', 'TEA', 'iCEcREAM', 'HUMAN', 'mONKEY', 3, 3, 3.1416]"
            ]
          },
          "metadata": {},
          "execution_count": 81
        }
      ]
    },
    {
      "cell_type": "code",
      "source": [
        "print(A[3])"
      ],
      "metadata": {
        "colab": {
          "base_uri": "https://localhost:8080/"
        },
        "id": "C-Ydi5nUqqhv",
        "outputId": "ee83dd41-424e-47d0-97a7-bae8a55e17b6"
      },
      "execution_count": null,
      "outputs": [
        {
          "output_type": "stream",
          "name": "stdout",
          "text": [
            "HUMAN\n"
          ]
        }
      ]
    },
    {
      "cell_type": "code",
      "source": [
        "print(A[3:5])"
      ],
      "metadata": {
        "colab": {
          "base_uri": "https://localhost:8080/"
        },
        "id": "rUY2wm39q4jd",
        "outputId": "f9526882-abac-4af4-e16b-6853aa99379a"
      },
      "execution_count": null,
      "outputs": [
        {
          "output_type": "stream",
          "name": "stdout",
          "text": [
            "['HUMAN', 'mONKEY']\n"
          ]
        }
      ]
    },
    {
      "cell_type": "code",
      "source": [],
      "metadata": {
        "id": "h1QlTim651HP"
      },
      "execution_count": null,
      "outputs": []
    },
    {
      "cell_type": "markdown",
      "source": [
        "আপডেট লিস্ট"
      ],
      "metadata": {
        "id": "eWh-ZA0_5178"
      }
    },
    {
      "cell_type": "code",
      "source": [
        "A[3]=570\n",
        "A"
      ],
      "metadata": {
        "colab": {
          "base_uri": "https://localhost:8080/"
        },
        "id": "Y-Dj7bup5sBT",
        "outputId": "00d8d898-45cf-4a9e-e9d2-ec6bf8d4778e"
      },
      "execution_count": null,
      "outputs": [
        {
          "output_type": "execute_result",
          "data": {
            "text/plain": [
              "['APPLE', 'TEA', 'iCEcREAM', 570, 'mONKEY', 3, 3, 3.1416]"
            ]
          },
          "metadata": {},
          "execution_count": 85
        }
      ]
    },
    {
      "cell_type": "code",
      "source": [
        "A.insert(0,'First')\n",
        "A"
      ],
      "metadata": {
        "colab": {
          "base_uri": "https://localhost:8080/"
        },
        "id": "EpAO2URr52yR",
        "outputId": "ad3fe787-4373-49f0-d87d-e01c706e9da5"
      },
      "execution_count": null,
      "outputs": [
        {
          "output_type": "execute_result",
          "data": {
            "text/plain": [
              "['First', 'APPLE', 'TEA', 'iCEcREAM', 570, 'mONKEY', 3, 3, 3.1416]"
            ]
          },
          "metadata": {},
          "execution_count": 86
        }
      ]
    },
    {
      "cell_type": "code",
      "source": [
        "A.extend([1,2,3])\n",
        "A"
      ],
      "metadata": {
        "colab": {
          "base_uri": "https://localhost:8080/"
        },
        "id": "SwDCn-X66HUj",
        "outputId": "d37227b6-fa85-4174-98f3-c3efa6d2e42f"
      },
      "execution_count": null,
      "outputs": [
        {
          "output_type": "execute_result",
          "data": {
            "text/plain": [
              "['First', 'APPLE', 'TEA', 'iCEcREAM', 570, 'mONKEY', 3, 3, 3.1416, 1, 2, 3]"
            ]
          },
          "metadata": {},
          "execution_count": 88
        }
      ]
    },
    {
      "cell_type": "code",
      "source": [
        "a= A[0:4]\n",
        "a"
      ],
      "metadata": {
        "colab": {
          "base_uri": "https://localhost:8080/"
        },
        "id": "Ial2aTy26QqU",
        "outputId": "1a64907c-74b5-4cb2-e307-b88bdf12ae70"
      },
      "execution_count": null,
      "outputs": [
        {
          "output_type": "execute_result",
          "data": {
            "text/plain": [
              "['First', 'APPLE', 'TEA', 'iCEcREAM']"
            ]
          },
          "metadata": {},
          "execution_count": 89
        }
      ]
    },
    {
      "cell_type": "code",
      "source": [
        "b=A[4:]\n",
        "b"
      ],
      "metadata": {
        "colab": {
          "base_uri": "https://localhost:8080/"
        },
        "id": "RQ3OL_g56aFM",
        "outputId": "6bda31a8-f80a-41cc-f0fa-3401e14697b1"
      },
      "execution_count": null,
      "outputs": [
        {
          "output_type": "execute_result",
          "data": {
            "text/plain": [
              "[570, 'mONKEY', 3, 3, 3.1416, 1, 2, 3]"
            ]
          },
          "metadata": {},
          "execution_count": 91
        }
      ]
    },
    {
      "cell_type": "code",
      "source": [
        "c= b +['Tom','Jerry']\n",
        "c"
      ],
      "metadata": {
        "colab": {
          "base_uri": "https://localhost:8080/"
        },
        "id": "pCrtkRlt6eQA",
        "outputId": "abf1833b-5601-4729-ab6e-5f110d80703e"
      },
      "execution_count": null,
      "outputs": [
        {
          "output_type": "execute_result",
          "data": {
            "text/plain": [
              "[570, 'mONKEY', 3, 3, 3.1416, 1, 2, 3, 'Tom', 'Jerry']"
            ]
          },
          "metadata": {},
          "execution_count": 93
        }
      ]
    },
    {
      "cell_type": "code",
      "source": [
        "d = a+b\n",
        "d"
      ],
      "metadata": {
        "colab": {
          "base_uri": "https://localhost:8080/"
        },
        "id": "T2I-4dJS6p6O",
        "outputId": "4797eb53-7276-4a99-c8e4-f2aa18261dc2"
      },
      "execution_count": null,
      "outputs": [
        {
          "output_type": "execute_result",
          "data": {
            "text/plain": [
              "['First', 'APPLE', 'TEA', 'iCEcREAM', 570, 'mONKEY', 3, 3, 3.1416, 1, 2, 3]"
            ]
          },
          "metadata": {},
          "execution_count": 95
        }
      ]
    },
    {
      "cell_type": "code",
      "source": [
        "d = d+c\n",
        "d\n"
      ],
      "metadata": {
        "id": "y3FhHaEQ6x0o"
      },
      "execution_count": null,
      "outputs": []
    },
    {
      "cell_type": "code",
      "source": [],
      "metadata": {
        "id": "Z8dyxsbq-6SK"
      },
      "execution_count": null,
      "outputs": []
    },
    {
      "cell_type": "markdown",
      "source": [
        "রিমুভ আইটেম"
      ],
      "metadata": {
        "id": "baUYwSFZ-7MO"
      }
    },
    {
      "cell_type": "code",
      "source": [
        "del d[0]\n",
        "d"
      ],
      "metadata": {
        "colab": {
          "base_uri": "https://localhost:8080/"
        },
        "id": "Ei7t6tfJ60UP",
        "outputId": "17d3a997-c178-43c2-9a99-13a9d1068ec0"
      },
      "execution_count": null,
      "outputs": [
        {
          "output_type": "execute_result",
          "data": {
            "text/plain": [
              "['APPLE',\n",
              " 'TEA',\n",
              " 'iCEcREAM',\n",
              " 570,\n",
              " 'mONKEY',\n",
              " 3,\n",
              " 3,\n",
              " 3.1416,\n",
              " 1,\n",
              " 2,\n",
              " 3,\n",
              " 570,\n",
              " 'mONKEY',\n",
              " 3,\n",
              " 3,\n",
              " 3.1416,\n",
              " 1,\n",
              " 2,\n",
              " 3,\n",
              " 'Tom',\n",
              " 'Jerry']"
            ]
          },
          "metadata": {},
          "execution_count": 98
        }
      ]
    },
    {
      "cell_type": "code",
      "source": [
        "d.remove('APPLE')\n",
        "d"
      ],
      "metadata": {
        "colab": {
          "base_uri": "https://localhost:8080/"
        },
        "id": "uhusMa54_E1I",
        "outputId": "4cd5e0ed-016e-436b-8a7f-4ff872fad842"
      },
      "execution_count": null,
      "outputs": [
        {
          "output_type": "execute_result",
          "data": {
            "text/plain": [
              "['TEA',\n",
              " 'iCEcREAM',\n",
              " 570,\n",
              " 'mONKEY',\n",
              " 3,\n",
              " 3,\n",
              " 3.1416,\n",
              " 1,\n",
              " 2,\n",
              " 3,\n",
              " 570,\n",
              " 'mONKEY',\n",
              " 3,\n",
              " 3,\n",
              " 3.1416,\n",
              " 1,\n",
              " 2,\n",
              " 3,\n",
              " 'Tom',\n",
              " 'Jerry']"
            ]
          },
          "metadata": {},
          "execution_count": 99
        }
      ]
    },
    {
      "cell_type": "code",
      "source": [
        "del d[-1]\n",
        "d"
      ],
      "metadata": {
        "colab": {
          "base_uri": "https://localhost:8080/"
        },
        "id": "6nE9N9we_M_F",
        "outputId": "d467b243-ca38-4285-89ba-51706d0acdfb"
      },
      "execution_count": null,
      "outputs": [
        {
          "output_type": "execute_result",
          "data": {
            "text/plain": [
              "['TEA',\n",
              " 'iCEcREAM',\n",
              " 570,\n",
              " 'mONKEY',\n",
              " 3,\n",
              " 3,\n",
              " 3.1416,\n",
              " 1,\n",
              " 2,\n",
              " 3,\n",
              " 570,\n",
              " 'mONKEY',\n",
              " 3,\n",
              " 3,\n",
              " 3.1416,\n",
              " 1,\n",
              " 2,\n",
              " 3,\n",
              " 'Tom']"
            ]
          },
          "metadata": {},
          "execution_count": 100
        }
      ]
    },
    {
      "cell_type": "markdown",
      "source": [
        "deleting last item"
      ],
      "metadata": {
        "id": "YcMLOAQoAFV9"
      }
    },
    {
      "cell_type": "code",
      "source": [
        "d.pop()"
      ],
      "metadata": {
        "colab": {
          "base_uri": "https://localhost:8080/",
          "height": 35
        },
        "id": "3FnXJsB8AG1b",
        "outputId": "cbe67995-ea85-47fe-9542-db477bed2593"
      },
      "execution_count": null,
      "outputs": [
        {
          "output_type": "execute_result",
          "data": {
            "text/plain": [
              "'Tom'"
            ],
            "application/vnd.google.colaboratory.intrinsic+json": {
              "type": "string"
            }
          },
          "metadata": {},
          "execution_count": 101
        }
      ]
    },
    {
      "cell_type": "code",
      "source": [
        "d"
      ],
      "metadata": {
        "colab": {
          "base_uri": "https://localhost:8080/"
        },
        "id": "vAT0c3aAAMZB",
        "outputId": "7944bf53-ad7c-450e-876c-4262ccbb2896"
      },
      "execution_count": null,
      "outputs": [
        {
          "output_type": "execute_result",
          "data": {
            "text/plain": [
              "['TEA',\n",
              " 'iCEcREAM',\n",
              " 570,\n",
              " 'mONKEY',\n",
              " 3,\n",
              " 3,\n",
              " 3.1416,\n",
              " 1,\n",
              " 2,\n",
              " 3,\n",
              " 570,\n",
              " 'mONKEY',\n",
              " 3,\n",
              " 3,\n",
              " 3.1416,\n",
              " 1,\n",
              " 2,\n",
              " 3]"
            ]
          },
          "metadata": {},
          "execution_count": 102
        }
      ]
    },
    {
      "cell_type": "markdown",
      "source": [
        "count"
      ],
      "metadata": {
        "id": "nqiPimkgAQUF"
      }
    },
    {
      "cell_type": "code",
      "source": [
        "len(d)"
      ],
      "metadata": {
        "colab": {
          "base_uri": "https://localhost:8080/"
        },
        "id": "N1O-6VBrBP1U",
        "outputId": "a071e8c1-da8c-4ea6-d895-8337b230b4c4"
      },
      "execution_count": null,
      "outputs": [
        {
          "output_type": "execute_result",
          "data": {
            "text/plain": [
              "18"
            ]
          },
          "metadata": {},
          "execution_count": 103
        }
      ]
    },
    {
      "cell_type": "code",
      "source": [
        "d.count(3)"
      ],
      "metadata": {
        "colab": {
          "base_uri": "https://localhost:8080/"
        },
        "id": "nUwohRkzBVnz",
        "outputId": "16059fec-6373-453b-b486-50bd4b0595da"
      },
      "execution_count": null,
      "outputs": [
        {
          "output_type": "execute_result",
          "data": {
            "text/plain": [
              "6"
            ]
          },
          "metadata": {},
          "execution_count": 104
        }
      ]
    },
    {
      "cell_type": "code",
      "source": [
        "d.reverse()\n",
        "d"
      ],
      "metadata": {
        "colab": {
          "base_uri": "https://localhost:8080/"
        },
        "id": "9-wLYUycBcxd",
        "outputId": "cfaaacc4-a7ba-4ee5-8588-ced0bdc4c16e"
      },
      "execution_count": null,
      "outputs": [
        {
          "output_type": "execute_result",
          "data": {
            "text/plain": [
              "[3,\n",
              " 2,\n",
              " 1,\n",
              " 3.1416,\n",
              " 3,\n",
              " 3,\n",
              " 'mONKEY',\n",
              " 570,\n",
              " 3,\n",
              " 2,\n",
              " 1,\n",
              " 3.1416,\n",
              " 3,\n",
              " 3,\n",
              " 'mONKEY',\n",
              " 570,\n",
              " 'iCEcREAM',\n",
              " 'TEA']"
            ]
          },
          "metadata": {},
          "execution_count": 107
        }
      ]
    },
    {
      "cell_type": "code",
      "source": [
        "d.sort()\n",
        "d"
      ],
      "metadata": {
        "colab": {
          "base_uri": "https://localhost:8080/",
          "height": 193
        },
        "id": "1-bdpVm5Bh8t",
        "outputId": "0722f19c-1305-410e-9797-ff3d49406841"
      },
      "execution_count": null,
      "outputs": [
        {
          "output_type": "error",
          "ename": "TypeError",
          "evalue": "'<' not supported between instances of 'str' and 'int'",
          "traceback": [
            "\u001b[0;31m---------------------------------------------------------------------------\u001b[0m",
            "\u001b[0;31mTypeError\u001b[0m                                 Traceback (most recent call last)",
            "\u001b[0;32m<ipython-input-108-f8b497f363c3>\u001b[0m in \u001b[0;36m<cell line: 1>\u001b[0;34m()\u001b[0m\n\u001b[0;32m----> 1\u001b[0;31m \u001b[0md\u001b[0m\u001b[0;34m.\u001b[0m\u001b[0msort\u001b[0m\u001b[0;34m(\u001b[0m\u001b[0;34m)\u001b[0m\u001b[0;34m\u001b[0m\u001b[0;34m\u001b[0m\u001b[0m\n\u001b[0m\u001b[1;32m      2\u001b[0m \u001b[0md\u001b[0m\u001b[0;34m\u001b[0m\u001b[0;34m\u001b[0m\u001b[0m\n",
            "\u001b[0;31mTypeError\u001b[0m: '<' not supported between instances of 'str' and 'int'"
          ]
        }
      ]
    },
    {
      "cell_type": "code",
      "source": [
        "b = [1,2,3,4,5,6,7,8,1,2,3,4,1,23,1]\n",
        "b"
      ],
      "metadata": {
        "colab": {
          "base_uri": "https://localhost:8080/"
        },
        "id": "m_JzBb-JBm_J",
        "outputId": "572a80ed-685c-45b9-a514-5f8dca8b7875"
      },
      "execution_count": null,
      "outputs": [
        {
          "output_type": "execute_result",
          "data": {
            "text/plain": [
              "[1, 2, 3, 4, 5, 6, 7, 8, 1, 2, 3, 4, 1, 23, 1]"
            ]
          },
          "metadata": {},
          "execution_count": 109
        }
      ]
    },
    {
      "cell_type": "code",
      "source": [
        "b.sort()\n",
        "b"
      ],
      "metadata": {
        "colab": {
          "base_uri": "https://localhost:8080/"
        },
        "id": "PdcHJ08hBtqI",
        "outputId": "2a800d73-14ad-4b76-8765-0e22bdf6d931"
      },
      "execution_count": null,
      "outputs": [
        {
          "output_type": "execute_result",
          "data": {
            "text/plain": [
              "[1, 1, 1, 1, 2, 2, 3, 3, 4, 4, 5, 6, 7, 8, 23]"
            ]
          },
          "metadata": {},
          "execution_count": 111
        }
      ]
    },
    {
      "cell_type": "markdown",
      "source": [
        "টাপল"
      ],
      "metadata": {
        "id": "6jqDAopAD08z"
      }
    },
    {
      "cell_type": "code",
      "source": [
        "a = ()\n",
        "type(a)"
      ],
      "metadata": {
        "colab": {
          "base_uri": "https://localhost:8080/"
        },
        "id": "JvrTcn16D1jb",
        "outputId": "905984ae-d49c-4789-ed47-4f65086969b3"
      },
      "execution_count": null,
      "outputs": [
        {
          "output_type": "execute_result",
          "data": {
            "text/plain": [
              "tuple"
            ]
          },
          "metadata": {},
          "execution_count": 112
        }
      ]
    },
    {
      "cell_type": "code",
      "source": [
        "a = ('onion', 'potato', 'ginger', 'cucumber')\n",
        "print(a)\n",
        "print(type(a))"
      ],
      "metadata": {
        "colab": {
          "base_uri": "https://localhost:8080/"
        },
        "id": "nerPioHbD7o4",
        "outputId": "4739d01e-17c7-442b-eeb4-d811d51821cc"
      },
      "execution_count": null,
      "outputs": [
        {
          "output_type": "stream",
          "name": "stdout",
          "text": [
            "('onion', 'potato', 'ginger', 'cucumber')\n",
            "<class 'tuple'>\n"
          ]
        }
      ]
    },
    {
      "cell_type": "code",
      "source": [
        "a[0:]"
      ],
      "metadata": {
        "colab": {
          "base_uri": "https://localhost:8080/"
        },
        "id": "u5inTiLIEOLi",
        "outputId": "1bf3f818-4955-4575-caa7-a575ed4160cf"
      },
      "execution_count": null,
      "outputs": [
        {
          "output_type": "execute_result",
          "data": {
            "text/plain": [
              "('onion', 'potato', 'ginger', 'cucumber')"
            ]
          },
          "metadata": {},
          "execution_count": 120
        }
      ]
    },
    {
      "cell_type": "code",
      "source": [
        "a[0] = 'new'"
      ],
      "metadata": {
        "colab": {
          "base_uri": "https://localhost:8080/",
          "height": 175
        },
        "id": "lmHodVM3ESAR",
        "outputId": "1c2d093e-5233-4bc2-dbb5-1295276c6013"
      },
      "execution_count": null,
      "outputs": [
        {
          "output_type": "error",
          "ename": "TypeError",
          "evalue": "'tuple' object does not support item assignment",
          "traceback": [
            "\u001b[0;31m---------------------------------------------------------------------------\u001b[0m",
            "\u001b[0;31mTypeError\u001b[0m                                 Traceback (most recent call last)",
            "\u001b[0;32m<ipython-input-118-90ce8eb05521>\u001b[0m in \u001b[0;36m<cell line: 1>\u001b[0;34m()\u001b[0m\n\u001b[0;32m----> 1\u001b[0;31m \u001b[0ma\u001b[0m\u001b[0;34m[\u001b[0m\u001b[0;36m0\u001b[0m\u001b[0;34m]\u001b[0m \u001b[0;34m=\u001b[0m \u001b[0;34m'new'\u001b[0m\u001b[0;34m,\u001b[0m\u001b[0;34m\u001b[0m\u001b[0;34m\u001b[0m\u001b[0m\n\u001b[0m",
            "\u001b[0;31mTypeError\u001b[0m: 'tuple' object does not support item assignment"
          ]
        }
      ]
    },
    {
      "cell_type": "code",
      "source": [
        "a + ('new',)\n",
        "a"
      ],
      "metadata": {
        "colab": {
          "base_uri": "https://localhost:8080/"
        },
        "id": "YLP9cUblElt3",
        "outputId": "49beab68-695b-428e-a459-92b3ca7e9cc7"
      },
      "execution_count": null,
      "outputs": [
        {
          "output_type": "execute_result",
          "data": {
            "text/plain": [
              "('onion', 'potato', 'ginger', 'cucumber')"
            ]
          },
          "metadata": {},
          "execution_count": 122
        }
      ]
    },
    {
      "cell_type": "code",
      "source": [
        "len(a)"
      ],
      "metadata": {
        "colab": {
          "base_uri": "https://localhost:8080/"
        },
        "id": "kPywoixyE1Ga",
        "outputId": "da7746c4-5e49-46d0-86db-70354f991e78"
      },
      "execution_count": null,
      "outputs": [
        {
          "output_type": "execute_result",
          "data": {
            "text/plain": [
              "4"
            ]
          },
          "metadata": {},
          "execution_count": 123
        }
      ]
    },
    {
      "cell_type": "code",
      "source": [
        "a.count('onion')"
      ],
      "metadata": {
        "colab": {
          "base_uri": "https://localhost:8080/"
        },
        "id": "CDNTV9VWE5TY",
        "outputId": "54850e90-0464-45fc-b6ef-a80692223c01"
      },
      "execution_count": null,
      "outputs": [
        {
          "output_type": "execute_result",
          "data": {
            "text/plain": [
              "1"
            ]
          },
          "metadata": {},
          "execution_count": 124
        }
      ]
    },
    {
      "cell_type": "markdown",
      "source": [
        "# Day 4 (set)"
      ],
      "metadata": {
        "id": "0c2vvlJuATgy"
      }
    },
    {
      "cell_type": "markdown",
      "source": [
        "Set"
      ],
      "metadata": {
        "id": "Wkhir0BJAVG9"
      }
    },
    {
      "cell_type": "code",
      "source": [
        "a  = {'A','B','C'}\n",
        "a"
      ],
      "metadata": {
        "colab": {
          "base_uri": "https://localhost:8080/"
        },
        "id": "QD0_G01PAWqF",
        "outputId": "11238a4e-0f33-442f-8ee2-ed6623fd664c"
      },
      "execution_count": null,
      "outputs": [
        {
          "output_type": "execute_result",
          "data": {
            "text/plain": [
              "{'A', 'B', 'C'}"
            ]
          },
          "metadata": {},
          "execution_count": 1
        }
      ]
    },
    {
      "cell_type": "code",
      "source": [
        "a = set()\n",
        "type(a)"
      ],
      "metadata": {
        "colab": {
          "base_uri": "https://localhost:8080/"
        },
        "id": "tSb2gPO6LABG",
        "outputId": "d240ada7-10ee-4bd4-cd80-b3dd915a0aac"
      },
      "execution_count": null,
      "outputs": [
        {
          "output_type": "execute_result",
          "data": {
            "text/plain": [
              "set"
            ]
          },
          "metadata": {},
          "execution_count": 5
        }
      ]
    },
    {
      "cell_type": "code",
      "source": [
        "type (a)"
      ],
      "metadata": {
        "colab": {
          "base_uri": "https://localhost:8080/"
        },
        "id": "PkC356CvNtBi",
        "outputId": "76d88b63-161c-4bb5-d8b4-e3a5112dab5d"
      },
      "execution_count": null,
      "outputs": [
        {
          "output_type": "execute_result",
          "data": {
            "text/plain": [
              "set"
            ]
          },
          "metadata": {},
          "execution_count": 2
        }
      ]
    },
    {
      "cell_type": "code",
      "source": [
        "A = set('orange', 'banana', 'pear', 'apple')\n",
        "A"
      ],
      "metadata": {
        "colab": {
          "base_uri": "https://localhost:8080/",
          "height": 193
        },
        "id": "jTs6ellzPisa",
        "outputId": "32e52bd6-8120-4403-ce90-f9663b137b41"
      },
      "execution_count": null,
      "outputs": [
        {
          "output_type": "error",
          "ename": "TypeError",
          "evalue": "set expected at most 1 argument, got 4",
          "traceback": [
            "\u001b[0;31m---------------------------------------------------------------------------\u001b[0m",
            "\u001b[0;31mTypeError\u001b[0m                                 Traceback (most recent call last)",
            "\u001b[0;32m<ipython-input-5-01e7e4c035d6>\u001b[0m in \u001b[0;36m<cell line: 1>\u001b[0;34m()\u001b[0m\n\u001b[0;32m----> 1\u001b[0;31m \u001b[0mA\u001b[0m \u001b[0;34m=\u001b[0m \u001b[0mset\u001b[0m\u001b[0;34m(\u001b[0m\u001b[0;34m'orange'\u001b[0m\u001b[0;34m,\u001b[0m \u001b[0;34m'banana'\u001b[0m\u001b[0;34m,\u001b[0m \u001b[0;34m'pear'\u001b[0m\u001b[0;34m,\u001b[0m \u001b[0;34m'apple'\u001b[0m\u001b[0;34m)\u001b[0m\u001b[0;34m\u001b[0m\u001b[0;34m\u001b[0m\u001b[0m\n\u001b[0m\u001b[1;32m      2\u001b[0m \u001b[0mA\u001b[0m\u001b[0;34m\u001b[0m\u001b[0;34m\u001b[0m\u001b[0m\n",
            "\u001b[0;31mTypeError\u001b[0m: set expected at most 1 argument, got 4"
          ]
        }
      ]
    },
    {
      "cell_type": "code",
      "source": [
        "a = set('ABC')\n",
        "a"
      ],
      "metadata": {
        "colab": {
          "base_uri": "https://localhost:8080/"
        },
        "id": "D8InDTlgPmhP",
        "outputId": "efa0b4ad-2366-4a4b-ff6e-bb6b4d56917e"
      },
      "execution_count": null,
      "outputs": [
        {
          "output_type": "execute_result",
          "data": {
            "text/plain": [
              "{'A', 'B', 'C'}"
            ]
          },
          "metadata": {},
          "execution_count": 18
        }
      ]
    },
    {
      "cell_type": "code",
      "source": [
        "a.add('D')\n",
        "a"
      ],
      "metadata": {
        "colab": {
          "base_uri": "https://localhost:8080/"
        },
        "id": "HtPrj_2SwMmW",
        "outputId": "d6864ec4-f54e-4c03-91ed-768c2dcf7ae6"
      },
      "execution_count": null,
      "outputs": [
        {
          "output_type": "execute_result",
          "data": {
            "text/plain": [
              "{'A', 'B', 'C', 'D'}"
            ]
          },
          "metadata": {},
          "execution_count": 19
        }
      ]
    },
    {
      "cell_type": "code",
      "source": [
        "a.update('E','F','G')\n",
        "a"
      ],
      "metadata": {
        "colab": {
          "base_uri": "https://localhost:8080/"
        },
        "id": "58QZ4VnuwU0h",
        "outputId": "eea83b8a-6de0-4206-dbcf-dd3f12c1ac03"
      },
      "execution_count": null,
      "outputs": [
        {
          "output_type": "execute_result",
          "data": {
            "text/plain": [
              "{'A', 'B', 'C', 'D', 'E', 'F', 'G'}"
            ]
          },
          "metadata": {},
          "execution_count": 20
        }
      ]
    },
    {
      "cell_type": "code",
      "source": [
        "a.remove('G')\n",
        "a"
      ],
      "metadata": {
        "colab": {
          "base_uri": "https://localhost:8080/"
        },
        "id": "BCVCOWBdwiEF",
        "outputId": "359c458d-2ff3-4f5e-cc8c-0125d7ec836b"
      },
      "execution_count": null,
      "outputs": [
        {
          "output_type": "execute_result",
          "data": {
            "text/plain": [
              "{'A', 'B', 'C', 'D', 'E', 'F'}"
            ]
          },
          "metadata": {},
          "execution_count": 21
        }
      ]
    },
    {
      "cell_type": "code",
      "source": [
        "a.pop()"
      ],
      "metadata": {
        "colab": {
          "base_uri": "https://localhost:8080/",
          "height": 35
        },
        "id": "vXEZwW23wlzF",
        "outputId": "0b1fe07e-50aa-48f5-f60c-3d78a18d518d"
      },
      "execution_count": null,
      "outputs": [
        {
          "output_type": "execute_result",
          "data": {
            "text/plain": [
              "'C'"
            ],
            "application/vnd.google.colaboratory.intrinsic+json": {
              "type": "string"
            }
          },
          "metadata": {},
          "execution_count": 26
        }
      ]
    },
    {
      "cell_type": "code",
      "source": [
        "A = {1, 2, 3, 4, 5}"
      ],
      "metadata": {
        "id": "wEH8hdINyQMO"
      },
      "execution_count": null,
      "outputs": []
    },
    {
      "cell_type": "code",
      "source": [
        "B = {6, 7, 8}"
      ],
      "metadata": {
        "id": "_cSf4HwOyQ7u"
      },
      "execution_count": null,
      "outputs": []
    },
    {
      "cell_type": "code",
      "source": [
        "A.union(B)"
      ],
      "metadata": {
        "colab": {
          "base_uri": "https://localhost:8080/"
        },
        "id": "X8rD5B3xyUUo",
        "outputId": "2af03801-57d5-4113-95db-e743533ed287"
      },
      "execution_count": null,
      "outputs": [
        {
          "output_type": "execute_result",
          "data": {
            "text/plain": [
              "{1, 2, 3, 4, 5, 6, 7, 8}"
            ]
          },
          "metadata": {},
          "execution_count": 29
        }
      ]
    },
    {
      "cell_type": "code",
      "source": [
        "A.difference(B)"
      ],
      "metadata": {
        "colab": {
          "base_uri": "https://localhost:8080/"
        },
        "id": "GkIhsMkGyW9G",
        "outputId": "9c97543a-2e01-48b2-e765-1abb9cca3ce0"
      },
      "execution_count": null,
      "outputs": [
        {
          "output_type": "execute_result",
          "data": {
            "text/plain": [
              "{1, 2, 3, 4, 5}"
            ]
          },
          "metadata": {},
          "execution_count": 30
        }
      ]
    },
    {
      "cell_type": "code",
      "source": [],
      "metadata": {
        "id": "U96G5MXk1YqZ"
      },
      "execution_count": null,
      "outputs": []
    },
    {
      "cell_type": "markdown",
      "source": [
        "ডিকশনারি"
      ],
      "metadata": {
        "id": "1SmNycuL1a6b"
      }
    },
    {
      "cell_type": "code",
      "source": [],
      "metadata": {
        "id": "Gqdvj3xt1bgp"
      },
      "execution_count": null,
      "outputs": []
    },
    {
      "cell_type": "markdown",
      "source": [
        "# Day 5 Dictionary and condition"
      ],
      "metadata": {
        "id": "jrQf3NlJJZRK"
      }
    },
    {
      "cell_type": "code",
      "source": [
        "a = { }\n",
        "type(a)"
      ],
      "metadata": {
        "colab": {
          "base_uri": "https://localhost:8080/"
        },
        "id": "p8afSZATJ40M",
        "outputId": "da1f8b2e-0842-4e77-c543-3b2417ecf8b5"
      },
      "execution_count": null,
      "outputs": [
        {
          "output_type": "execute_result",
          "data": {
            "text/plain": [
              "dict"
            ]
          },
          "metadata": {},
          "execution_count": 1
        }
      ]
    },
    {
      "cell_type": "code",
      "source": [
        "a = {'name' : 'MD. Maksudur Rahman Khan', 'nickname' : 'Maateen', 'email' : 'maateen@outlook.com', 'phone' : '01711223344'}\n",
        "a"
      ],
      "metadata": {
        "colab": {
          "base_uri": "https://localhost:8080/"
        },
        "id": "60AKbUruKRFV",
        "outputId": "1525dc07-848d-4c25-ccff-28c282657e02"
      },
      "execution_count": null,
      "outputs": [
        {
          "output_type": "execute_result",
          "data": {
            "text/plain": [
              "{'name': 'MD. Maksudur Rahman Khan',\n",
              " 'nickname': 'Maateen',\n",
              " 'email': 'maateen@outlook.com',\n",
              " 'phone': '01711223344'}"
            ]
          },
          "metadata": {},
          "execution_count": 8
        }
      ]
    },
    {
      "cell_type": "markdown",
      "source": [
        "Accessing an item"
      ],
      "metadata": {
        "id": "mr2ZBrVEMAZK"
      }
    },
    {
      "cell_type": "code",
      "source": [
        "a ['name']"
      ],
      "metadata": {
        "colab": {
          "base_uri": "https://localhost:8080/",
          "height": 35
        },
        "id": "EI54FhLOKUcz",
        "outputId": "44057fba-ea0c-485e-a672-8999656448ba"
      },
      "execution_count": null,
      "outputs": [
        {
          "output_type": "execute_result",
          "data": {
            "text/plain": [
              "'MD. Maksudur Rahman Khan'"
            ],
            "application/vnd.google.colaboratory.intrinsic+json": {
              "type": "string"
            }
          },
          "metadata": {},
          "execution_count": 3
        }
      ]
    },
    {
      "cell_type": "markdown",
      "source": [
        "Updating Item"
      ],
      "metadata": {
        "id": "1uKDSsKfMDCD"
      }
    },
    {
      "cell_type": "code",
      "source": [
        "a['name']= 'Esrak Fardin'\n",
        "a"
      ],
      "metadata": {
        "colab": {
          "base_uri": "https://localhost:8080/"
        },
        "id": "LlYlqFpQMElY",
        "outputId": "4450119d-9055-468d-c323-c0ec0246593b"
      },
      "execution_count": null,
      "outputs": [
        {
          "output_type": "execute_result",
          "data": {
            "text/plain": [
              "{'name': 'Esrak Fardin',\n",
              " 'nickname': 'Ratul',\n",
              " 'email': 'maateen@outlook.com',\n",
              " 'phone': '01711223344',\n",
              " 'hometown': 'Barisal',\n",
              " 'fav_poet': 'Nazrul'}"
            ]
          },
          "metadata": {},
          "execution_count": 18
        }
      ]
    },
    {
      "cell_type": "code",
      "source": [
        "a['nickname']= 'Ratul'\n",
        "a"
      ],
      "metadata": {
        "colab": {
          "base_uri": "https://localhost:8080/"
        },
        "id": "sofiHwGZMM-A",
        "outputId": "bca65df4-4553-491b-adf0-e6d9d31f6db8"
      },
      "execution_count": null,
      "outputs": [
        {
          "output_type": "execute_result",
          "data": {
            "text/plain": [
              "{'name': 'Esrak Fardin',\n",
              " 'nickname': 'Ratul',\n",
              " 'email': 'maateen@outlook.com',\n",
              " 'phone': '01711223344'}"
            ]
          },
          "metadata": {},
          "execution_count": 11
        }
      ]
    },
    {
      "cell_type": "markdown",
      "source": [
        "Adding New Set of elements into an existing list"
      ],
      "metadata": {
        "id": "MJ2S85ZfMvep"
      }
    },
    {
      "cell_type": "code",
      "source": [
        "a['hometown'] = 'Manikganj'"
      ],
      "metadata": {
        "id": "xExLBbS1MT46"
      },
      "execution_count": null,
      "outputs": []
    },
    {
      "cell_type": "code",
      "source": [
        "a"
      ],
      "metadata": {
        "colab": {
          "base_uri": "https://localhost:8080/"
        },
        "id": "nV1Rc6C7NQC7",
        "outputId": "26fd1222-8deb-42b3-d7e8-6097712b3d44"
      },
      "execution_count": null,
      "outputs": [
        {
          "output_type": "execute_result",
          "data": {
            "text/plain": [
              "{'name': 'Esrak Fardin',\n",
              " 'nickname': 'Ratul',\n",
              " 'email': 'maateen@outlook.com',\n",
              " 'phone': '01711223344',\n",
              " 'hometown': 'Manikganj',\n",
              " 'fav_poet': 'Nazrul'}"
            ]
          },
          "metadata": {},
          "execution_count": 21
        }
      ]
    },
    {
      "cell_type": "code",
      "source": [
        "a ['hometown']"
      ],
      "metadata": {
        "colab": {
          "base_uri": "https://localhost:8080/",
          "height": 35
        },
        "id": "oePSGNbONRTU",
        "outputId": "f757756d-402b-426d-e11d-387cf8b7fbd1"
      },
      "execution_count": null,
      "outputs": [
        {
          "output_type": "execute_result",
          "data": {
            "text/plain": [
              "'Manikganj'"
            ],
            "application/vnd.google.colaboratory.intrinsic+json": {
              "type": "string"
            }
          },
          "metadata": {},
          "execution_count": 20
        }
      ]
    },
    {
      "cell_type": "markdown",
      "source": [
        "Adding a whole new disct into an existing disct  "
      ],
      "metadata": {
        "id": "T1oaq9h6M73Z"
      }
    },
    {
      "cell_type": "code",
      "source": [
        "b = {'hobby' : 'Gardening', 'fav_poet' : 'Nazrul'}"
      ],
      "metadata": {
        "id": "RzoTwpQVNHri"
      },
      "execution_count": null,
      "outputs": []
    },
    {
      "cell_type": "code",
      "source": [
        "a.update(b)\n",
        "a"
      ],
      "metadata": {
        "colab": {
          "base_uri": "https://localhost:8080/"
        },
        "id": "328r50EGL_Pk",
        "outputId": "ff848473-e077-41fe-a241-6672827e6b2a"
      },
      "execution_count": null,
      "outputs": [
        {
          "output_type": "execute_result",
          "data": {
            "text/plain": [
              "{'name': 'MD. Maksudur Rahman Khan',\n",
              " 'nickname': 'Maateen',\n",
              " 'email': 'maateen@outlook.com',\n",
              " 'phone': '01711223344',\n",
              " 'hobby': 'Gardening',\n",
              " 'fav_poet': 'Nazrul'}"
            ]
          },
          "metadata": {},
          "execution_count": 4
        }
      ]
    },
    {
      "cell_type": "code",
      "source": [
        "a ['hometown']"
      ],
      "metadata": {
        "colab": {
          "base_uri": "https://localhost:8080/",
          "height": 35
        },
        "id": "D_yrULd1L2Zv",
        "outputId": "ac655884-7879-440c-c913-89baf7cc6af6"
      },
      "execution_count": null,
      "outputs": [
        {
          "output_type": "execute_result",
          "data": {
            "text/plain": [
              "'Manikganj'"
            ],
            "application/vnd.google.colaboratory.intrinsic+json": {
              "type": "string"
            }
          },
          "metadata": {},
          "execution_count": 24
        }
      ]
    },
    {
      "cell_type": "markdown",
      "source": [],
      "metadata": {
        "id": "XZ1XcxzdMtdk"
      }
    },
    {
      "cell_type": "code",
      "source": [
        "a = dict()\n",
        "type (a)"
      ],
      "metadata": {
        "colab": {
          "base_uri": "https://localhost:8080/"
        },
        "id": "OJPg6vlQLNhG",
        "outputId": "935a70f0-5bf5-46e7-8634-79d52d0b7f78"
      },
      "execution_count": null,
      "outputs": [
        {
          "output_type": "execute_result",
          "data": {
            "text/plain": [
              "dict"
            ]
          },
          "metadata": {},
          "execution_count": 6
        }
      ]
    },
    {
      "cell_type": "code",
      "source": [
        "del a['name']\n",
        "a"
      ],
      "metadata": {
        "colab": {
          "base_uri": "https://localhost:8080/"
        },
        "id": "IYKSYcZpLYTq",
        "outputId": "9cb5e2ba-7484-4b3d-b38d-ef35ccb86e9e"
      },
      "execution_count": null,
      "outputs": [
        {
          "output_type": "execute_result",
          "data": {
            "text/plain": [
              "{'nickname': 'Maateen',\n",
              " 'email': 'maateen@outlook.com',\n",
              " 'phone': '01711223344',\n",
              " 'hobby': 'Gardening',\n",
              " 'fav_poet': 'Nazrul'}"
            ]
          },
          "metadata": {},
          "execution_count": 5
        }
      ]
    },
    {
      "cell_type": "code",
      "source": [
        "a.clear()"
      ],
      "metadata": {
        "id": "Leibpc13XJqD"
      },
      "execution_count": null,
      "outputs": []
    },
    {
      "cell_type": "code",
      "source": [
        "a.copy()\n",
        "a"
      ],
      "metadata": {
        "colab": {
          "base_uri": "https://localhost:8080/"
        },
        "id": "5GeRqSTLXO78",
        "outputId": "b6212aff-111b-4c7a-f971-4c4e12ac511c"
      },
      "execution_count": null,
      "outputs": [
        {
          "output_type": "execute_result",
          "data": {
            "text/plain": [
              "{'name': 'MD. Maksudur Rahman Khan',\n",
              " 'nickname': 'Maateen',\n",
              " 'email': 'maateen@outlook.com',\n",
              " 'phone': '01711223344'}"
            ]
          },
          "metadata": {},
          "execution_count": 12
        }
      ]
    },
    {
      "cell_type": "code",
      "source": [
        "a.get('name')"
      ],
      "metadata": {
        "colab": {
          "base_uri": "https://localhost:8080/",
          "height": 35
        },
        "id": "yKvnnJSuXmvU",
        "outputId": "f80fb3ea-b90f-4387-8e82-6db1cfc7216f"
      },
      "execution_count": null,
      "outputs": [
        {
          "output_type": "execute_result",
          "data": {
            "text/plain": [
              "'MD. Maksudur Rahman Khan'"
            ],
            "application/vnd.google.colaboratory.intrinsic+json": {
              "type": "string"
            }
          },
          "metadata": {},
          "execution_count": 13
        }
      ]
    },
    {
      "cell_type": "code",
      "source": [
        "a.get('Ratul')"
      ],
      "metadata": {
        "id": "3m37p6RVX9Xu"
      },
      "execution_count": null,
      "outputs": []
    },
    {
      "cell_type": "code",
      "source": [
        "a.get('Ratul','Pagol')"
      ],
      "metadata": {
        "colab": {
          "base_uri": "https://localhost:8080/",
          "height": 35
        },
        "id": "ETm5W_nbXqFx",
        "outputId": "f7308c53-62f4-412d-a79b-f2c00321ba48"
      },
      "execution_count": null,
      "outputs": [
        {
          "output_type": "execute_result",
          "data": {
            "text/plain": [
              "'Pagol'"
            ],
            "application/vnd.google.colaboratory.intrinsic+json": {
              "type": "string"
            }
          },
          "metadata": {},
          "execution_count": 17
        }
      ]
    },
    {
      "cell_type": "code",
      "source": [
        "'name' in a"
      ],
      "metadata": {
        "colab": {
          "base_uri": "https://localhost:8080/"
        },
        "id": "RAeDdipIYgKL",
        "outputId": "ddeb6cde-5933-44d7-ae70-762de58841b9"
      },
      "execution_count": null,
      "outputs": [
        {
          "output_type": "execute_result",
          "data": {
            "text/plain": [
              "True"
            ]
          },
          "metadata": {},
          "execution_count": 18
        }
      ]
    },
    {
      "cell_type": "code",
      "source": [
        "'frame' in a"
      ],
      "metadata": {
        "colab": {
          "base_uri": "https://localhost:8080/"
        },
        "id": "HAZ2HveKYiJ-",
        "outputId": "883aec80-3fa5-49f6-8f99-482d6b73005b"
      },
      "execution_count": null,
      "outputs": [
        {
          "output_type": "execute_result",
          "data": {
            "text/plain": [
              "False"
            ]
          },
          "metadata": {},
          "execution_count": 19
        }
      ]
    },
    {
      "cell_type": "code",
      "source": [
        "a. items()"
      ],
      "metadata": {
        "colab": {
          "base_uri": "https://localhost:8080/"
        },
        "id": "EVYwtHJ7YvyC",
        "outputId": "174ae915-d749-496e-8a2a-8ed429565873"
      },
      "execution_count": null,
      "outputs": [
        {
          "output_type": "execute_result",
          "data": {
            "text/plain": [
              "dict_items([('name', 'MD. Maksudur Rahman Khan'), ('nickname', 'Maateen'), ('email', 'maateen@outlook.com'), ('phone', '01711223344')])"
            ]
          },
          "metadata": {},
          "execution_count": 20
        }
      ]
    },
    {
      "cell_type": "code",
      "source": [
        "a.keys()"
      ],
      "metadata": {
        "colab": {
          "base_uri": "https://localhost:8080/"
        },
        "id": "UV6AZ3_7Y8qb",
        "outputId": "d901bea3-a22c-4e66-90e8-3de783eec8ba"
      },
      "execution_count": null,
      "outputs": [
        {
          "output_type": "execute_result",
          "data": {
            "text/plain": [
              "dict_keys(['name', 'nickname', 'email', 'phone'])"
            ]
          },
          "metadata": {},
          "execution_count": 21
        }
      ]
    },
    {
      "cell_type": "code",
      "source": [
        "a.values()"
      ],
      "metadata": {
        "colab": {
          "base_uri": "https://localhost:8080/"
        },
        "id": "P-lVEpDvZEXM",
        "outputId": "b4273de4-e056-4de3-f290-42932a8f9db5"
      },
      "execution_count": null,
      "outputs": [
        {
          "output_type": "execute_result",
          "data": {
            "text/plain": [
              "dict_values(['MD. Maksudur Rahman Khan', 'Maateen', 'maateen@outlook.com', '01711223344'])"
            ]
          },
          "metadata": {},
          "execution_count": 22
        }
      ]
    },
    {
      "cell_type": "markdown",
      "source": [
        "কন্ডিশনাল লজিক"
      ],
      "metadata": {
        "id": "8UQENtvHf9cv"
      }
    },
    {
      "cell_type": "code",
      "source": [
        "a =int(input(\"Enter the value of a :\"))\n",
        "if a < 10 :\n",
        "  print ('a is less than 10')\n",
        "elif a > 10:\n",
        "  print('a greater than 10 ')\n",
        "else:\n",
        "  print('A equal to 10')\n",
        "\n"
      ],
      "metadata": {
        "colab": {
          "base_uri": "https://localhost:8080/"
        },
        "id": "D4-jh8fff-B5",
        "outputId": "ca34f452-1b50-443f-f7fa-85f847dee2e9"
      },
      "execution_count": null,
      "outputs": [
        {
          "output_type": "stream",
          "name": "stdout",
          "text": [
            "Enter the value of a :9\n",
            "a is less than 10\n"
          ]
        }
      ]
    },
    {
      "cell_type": "markdown",
      "source": [
        "nested if"
      ],
      "metadata": {
        "id": "IkbfK2lthaaq"
      }
    },
    {
      "cell_type": "code",
      "source": [
        "a = int(input(\"Enter The value of a: \"))\n",
        "if a > 10:\n",
        "  if (a %2 )== 0:\n",
        "    print(\"The value is greater than 10,and can be divided by 2\")\n",
        "  else:\n",
        "    print(\"The value is greater than 10 but can't be divided by 2\")\n",
        "if a < 10:\n",
        "  if (a % 3)== 0:\n",
        "    print(\"The value is less than 10 , and can be divided by 3\")\n",
        "  else:\n",
        "    print(\"The value is less than 10 but can't be divided by 3\")\n"
      ],
      "metadata": {
        "colab": {
          "base_uri": "https://localhost:8080/"
        },
        "id": "b4AOc-ifha_Z",
        "outputId": "d66411a0-3528-4429-ec79-7edf2e88fa6e"
      },
      "execution_count": null,
      "outputs": [
        {
          "output_type": "stream",
          "name": "stdout",
          "text": [
            "Enter The value of a: 17\n",
            "The value is greater than 10 but can't be divided by 2\n"
          ]
        }
      ]
    },
    {
      "cell_type": "code",
      "source": [
        "a = 1\n",
        "if a :\n",
        "     print(True)\n",
        "else:\n",
        "  print(False)\n"
      ],
      "metadata": {
        "colab": {
          "base_uri": "https://localhost:8080/"
        },
        "id": "t8hWGwgniaxK",
        "outputId": "1eb748de-7791-4b96-98aa-f247ee4c960e"
      },
      "execution_count": null,
      "outputs": [
        {
          "output_type": "stream",
          "name": "stdout",
          "text": [
            "True\n"
          ]
        }
      ]
    },
    {
      "cell_type": "code",
      "source": [
        "a = 0\n",
        "if a :\n",
        "   print(True)\n",
        "else:\n",
        "  print(False)\n",
        "\n"
      ],
      "metadata": {
        "colab": {
          "base_uri": "https://localhost:8080/"
        },
        "id": "hl1Q0Atkj8Vv",
        "outputId": "120d5f45-9d9b-4e7b-8f6c-47b6637d1a52"
      },
      "execution_count": null,
      "outputs": [
        {
          "output_type": "stream",
          "name": "stdout",
          "text": [
            "False\n"
          ]
        }
      ]
    },
    {
      "cell_type": "code",
      "source": [
        "a = not None\n",
        "if a:\n",
        "   print(True)\n",
        "else:\n",
        "  print(False)"
      ],
      "metadata": {
        "colab": {
          "base_uri": "https://localhost:8080/"
        },
        "id": "4unj8D4VhIQQ",
        "outputId": "0c00c28e-110b-49bb-9eb3-af548349e3cf"
      },
      "execution_count": null,
      "outputs": [
        {
          "output_type": "stream",
          "name": "stdout",
          "text": [
            "True\n"
          ]
        }
      ]
    },
    {
      "cell_type": "markdown",
      "source": [
        "priblem 1\n",
        "ইউজার একটা পূর্ণসংখ্যা ইনপুট দেবে। সংখ্যাটি ৩ ও ৫ দ্বারা নিঃশেষে বিভাজ্য হলে আউটপুট হবে Yes আর না হলে আউটপুট হবে No।"
      ],
      "metadata": {
        "id": "1erFlshKk6RE"
      }
    },
    {
      "cell_type": "code",
      "source": [
        "a = int(input(\"Insert an integer:\"))\n",
        "if (a% 3)== 0 and (a%5)== 0:\n",
        "  print ('Yes')\n",
        "else :\n",
        "  print('No')"
      ],
      "metadata": {
        "colab": {
          "base_uri": "https://localhost:8080/"
        },
        "id": "pMwiXnrIk7tL",
        "outputId": "d53626f2-e740-4317-f0af-3d55266caed7"
      },
      "execution_count": null,
      "outputs": [
        {
          "output_type": "stream",
          "name": "stdout",
          "text": [
            "Insert an integer:13\n",
            "No\n"
          ]
        }
      ]
    },
    {
      "cell_type": "markdown",
      "source": [
        "problem 2 ইউজার একটা সংখ্যা ইনপুট দেবে। সংখ্যাটি ধনাত্মক হলে আউটপুট হবে Positive, ঋণাত্মক হলে আউটপুট হবে Negative আর জিরো হলে আউটপুট Zero হবে।"
      ],
      "metadata": {
        "id": "6pp1BVVmleOC"
      }
    },
    {
      "cell_type": "code",
      "source": [
        "a = int(input('Enter a number :'))\n",
        "if a >0 :\n",
        "  print('The number is positive ')\n",
        "elif a < 0 :\n",
        "  print('The number is negative ')\n",
        "else:\n",
        "  print (\"The Number is zero\")"
      ],
      "metadata": {
        "colab": {
          "base_uri": "https://localhost:8080/"
        },
        "id": "aD0iGZt4lf7o",
        "outputId": "b80f90ab-3893-46c5-de17-b31b7e213987"
      },
      "execution_count": null,
      "outputs": [
        {
          "output_type": "stream",
          "name": "stdout",
          "text": [
            "Enter a number :-10\n",
            "The number is negative \n"
          ]
        }
      ]
    },
    {
      "cell_type": "markdown",
      "source": [
        "problem 3 :প্রবলেম-৩ #\n",
        "ইউজার একটি পূর্ণসংখ্যা ইনপুট দেবে। সংখ্যাটি জোড় হলে আউটপুট হবে Even আর বিজোড় হলে আউটপুট Odd হবে।"
      ],
      "metadata": {
        "id": "4VXx33rBmS6A"
      }
    },
    {
      "cell_type": "code",
      "source": [
        "a = int(input(\"Enter a number :\"))\n",
        "if a == 2:\n",
        "  print('The number is 2 and even')\n",
        "elif a == 0:\n",
        "  print('The number is 0')\n",
        "else:\n",
        "  if (a%2)== 0:\n",
        "    print('The Number in Even ')\n",
        "  elif(a%2) != 0:\n",
        "    print('The Number is odd')"
      ],
      "metadata": {
        "colab": {
          "base_uri": "https://localhost:8080/"
        },
        "id": "e1H5CGYKmUwr",
        "outputId": "437d9e0c-ae6f-4b73-e3c0-55a2c07157f3"
      },
      "execution_count": null,
      "outputs": [
        {
          "output_type": "stream",
          "name": "stdout",
          "text": [
            "Enter a number :12\n",
            "The Number in Even \n"
          ]
        }
      ]
    },
    {
      "cell_type": "markdown",
      "source": [
        "প্রবলেম-৪ #\n",
        "ইউজার একটি ক্যারেক্টার (আলফাবেট) ইনপুট দেবে। ক্যারেক্টারটা ছোট হাতের অক্ষর হলে আউটপুট হবে Lower Case আর বড় হাতের অক্ষর হলে হবে Upper Case। যদি ক্যারেক্টারটা আলফাবেটের মধ্যে না পড়ে, তবে আউটপুট Nothing হবে।"
      ],
      "metadata": {
        "id": "RM3lPBSTHO8W"
      }
    },
    {
      "cell_type": "code",
      "source": [
        "print('Enter a character ')\n",
        "a = input()\n",
        "if a >= 'a' and a <= 'z':\n",
        "  print('The Chracter is Lowercase')\n",
        "elif a >= 'A' and a <= 'Z':\n",
        "  print('The Chracter is Uppercase')\n",
        "else:\n",
        "  print('Nothing')\n"
      ],
      "metadata": {
        "colab": {
          "base_uri": "https://localhost:8080/"
        },
        "id": "6_vR1dZKHP7f",
        "outputId": "173ab624-5c7b-4982-8c4a-79f34edf0851"
      },
      "execution_count": null,
      "outputs": [
        {
          "output_type": "stream",
          "name": "stdout",
          "text": [
            "Enter a character \n",
            "A\n",
            "The Chracter is Uppercase\n"
          ]
        }
      ]
    },
    {
      "cell_type": "markdown",
      "source": [
        "প্রবলেম-৫ #\n",
        "ইউজার একটি ক্যারেক্টার (আলফাবেট) ইনপুট দেবে। ক্যারেক্টারটা ভাওয়েল (Vowel) হলে আউটপুট হবে Vowel আর কনসোনেন্ট (Consonant) হলে হবে Consonant; যদি ক্যারেক্টারটা আলফাবেটের মধ্যে না পড়ে, তবে আউটপুট হবে Nothing."
      ],
      "metadata": {
        "id": "DcLEM2XEH58V"
      }
    },
    {
      "cell_type": "code",
      "source": [
        "a = input('Enter a Vowel: ')\n",
        "if a >= 'a' and a <= 'z' or a >= 'A' and a<= 'Z':\n",
        "  if a in 'aeiouAEIOU':\n",
        "    print('The Number is Vowel')\n",
        "  else :\n",
        "    print('The Number is not Vowel')\n",
        "else:\n",
        "  print('Nothing')\n"
      ],
      "metadata": {
        "colab": {
          "base_uri": "https://localhost:8080/"
        },
        "id": "op7p8vdFKdGy",
        "outputId": "7e478da9-4c7d-48b0-e4db-59643f3ea4cc"
      },
      "execution_count": null,
      "outputs": [
        {
          "output_type": "stream",
          "name": "stdout",
          "text": [
            "Enter a Vowel: 1\n",
            "Nothing\n"
          ]
        }
      ]
    },
    {
      "cell_type": "markdown",
      "source": [
        "# Day 6 লুপ"
      ],
      "metadata": {
        "id": "2rUIXr8Wdyu5"
      }
    },
    {
      "cell_type": "code",
      "source": [
        "i = 1\n",
        "while  i<=10:\n",
        "  print(i)\n",
        "  i = i +1"
      ],
      "metadata": {
        "colab": {
          "base_uri": "https://localhost:8080/"
        },
        "id": "uXItuU54d29U",
        "outputId": "e93c0c7b-6ab9-42c0-fd12-7b624deca320"
      },
      "execution_count": null,
      "outputs": [
        {
          "output_type": "stream",
          "name": "stdout",
          "text": [
            "1\n",
            "2\n",
            "3\n",
            "4\n",
            "5\n",
            "6\n",
            "7\n",
            "8\n",
            "9\n",
            "10\n"
          ]
        }
      ]
    },
    {
      "cell_type": "markdown",
      "source": [
        " ১ থেকে ১০০ পর্যন্ত সংখ্যাগুলোকে যোগ করা"
      ],
      "metadata": {
        "id": "L6Cqe1-mfgUT"
      }
    },
    {
      "cell_type": "code",
      "source": [
        "i = 1\n",
        "sum = 0\n",
        "while i <= 100:\n",
        "  sum = i + sum\n",
        "  i = i +1\n",
        "print(sum)"
      ],
      "metadata": {
        "colab": {
          "base_uri": "https://localhost:8080/"
        },
        "id": "izAlCMOcefeg",
        "outputId": "eb2d0f82-66a9-4adf-ca71-a90471efa3ed"
      },
      "execution_count": null,
      "outputs": [
        {
          "output_type": "stream",
          "name": "stdout",
          "text": [
            "5050\n"
          ]
        }
      ]
    },
    {
      "cell_type": "markdown",
      "source": [
        "1+2+3+4+ ... +n = n(n+1)/2"
      ],
      "metadata": {
        "id": "XxfQyj2Ff4s_"
      }
    },
    {
      "cell_type": "code",
      "source": [
        "n = 100\n",
        "temp = n*(n+1)/2\n",
        "print(temp)\n"
      ],
      "metadata": {
        "colab": {
          "base_uri": "https://localhost:8080/"
        },
        "id": "lMssXYn7gD8x",
        "outputId": "432fad76-2e06-4208-8ec5-23c488f50b3e"
      },
      "execution_count": null,
      "outputs": [
        {
          "output_type": "stream",
          "name": "stdout",
          "text": [
            "5050.0\n"
          ]
        }
      ]
    },
    {
      "cell_type": "markdown",
      "source": [
        "for লুপ"
      ],
      "metadata": {
        "id": "GZzDpY20gPWc"
      }
    },
    {
      "cell_type": "code",
      "source": [
        "a = ['Ratul', 'Mahir','Siam','Mridul','Rafi','Rahi']\n",
        "print(type(a))\n",
        "for item in a:\n",
        "  print(item)"
      ],
      "metadata": {
        "colab": {
          "base_uri": "https://localhost:8080/"
        },
        "id": "kYlu3xFngUAY",
        "outputId": "23d681a3-de99-4bd0-b487-e2bcbe09fa74"
      },
      "execution_count": null,
      "outputs": [
        {
          "output_type": "stream",
          "name": "stdout",
          "text": [
            "<class 'list'>\n",
            "Ratul\n",
            "Mahir\n",
            "Siam\n",
            "Mridul\n",
            "Rafi\n",
            "Rahi\n"
          ]
        }
      ]
    },
    {
      "cell_type": "code",
      "source": [
        "a = {'name' : 'MD. Maksudur Rahman Khan', 'nickname' : 'Maateen', 'email' : 'maateen@outlook.com', 'phone' : '01711223344'}\n",
        "print(type(a))\n",
        "for item in a :\n",
        "  print(item)"
      ],
      "metadata": {
        "colab": {
          "base_uri": "https://localhost:8080/"
        },
        "id": "8LJdf5iEhjC8",
        "outputId": "8ec31576-5fa1-4f60-8949-67326923ae33"
      },
      "execution_count": null,
      "outputs": [
        {
          "output_type": "stream",
          "name": "stdout",
          "text": [
            "<class 'dict'>\n",
            "name\n",
            "nickname\n",
            "email\n",
            "phone\n"
          ]
        }
      ]
    },
    {
      "cell_type": "code",
      "source": [
        "a = 'Ratul'\n",
        "for letter in a :\n",
        "  print(letter)"
      ],
      "metadata": {
        "colab": {
          "base_uri": "https://localhost:8080/"
        },
        "id": "SQDEl4TJh7X4",
        "outputId": "aac2c028-8240-409a-9b2b-3f2d0eb21985"
      },
      "execution_count": null,
      "outputs": [
        {
          "output_type": "stream",
          "name": "stdout",
          "text": [
            "R\n",
            "a\n",
            "t\n",
            "u\n",
            "l\n"
          ]
        }
      ]
    },
    {
      "cell_type": "code",
      "source": [
        "range(5)"
      ],
      "metadata": {
        "colab": {
          "base_uri": "https://localhost:8080/"
        },
        "id": "XT0hZqyZi1iD",
        "outputId": "f78b866b-56d5-406d-c29d-59dfb35145f8"
      },
      "execution_count": null,
      "outputs": [
        {
          "output_type": "execute_result",
          "data": {
            "text/plain": [
              "range(0, 5)"
            ]
          },
          "metadata": {},
          "execution_count": 24
        }
      ]
    },
    {
      "cell_type": "code",
      "source": [
        "list(range(5))"
      ],
      "metadata": {
        "colab": {
          "base_uri": "https://localhost:8080/"
        },
        "id": "lvNa9xG6jyac",
        "outputId": "364f09b6-027c-4423-9330-e8810935d59d"
      },
      "execution_count": null,
      "outputs": [
        {
          "output_type": "execute_result",
          "data": {
            "text/plain": [
              "[0, 1, 2, 3, 4]"
            ]
          },
          "metadata": {},
          "execution_count": 25
        }
      ]
    },
    {
      "cell_type": "code",
      "source": [
        "range(5, 21)\n",
        "list(range(5,21))"
      ],
      "metadata": {
        "colab": {
          "base_uri": "https://localhost:8080/"
        },
        "id": "1y-Bj9N3j3Xh",
        "outputId": "7ab402e9-c165-4a06-96f4-fb7a4bea6994"
      },
      "execution_count": null,
      "outputs": [
        {
          "output_type": "execute_result",
          "data": {
            "text/plain": [
              "[5, 6, 7, 8, 9, 10, 11, 12, 13, 14, 15, 16, 17, 18, 19, 20]"
            ]
          },
          "metadata": {},
          "execution_count": 27
        }
      ]
    },
    {
      "cell_type": "code",
      "source": [
        "range(5, 23, 2)\n",
        "list(range(5,23,2))"
      ],
      "metadata": {
        "colab": {
          "base_uri": "https://localhost:8080/"
        },
        "id": "GyCqFDFUhfD-",
        "outputId": "4f262631-c97c-450d-d39d-d4c00190b5cb"
      },
      "execution_count": null,
      "outputs": [
        {
          "output_type": "execute_result",
          "data": {
            "text/plain": [
              "[5, 7, 9, 11, 13, 15, 17, 19, 21]"
            ]
          },
          "metadata": {},
          "execution_count": 30
        }
      ]
    },
    {
      "cell_type": "code",
      "source": [
        "for number in range (1,11):\n",
        "  number\n",
        "  print(number )\n",
        "\n"
      ],
      "metadata": {
        "colab": {
          "base_uri": "https://localhost:8080/"
        },
        "id": "aT5fGbeLnw-D",
        "outputId": "4d7423ef-4a49-4de0-e447-fe088f3221f1"
      },
      "execution_count": null,
      "outputs": [
        {
          "output_type": "stream",
          "name": "stdout",
          "text": [
            "1\n",
            "2\n",
            "3\n",
            "4\n",
            "5\n",
            "6\n",
            "7\n",
            "8\n",
            "9\n",
            "10\n"
          ]
        }
      ]
    },
    {
      "cell_type": "markdown",
      "source": [
        "লুপ কন্ট্রোল স্টেটমেন্ট (break)"
      ],
      "metadata": {
        "id": "jw07nytqeYUB"
      }
    },
    {
      "cell_type": "code",
      "source": [
        "for number in range (1,10):\n",
        "    if number == 5:\n",
        "     break\n",
        "    print(number)\n"
      ],
      "metadata": {
        "colab": {
          "base_uri": "https://localhost:8080/"
        },
        "id": "2CLCwgmSeegE",
        "outputId": "ef6f69a1-4f33-4236-d8a9-9b5854dc1191"
      },
      "execution_count": null,
      "outputs": [
        {
          "output_type": "stream",
          "name": "stdout",
          "text": [
            "1\n",
            "2\n",
            "3\n",
            "4\n"
          ]
        }
      ]
    },
    {
      "cell_type": "code",
      "source": [
        "for number in range (1,10):\n",
        "  if number == 5:\n",
        "    break\n",
        "  print(number)"
      ],
      "metadata": {
        "colab": {
          "base_uri": "https://localhost:8080/"
        },
        "id": "eFXe9O-3e4xE",
        "outputId": "99182cf6-c003-41af-aa1e-b72d00a1f272"
      },
      "execution_count": null,
      "outputs": [
        {
          "output_type": "stream",
          "name": "stdout",
          "text": [
            "1\n",
            "2\n",
            "3\n",
            "4\n"
          ]
        }
      ]
    },
    {
      "cell_type": "markdown",
      "source": [
        "লুপ কন্ট্রোল স্টেটমেন্ট (continue)"
      ],
      "metadata": {
        "id": "NYUdjF50f4h9"
      }
    },
    {
      "cell_type": "code",
      "source": [
        "for number in range (1,10):\n",
        "  if number == 5:\n",
        "    continue\n",
        "  print(number)"
      ],
      "metadata": {
        "colab": {
          "base_uri": "https://localhost:8080/"
        },
        "id": "76NjWQZwfGyX",
        "outputId": "83b776f4-3880-4912-cd09-143bc3a8f7bb"
      },
      "execution_count": null,
      "outputs": [
        {
          "output_type": "stream",
          "name": "stdout",
          "text": [
            "1\n",
            "2\n",
            "3\n",
            "4\n",
            "6\n",
            "7\n",
            "8\n",
            "9\n"
          ]
        }
      ]
    },
    {
      "cell_type": "markdown",
      "source": [
        "লুপ কন্ট্রোল স্টেটমেন্ট (pass)"
      ],
      "metadata": {
        "id": "G0cus68HglqY"
      }
    },
    {
      "cell_type": "code",
      "source": [
        "for number in range (1,10):\n",
        "  if number == 5:\n",
        "    pass\n",
        "  print(number)"
      ],
      "metadata": {
        "colab": {
          "base_uri": "https://localhost:8080/"
        },
        "id": "yGjJwj_veZDO",
        "outputId": "9a6d279f-5af3-4d8a-9ab6-eb09cf971f39"
      },
      "execution_count": null,
      "outputs": [
        {
          "output_type": "stream",
          "name": "stdout",
          "text": [
            "1\n",
            "2\n",
            "3\n",
            "4\n",
            "5\n",
            "6\n",
            "7\n",
            "8\n",
            "9\n"
          ]
        }
      ]
    },
    {
      "cell_type": "markdown",
      "source": [
        "লুপের সাথে else\n",
        "While + Else"
      ],
      "metadata": {
        "id": "-bzeF1clguwX"
      }
    },
    {
      "cell_type": "code",
      "source": [
        "n = 0\n",
        "while n <= 10:\n",
        "  print(n)\n",
        "  n = n+1\n",
        "else:\n",
        "  print(\"The Loop is over \")"
      ],
      "metadata": {
        "colab": {
          "base_uri": "https://localhost:8080/"
        },
        "id": "XaI_KAxvg4Bu",
        "outputId": "bb76a513-c4f1-4023-bfe4-70e9c061df32"
      },
      "execution_count": null,
      "outputs": [
        {
          "output_type": "stream",
          "name": "stdout",
          "text": [
            "0\n",
            "1\n",
            "2\n",
            "3\n",
            "4\n",
            "5\n",
            "6\n",
            "7\n",
            "8\n",
            "9\n",
            "10\n",
            "The Loop is over \n"
          ]
        }
      ]
    },
    {
      "cell_type": "markdown",
      "source": [
        "For + Else"
      ],
      "metadata": {
        "id": "B1S0kCIRhoF6"
      }
    },
    {
      "cell_type": "code",
      "source": [
        "for i in range (1,10):\n",
        "  print(i)\n",
        "else:\n",
        "  print('The loop is over')"
      ],
      "metadata": {
        "colab": {
          "base_uri": "https://localhost:8080/"
        },
        "id": "FOwwV-Tvhp7A",
        "outputId": "3ab6e978-9d19-4a0b-b801-90d0a0bd9d95"
      },
      "execution_count": null,
      "outputs": [
        {
          "output_type": "stream",
          "name": "stdout",
          "text": [
            "1\n",
            "2\n",
            "3\n",
            "4\n",
            "5\n",
            "6\n",
            "7\n",
            "8\n",
            "9\n",
            "The loop is over\n"
          ]
        }
      ]
    },
    {
      "cell_type": "markdown",
      "source": [
        "প্রবলেম-১ #\n",
        "ইউজার যেকোনো একটা পূর্ণসংখ্যা ইনপুট দেবে। আর ওই পূর্ণসংখ্যার নামতা আউটপুট হিসেবে দেখাতে হবে।"
      ],
      "metadata": {
        "id": "HTF0d5OU4fe6"
      }
    },
    {
      "cell_type": "code",
      "source": [
        "number = int(input('Enter an Integer'))\n",
        "count = 1\n",
        "sum = 0\n",
        "while count <= 10:\n",
        "\n",
        "  sum = number * count\n",
        "  print( number ,'X',count, '=',sum)\n",
        "  #print(number, 'x', count, '=', number*count)\n",
        "  #print(sum)\n",
        "  count = count+1\n",
        "\n",
        "\n"
      ],
      "metadata": {
        "colab": {
          "base_uri": "https://localhost:8080/"
        },
        "id": "XYadbL0VeQl8",
        "outputId": "926b3fe3-32d6-4b6a-aa83-1022d75d5ab3"
      },
      "execution_count": null,
      "outputs": [
        {
          "output_type": "stream",
          "name": "stdout",
          "text": [
            "Enter an Integer5\n",
            "5 X 1 = 5\n",
            "5 X 2 = 10\n",
            "5 X 3 = 15\n",
            "5 X 4 = 20\n",
            "5 X 5 = 25\n",
            "5 X 6 = 30\n",
            "5 X 7 = 35\n",
            "5 X 8 = 40\n",
            "5 X 9 = 45\n",
            "5 X 10 = 50\n"
          ]
        }
      ]
    },
    {
      "cell_type": "code",
      "source": [
        "number = int(input('Enter a Number :'))\n",
        "count = 1\n",
        "multi = 0\n",
        "while count <= 10:\n",
        "  multi = number * count\n",
        "  print(number,'x',count,'=',multi)\n",
        "  count = count + 1"
      ],
      "metadata": {
        "colab": {
          "base_uri": "https://localhost:8080/"
        },
        "id": "rbbyYGhr8_4u",
        "outputId": "50878b90-7b15-4a55-cd29-dcf6df90dbf9"
      },
      "execution_count": null,
      "outputs": [
        {
          "output_type": "stream",
          "name": "stdout",
          "text": [
            "Enter a Number :10\n",
            "10 x 1 = 10\n",
            "10 x 2 = 20\n",
            "10 x 3 = 30\n",
            "10 x 4 = 40\n",
            "10 x 5 = 50\n",
            "10 x 6 = 60\n",
            "10 x 7 = 70\n",
            "10 x 8 = 80\n",
            "10 x 9 = 90\n",
            "10 x 10 = 100\n"
          ]
        }
      ]
    },
    {
      "cell_type": "markdown",
      "source": [
        "প্রবলেম-২ #\n",
        "১ থেকে ১০০ পর্যন্ত যেসব সংখ্যা ৩ দ্বারা নিঃশেষে বিভাজ্য কিন্তু ৫ দ্বারা নয়, তাদের লিস্ট আউটপুট হিসেবে দেখাতে হবে।"
      ],
      "metadata": {
        "id": "GIbz4Lt-fwYo"
      }
    },
    {
      "cell_type": "code",
      "source": [
        "a = [ ]\n",
        "type (a)\n",
        "for i in range (1,100):\n",
        "  if i % 3 == 0 and i %5 != 0:\n",
        "    a.append(i)\n",
        "print(a)"
      ],
      "metadata": {
        "colab": {
          "base_uri": "https://localhost:8080/"
        },
        "id": "RO_VBK6ait3m",
        "outputId": "16488f2c-2ec8-4525-cb85-adfed8750467"
      },
      "execution_count": null,
      "outputs": [
        {
          "output_type": "stream",
          "name": "stdout",
          "text": [
            "[3, 6, 9, 12, 18, 21, 24, 27, 33, 36, 39, 42, 48, 51, 54, 57, 63, 66, 69, 72, 78, 81, 84, 87, 93, 96, 99]\n"
          ]
        }
      ]
    },
    {
      "cell_type": "code",
      "source": [
        "a = [ ]\n",
        "for i in range (1,101):\n",
        "  if i % 3== 0 and i % 5!=0:\n",
        "    a.extend([i])\n",
        "\n",
        "print(a)"
      ],
      "metadata": {
        "colab": {
          "base_uri": "https://localhost:8080/"
        },
        "id": "f6qUgE3CkD9u",
        "outputId": "8ed3497d-25e5-47c1-ba2b-2352c3ccb36c"
      },
      "execution_count": null,
      "outputs": [
        {
          "output_type": "stream",
          "name": "stdout",
          "text": [
            "[3, 6, 9, 12, 18, 21, 24, 27, 33, 36, 39, 42, 48, 51, 54, 57, 63, 66, 69, 72, 78, 81, 84, 87, 93, 96, 99]\n"
          ]
        }
      ]
    },
    {
      "cell_type": "markdown",
      "source": [
        "প্রবলেম-৩ #\n",
        "ধরা যাক, বিভিন্ন সংখ্যার একটি তালিকা রয়েছে। তালিকাটা নিচের মত -\n",
        "\n",
        "13, 34, 19, 28, 46, 61, 73, 49, 1, 31, 4, 7, 91, 58, 52, 82, 70, 43, 88, 55, 97, 16, 22, 25, 79, 85, 40, 64, 94, 67, 37"
      ],
      "metadata": {
        "id": "a7NB-VzwkpC8"
      }
    },
    {
      "cell_type": "code",
      "source": [
        "a = [13, 34, 19, 28, 46, 61, 73, 49, 1, 31, 4, 7, 91, 58, 52, 82, 70, 43, 88, 55, 97, 16, 22, 25, 79, 85, 40, 64, 94, 67, 37]\n",
        "b = []\n",
        "for item in a:\n",
        "  if item < 50:\n",
        "    b.extend([i])\n",
        "    i = i+1\n",
        "print(b)"
      ],
      "metadata": {
        "colab": {
          "base_uri": "https://localhost:8080/"
        },
        "id": "PED2Ndn7lJen",
        "outputId": "befc8c38-cb52-4257-e2d7-ae4ec54c8aa8"
      },
      "execution_count": null,
      "outputs": [
        {
          "output_type": "stream",
          "name": "stdout",
          "text": [
            "[70, 71, 72, 73, 74, 75, 76, 77, 78, 79, 80, 81, 82, 83, 84, 85]\n"
          ]
        }
      ]
    },
    {
      "cell_type": "markdown",
      "source": [
        "# Day 7 exercise"
      ],
      "metadata": {
        "id": "aMfgFG4mMlPw"
      }
    },
    {
      "cell_type": "markdown",
      "source": [
        "প্রবলেম-৪ #\n",
        "নিচের তালিকাটি লক্ষ্য করা যাক -\n",
        "\n",
        "40, 45, 33, 34, 8, 38, 28, 22, 1, 7, 49, 41, 14, 5, 22, 39, 15, 19, 36, 37, 43, 2, 5, 42, 46, 48, 49, 12, 48, 37, 8, 20, 30, 20, 4, 37, 27, 29, 7, 44, 15, 32, 35, 10, 28, 18, 2, 15, 36, 38\n",
        "\n",
        "এই তালিকা থেকে সকল ডুপ্লিকেট (duplicate) ভ্যালু রিমুভ করতে হবে।"
      ],
      "metadata": {
        "id": "tzAS7g9bM-Lb"
      }
    },
    {
      "cell_type": "code",
      "source": [
        "a = [40, 45, 33, 34, 8, 38, 28, 22, 1, 7, 49, 41, 14, 5, 22, 39, 15, 19, 36, 37, 43, 2, 5, 42, 46, 48, 49, 12, 48, 37, 8, 20, 30, 20, 4, 37, 27, 29, 7, 44, 15, 32, 35, 10, 28, 18, 2, 15, 36, 38]\n",
        "b = []\n",
        "\n",
        "for i in a:\n",
        "  if i not in b:\n",
        "    b.append(i)\n",
        "print(b)"
      ],
      "metadata": {
        "colab": {
          "base_uri": "https://localhost:8080/"
        },
        "id": "d5gRzSxXM--h",
        "outputId": "68592002-20b0-48bc-d399-a51c3a4316e2"
      },
      "execution_count": null,
      "outputs": [
        {
          "output_type": "stream",
          "name": "stdout",
          "text": [
            "[40, 45, 33, 34, 8, 38, 28, 22, 1, 7, 49, 41, 14, 5, 39, 15, 19, 36, 37, 43, 2, 42, 46, 48, 12, 20, 30, 4, 27, 29, 44, 32, 35, 10, 18]\n"
          ]
        }
      ]
    },
    {
      "cell_type": "markdown",
      "source": [
        "প্রবলেম-৫ #\n",
        "ইউজার একটা পূর্ণসংখ্যা ইনপুট দেবে। সেটির ওপর ভিত্তি করে আমরা *এর স্কয়ার ডিজাইন করব। অর্থাৎ ইউজার যদি 5 ইনপুট দেয় তাহলে নিচের মতো একটা স্কয়ার ডিজাইন করব।"
      ],
      "metadata": {
        "id": "efUBcSNzrp-z"
      }
    },
    {
      "cell_type": "code",
      "source": [
        "number = int(input())\n",
        "temp = number\n",
        "while number > 0:\n",
        "  count = temp\n",
        "  while count > 0:\n",
        "    print('*',end = '')\n",
        "    count = count -1\n",
        "  print()\n",
        "  number = number-1\n"
      ],
      "metadata": {
        "colab": {
          "base_uri": "https://localhost:8080/"
        },
        "id": "Y8X1hWf-uEPF",
        "outputId": "90fb591e-44aa-422b-93f6-491c14221b5f"
      },
      "execution_count": null,
      "outputs": [
        {
          "output_type": "stream",
          "name": "stdout",
          "text": [
            "4\n",
            "****\n",
            "****\n",
            "****\n",
            "****\n"
          ]
        }
      ]
    },
    {
      "cell_type": "code",
      "source": [
        "number = int(input())\n",
        "temp = number\n",
        "while temp > 0:\n",
        "  count = number\n",
        "  while count > 0:\n",
        "      print('*',end = '')\n",
        "      count = count -1\n",
        "  print ()\n",
        "  temp =temp -1\n"
      ],
      "metadata": {
        "colab": {
          "base_uri": "https://localhost:8080/"
        },
        "id": "JnaVYuiOwBw-",
        "outputId": "1d860381-7298-4436-ccae-95954839a959"
      },
      "execution_count": null,
      "outputs": [
        {
          "output_type": "stream",
          "name": "stdout",
          "text": [
            "5\n",
            "*****\n",
            "*****\n",
            "*****\n",
            "*****\n",
            "*****\n"
          ]
        }
      ]
    },
    {
      "cell_type": "code",
      "source": [
        "number = int(input())\n",
        "temp =  number\n",
        "while temp > 0:\n",
        "  count = number\n",
        "  while count > 0:\n",
        "    print('*',end = '')\n",
        "    count = count -1\n",
        "  print()\n",
        "  temp = temp -1"
      ],
      "metadata": {
        "colab": {
          "base_uri": "https://localhost:8080/"
        },
        "id": "mRYnTU_kyXoO",
        "outputId": "81bee129-79e9-4b90-a4f4-7160cb5432b8"
      },
      "execution_count": null,
      "outputs": [
        {
          "output_type": "stream",
          "name": "stdout",
          "text": [
            "6\n",
            "******\n",
            "******\n",
            "******\n",
            "******\n",
            "******\n",
            "******\n"
          ]
        }
      ]
    },
    {
      "cell_type": "code",
      "source": [
        "a = int(input())\n",
        "b = a\n",
        "while b > 0:\n",
        "  c = a\n",
        "  while c > 0:\n",
        "    print('*',end = '')\n",
        "    c -= 1\n",
        "  print()\n",
        "  b -=1\n",
        "\n"
      ],
      "metadata": {
        "colab": {
          "base_uri": "https://localhost:8080/"
        },
        "id": "jgCunJgKzvH2",
        "outputId": "f94db208-1af0-4491-941e-8a59b09c65a9"
      },
      "execution_count": null,
      "outputs": [
        {
          "output_type": "stream",
          "name": "stdout",
          "text": [
            "10\n",
            "**********\n",
            "**********\n",
            "**********\n",
            "**********\n",
            "**********\n",
            "**********\n",
            "**********\n",
            "**********\n",
            "**********\n",
            "**********\n"
          ]
        }
      ]
    },
    {
      "cell_type": "markdown",
      "source": [
        "প্রবলেম-৬ #\n",
        "ইউজার একটি শব্দ ইনপুট দেবে। আমাদের প্রোগ্রাম দেখবে সেটি একটি প্যালিনড্রোম (Palindrome) কি না! প্যালিনড্রোম হলো কোনো শব্দ, সংখ্যা বা সিক্যুয়েন্স যাদের ওলটালেও ওই এক জিনিসই থাকে। যেমন : 707 কে ওলটালেও 707 ই থাকে। আবার Madam-কে ওলটালে Madam ই থাকে।"
      ],
      "metadata": {
        "id": "uMcmrLPt0tUq"
      }
    },
    {
      "cell_type": "code",
      "source": [
        "print ('Enter a number ')\n",
        "word = input ()\n",
        "\n",
        "word = word.casefold() # Coverts word into lowercase\n",
        "reversed_word = word[::-1]\n",
        "if word == reversed_word:\n",
        "  print('yes')\n",
        "else :\n",
        "  print ('Not')"
      ],
      "metadata": {
        "colab": {
          "base_uri": "https://localhost:8080/"
        },
        "id": "4qNbb3rb0uX3",
        "outputId": "b3e00c37-fdf5-4d4f-eb30-47debbdb01a5"
      },
      "execution_count": null,
      "outputs": [
        {
          "output_type": "stream",
          "name": "stdout",
          "text": [
            "Enter a number \n",
            "hello\n",
            "Not\n"
          ]
        }
      ]
    },
    {
      "cell_type": "code",
      "source": [
        "a = input()\n",
        "a = a.lower()\n",
        "ra = a[::-1]\n",
        "if a==ra:\n",
        "  print('True')\n",
        "else:\n",
        "  print('False')"
      ],
      "metadata": {
        "colab": {
          "base_uri": "https://localhost:8080/"
        },
        "id": "mRl8oD9a4N3Y",
        "outputId": "0717f326-673f-4f87-b33b-f0f6d531c66e"
      },
      "execution_count": null,
      "outputs": [
        {
          "output_type": "stream",
          "name": "stdout",
          "text": [
            "maDam\n",
            "True\n"
          ]
        }
      ]
    },
    {
      "cell_type": "markdown",
      "source": [
        "প্রবলেম-৭ #\n",
        "এখন আমরা অনন্ত জলিলের খোঁজ দ্য সার্চ-এর প্রবলেম সলভ করব। ধরা যাক, ছোট থেকে বড় সাজানো বিভিন্ন সংখ্যার একটা তালিকা আছে। তালিকাটা নিচের মতো—\n",
        "\n",
        "1, 3, 5, 7, 11, 13, 15, 17, 20, 26, 31, 44, 54, 56, 65, 77, 94, 100"
      ],
      "metadata": {
        "id": "pZ9QmFPO0M7d"
      }
    },
    {
      "cell_type": "code",
      "source": [
        "my_list = [1, 3, 5, 7, 11, 13, 15, 17, 20, 26, 31, 44, 54, 56, 65, 77, 94, 100]\n",
        "\n",
        "print('Input the number:')\n",
        "number = int(input())\n",
        "\n",
        "first = 0\n",
        "last = len(my_list)-1\n",
        "found = False\n",
        "cycle = 0\n",
        "\n",
        "while first <= last and not found:\n",
        "    midpoint = (first + last)//2\n",
        "    if my_list[midpoint] == number:\n",
        "        found =True\n",
        "    else:\n",
        "        if number < my_list[midpoint]:\n",
        "            last = midpoint-1\n",
        "        else:\n",
        "            first = midpoint+1\n",
        "    cycle +=1\n",
        "\n",
        "print('Found after', cycle, 'cycle.')"
      ],
      "metadata": {
        "id": "HBno3zYh4oRT",
        "colab": {
          "base_uri": "https://localhost:8080/"
        },
        "outputId": "b59d3f45-38c2-4d04-8927-09af0f1f5abe"
      },
      "execution_count": null,
      "outputs": [
        {
          "output_type": "stream",
          "name": "stdout",
          "text": [
            "Input the number:\n",
            "20\n",
            "Found after 1 cycle.\n"
          ]
        }
      ]
    },
    {
      "cell_type": "code",
      "source": [
        "my_list = [1, 3, 5, 7, 11, 13, 15, 17, 20, 26, 31, 44, 54, 56, 65, 77, 94, 100]\n",
        "number = int(input())\n",
        "first = 0\n",
        "last = len(my_list)-1\n",
        "cycle = 0\n",
        "found = False\n",
        "while first <= last and not found:\n",
        "  mid = (first+last)//2\n",
        "  if my_list[mid] == number:\n",
        "    found = True\n",
        "  else:\n",
        "    if number < my_list[mid]:\n",
        "      last = mid-1\n",
        "    else:\n",
        "      first = mid +1\n",
        "  cycle +=1\n",
        "print(cycle)\n"
      ],
      "metadata": {
        "colab": {
          "base_uri": "https://localhost:8080/"
        },
        "id": "SDxmJy9cxu4V",
        "outputId": "7776a608-8be8-44a2-dccf-dd165e34f6d0"
      },
      "execution_count": null,
      "outputs": [
        {
          "output_type": "stream",
          "name": "stdout",
          "text": [
            "20\n",
            "1\n"
          ]
        }
      ]
    },
    {
      "cell_type": "markdown",
      "source": [
        "(১) লুপ ব্যবহার করে ১ থেকে ১০০ পর্যন্ত পূর্ণসংখ্যাগুলোর সমষ্টি বের করতে হবে।"
      ],
      "metadata": {
        "id": "batbW-qE8WOw"
      }
    },
    {
      "cell_type": "code",
      "source": [
        "i = 1\n",
        "sum = 0\n",
        "while i <=100:\n",
        "  sum = sum+i\n",
        "  i +=1\n",
        "print(sum)\n",
        "\n"
      ],
      "metadata": {
        "colab": {
          "base_uri": "https://localhost:8080/"
        },
        "id": "B76LrINJ8YyB",
        "outputId": "36e8835f-430e-4704-a94e-5fcfff09fe06"
      },
      "execution_count": null,
      "outputs": [
        {
          "output_type": "stream",
          "name": "stdout",
          "text": [
            "5050\n"
          ]
        }
      ]
    },
    {
      "cell_type": "code",
      "source": [
        "a = int(input())\n",
        "b = a\n",
        "while b > 0:\n",
        "  c = a\n",
        "  while c > 0:\n",
        "    print('*',end = '')\n",
        "    c -= 1\n",
        "  print()\n",
        "  b -=1\n",
        "\n"
      ],
      "metadata": {
        "colab": {
          "base_uri": "https://localhost:8080/"
        },
        "id": "c2fvoNog9nMi",
        "outputId": "4d456ea4-b899-48c9-fcbb-f9c578dbae85"
      },
      "execution_count": null,
      "outputs": [
        {
          "output_type": "stream",
          "name": "stdout",
          "text": [
            "4\n",
            "****\n",
            "****\n",
            "****\n",
            "****\n"
          ]
        }
      ]
    },
    {
      "cell_type": "markdown",
      "source": [
        "# Day 8 Comprehension"
      ],
      "metadata": {
        "id": "5XO37G_EAEN6"
      }
    },
    {
      "cell_type": "markdown",
      "source": [
        "list Comprehension"
      ],
      "metadata": {
        "id": "_GNngxTVAH74"
      }
    },
    {
      "cell_type": "code",
      "source": [
        "list = [i**2 for i in range (1,20) if i%2 == 0]\n",
        "list"
      ],
      "metadata": {
        "colab": {
          "base_uri": "https://localhost:8080/"
        },
        "id": "JKRPASGnGiKi",
        "outputId": "425af62b-582b-41ef-a796-946f6074218f"
      },
      "execution_count": null,
      "outputs": [
        {
          "output_type": "execute_result",
          "data": {
            "text/plain": [
              "[4, 16, 36, 64, 100, 144, 196, 256, 324]"
            ]
          },
          "metadata": {},
          "execution_count": 42
        }
      ]
    },
    {
      "cell_type": "markdown",
      "source": [
        "Set Comprehension"
      ],
      "metadata": {
        "id": "LFoPoeOrEBLS"
      }
    },
    {
      "cell_type": "code",
      "source": [
        "a_list = ['Maateen', 'Khan', 'Maksudur', 'a', 'b', 'c']\n",
        "b = { i for i in a_list if len(i) > 2}\n",
        "b"
      ],
      "metadata": {
        "colab": {
          "base_uri": "https://localhost:8080/"
        },
        "id": "JaltPvWBEC3i",
        "outputId": "f92497f1-27f5-4506-b89f-5f793c3be864"
      },
      "execution_count": null,
      "outputs": [
        {
          "output_type": "execute_result",
          "data": {
            "text/plain": [
              "{'Khan', 'Maateen', 'Maksudur'}"
            ]
          },
          "metadata": {},
          "execution_count": 7
        }
      ]
    },
    {
      "cell_type": "markdown",
      "source": [
        "Text Comprehension"
      ],
      "metadata": {
        "id": "xjuCnpcGFO1U"
      }
    },
    {
      "cell_type": "code",
      "source": [
        "a_list = ['name', 'country', 'career']\n",
        "b_list = ['Maateen', 'Bangladesh', 'TeleTalk']\n",
        "a = { i:j for i ,j in zip(a_list,b_list)}\n",
        "a"
      ],
      "metadata": {
        "colab": {
          "base_uri": "https://localhost:8080/"
        },
        "id": "1uw3ALCAE-ye",
        "outputId": "efdd1682-5427-4cb9-b3ad-706613725543"
      },
      "execution_count": null,
      "outputs": [
        {
          "output_type": "execute_result",
          "data": {
            "text/plain": [
              "{'name': 'Maateen', 'country': 'Bangladesh', 'career': 'TeleTalk'}"
            ]
          },
          "metadata": {},
          "execution_count": 3
        }
      ]
    },
    {
      "cell_type": "markdown",
      "source": [
        "Comprehension two list"
      ],
      "metadata": {
        "id": "T8CHyxBQFRFu"
      }
    },
    {
      "cell_type": "code",
      "source": [
        "a = [i for i in range (11)]\n",
        "b = [i for i in range (11,20)]\n",
        "c = zip(a,b)\n",
        "c"
      ],
      "metadata": {
        "colab": {
          "base_uri": "https://localhost:8080/"
        },
        "id": "S_XvhzH7HkCJ",
        "outputId": "9ad60979-a3a0-40e1-e5fd-fefdc1f7302c"
      },
      "execution_count": null,
      "outputs": [
        {
          "output_type": "execute_result",
          "data": {
            "text/plain": [
              "<zip at 0x7ec48277a080>"
            ]
          },
          "metadata": {},
          "execution_count": 6
        }
      ]
    },
    {
      "cell_type": "code",
      "source": [
        "list(c)"
      ],
      "metadata": {
        "id": "mIr0QpZqHvxO",
        "outputId": "54a9065d-0382-4913-b30d-ede6e9ec65d9",
        "colab": {
          "base_uri": "https://localhost:8080/"
        }
      },
      "execution_count": null,
      "outputs": [
        {
          "output_type": "execute_result",
          "data": {
            "text/plain": [
              "[(0, 11),\n",
              " (1, 12),\n",
              " (2, 13),\n",
              " (3, 14),\n",
              " (4, 15),\n",
              " (5, 16),\n",
              " (6, 17),\n",
              " (7, 18),\n",
              " (8, 19)]"
            ]
          },
          "metadata": {},
          "execution_count": 7
        }
      ]
    },
    {
      "cell_type": "markdown",
      "source": [
        "# Day 9 Function"
      ],
      "metadata": {
        "id": "ON2MvaP1a4qK"
      }
    },
    {
      "cell_type": "code",
      "source": [
        "def my_name(name):\n",
        "  print('The Given Name is:', name)\n",
        "  return\n",
        "my_name('ratul')"
      ],
      "metadata": {
        "colab": {
          "base_uri": "https://localhost:8080/"
        },
        "id": "9GxJlMcma67X",
        "outputId": "adfaa0b1-4f03-4289-af83-d37ecea0d17f"
      },
      "execution_count": null,
      "outputs": [
        {
          "output_type": "stream",
          "name": "stdout",
          "text": [
            "The Given Name is: ratul\n"
          ]
        }
      ]
    },
    {
      "cell_type": "code",
      "source": [
        "my_name('ratul')"
      ],
      "metadata": {
        "colab": {
          "base_uri": "https://localhost:8080/"
        },
        "id": "9vUuEeSwbGJ0",
        "outputId": "a8da9616-5da4-4639-bd26-4d16a92ac5d4"
      },
      "execution_count": null,
      "outputs": [
        {
          "output_type": "stream",
          "name": "stdout",
          "text": [
            "The Given Name is: ratul\n"
          ]
        }
      ]
    },
    {
      "cell_type": "code",
      "source": [
        "def print_my_name(name):\n",
        "  print(\"My Name is \",name)\n",
        "  return\n",
        "print_my_name('Ratul')"
      ],
      "metadata": {
        "colab": {
          "base_uri": "https://localhost:8080/"
        },
        "id": "8xWlW78oY93p",
        "outputId": "a4a3c16c-ab08-4690-a6c4-bbae74d65ff5"
      },
      "execution_count": null,
      "outputs": [
        {
          "output_type": "stream",
          "name": "stdout",
          "text": [
            "My Name is  Ratul\n"
          ]
        }
      ]
    },
    {
      "cell_type": "code",
      "source": [
        "def print_my_name(myname):\n",
        "  print('My Name is ',myname)\n",
        "  return\n",
        "name = \"Ratul\"\n",
        "print_my_name(name)\n"
      ],
      "metadata": {
        "colab": {
          "base_uri": "https://localhost:8080/"
        },
        "id": "jtfM9JN_aOWY",
        "outputId": "26abc519-a291-407f-97aa-11cad1f8eb4c"
      },
      "execution_count": null,
      "outputs": [
        {
          "output_type": "stream",
          "name": "stdout",
          "text": [
            "My Name is  Ratul\n"
          ]
        }
      ]
    },
    {
      "cell_type": "code",
      "source": [
        "def sum(a,b,c):\n",
        "  return a+b+c\n",
        "add = sum(1,2,3)\n",
        "print(add)\n"
      ],
      "metadata": {
        "colab": {
          "base_uri": "https://localhost:8080/"
        },
        "id": "XhKknnKhbA8O",
        "outputId": "b38525f3-eb1b-4152-bd2d-3ca4b440a405"
      },
      "execution_count": null,
      "outputs": [
        {
          "output_type": "stream",
          "name": "stdout",
          "text": [
            "6\n"
          ]
        }
      ]
    },
    {
      "cell_type": "markdown",
      "source": [
        "Key Word Argument"
      ],
      "metadata": {
        "id": "NW2h2aO8cUMC"
      }
    },
    {
      "cell_type": "code",
      "source": [
        "def sum(a,b,c):\n",
        "  sumd = a+b+c\n",
        "  print('The sum of the values are ',sumd)\n",
        "  return\n",
        "sum(b=2,c=3,a=4)\n"
      ],
      "metadata": {
        "colab": {
          "base_uri": "https://localhost:8080/"
        },
        "id": "g3OQ4vcXcV3v",
        "outputId": "6a7ab25b-4529-4466-bd23-755b655dec9c"
      },
      "execution_count": null,
      "outputs": [
        {
          "output_type": "stream",
          "name": "stdout",
          "text": [
            "The sum of the values are  9\n"
          ]
        }
      ]
    },
    {
      "cell_type": "code",
      "source": [
        "def add(a,b,c=2):\n",
        "   d = a+b+c\n",
        "   print('The sum o fthese values are:',d)\n",
        "   return\n",
        "add(2,3)\n",
        "\n"
      ],
      "metadata": {
        "colab": {
          "base_uri": "https://localhost:8080/"
        },
        "id": "zjbHusDac5eu",
        "outputId": "58cb2a97-c0fd-4921-ea0f-d8c55fefc5a0"
      },
      "execution_count": null,
      "outputs": [
        {
          "output_type": "stream",
          "name": "stdout",
          "text": [
            "The sum o fthese values are: 7\n"
          ]
        }
      ]
    },
    {
      "cell_type": "code",
      "source": [
        "d = add(2,3,100)\n",
        "print(d)"
      ],
      "metadata": {
        "colab": {
          "base_uri": "https://localhost:8080/"
        },
        "id": "qfQHd7Wfd1UI",
        "outputId": "11b84c70-629e-41fc-c1b1-17614b2b9c53"
      },
      "execution_count": null,
      "outputs": [
        {
          "output_type": "stream",
          "name": "stdout",
          "text": [
            "105\n"
          ]
        }
      ]
    },
    {
      "cell_type": "code",
      "source": [
        "def add(*args):\n",
        "  print(type(args))\n",
        "  sum = 0\n",
        "  for i in args:\n",
        "    sum = sum + i\n",
        "  return sum\n",
        "c = add(1,2,3,4,5,6,7)\n",
        "print (c)\n"
      ],
      "metadata": {
        "colab": {
          "base_uri": "https://localhost:8080/"
        },
        "id": "TYGR1QBXkw1D",
        "outputId": "0b7f5642-3a2a-4931-93f1-a8debc6fb6c6"
      },
      "execution_count": null,
      "outputs": [
        {
          "output_type": "stream",
          "name": "stdout",
          "text": [
            "<class 'tuple'>\n",
            "<class 'tuple'>\n",
            "28\n"
          ]
        }
      ]
    },
    {
      "cell_type": "code",
      "source": [
        "def funcarg(*arg):\n",
        "  #for i in arg:\n",
        "  print(arg[0])\n",
        "a =('rat','mat','cat')\n",
        "funcarg(*a)"
      ],
      "metadata": {
        "colab": {
          "base_uri": "https://localhost:8080/"
        },
        "id": "844a8RbIlzS0",
        "outputId": "92700d7d-9908-421e-c081-72eea3e71c7f"
      },
      "execution_count": null,
      "outputs": [
        {
          "output_type": "stream",
          "name": "stdout",
          "text": [
            "rat\n"
          ]
        }
      ]
    },
    {
      "cell_type": "code",
      "source": [
        "def funcarg(*arg):\n",
        "  print(type(arg))\n",
        "  for i in arg:\n",
        "    print(i)\n",
        "a =('rat','mat','cat')\n",
        "funcarg(*a)"
      ],
      "metadata": {
        "colab": {
          "base_uri": "https://localhost:8080/"
        },
        "id": "FNZnFKvQmbnc",
        "outputId": "28d708a1-188e-48ef-f131-daffa2c201b2"
      },
      "execution_count": null,
      "outputs": [
        {
          "output_type": "stream",
          "name": "stdout",
          "text": [
            "<class 'tuple'>\n",
            "rat\n",
            "mat\n",
            "cat\n"
          ]
        }
      ]
    },
    {
      "cell_type": "code",
      "source": [
        "def funcarg(normal,*arg):\n",
        "  print(type(normal))\n",
        "  print(type(arg))\n",
        "  print(normal)\n",
        "  for i in arg:\n",
        "    print(i)\n",
        "a =('rat','mat','cat')\n",
        "nor = 'Short Form of Animals are:'\n",
        "funcarg(nor,*a)"
      ],
      "metadata": {
        "colab": {
          "base_uri": "https://localhost:8080/"
        },
        "id": "BRbHDEjHmqOe",
        "outputId": "70d7a4e7-1123-4c8a-af75-e677f64fed7a"
      },
      "execution_count": null,
      "outputs": [
        {
          "output_type": "stream",
          "name": "stdout",
          "text": [
            "<class 'str'>\n",
            "<class 'tuple'>\n",
            "Short Form of Animals are:\n",
            "rat\n",
            "mat\n",
            "cat\n"
          ]
        }
      ]
    },
    {
      "cell_type": "code",
      "source": [
        "def add(**kwargs):\n",
        "  tmp = 0\n",
        "  for key in kwargs:\n",
        "    tmp = tmp + kwargs[key]\n",
        "  return tmp\n",
        "temp = add(a=1, b=2, c=3, d=4)\n",
        "print(temp)\n",
        "\n"
      ],
      "metadata": {
        "colab": {
          "base_uri": "https://localhost:8080/"
        },
        "id": "-MAlgHQxoITN",
        "outputId": "9a017576-3ce2-4d0c-e731-ff04722a599e"
      },
      "execution_count": null,
      "outputs": [
        {
          "output_type": "stream",
          "name": "stdout",
          "text": [
            "10\n"
          ]
        }
      ]
    },
    {
      "cell_type": "code",
      "source": [
        "def funckw(**kwarg):\n",
        "  sum = 0\n",
        "  for I in kwarg:\n",
        "    sum = sum+kwarg[I]\n",
        "  return sum\n",
        "temp = {'a':2, 'b':3 ,'c':2}\n",
        "d = funckw(**temp)\n",
        "print(d)\n",
        "\n"
      ],
      "metadata": {
        "colab": {
          "base_uri": "https://localhost:8080/"
        },
        "id": "nQy8C5dkiwS0",
        "outputId": "edde5c29-bec8-4e86-f6cf-ac2c0eabdbfa"
      },
      "execution_count": null,
      "outputs": [
        {
          "output_type": "stream",
          "name": "stdout",
          "text": [
            "7\n"
          ]
        }
      ]
    },
    {
      "cell_type": "code",
      "source": [
        "def add(**kwargs):\n",
        "    print(type(kwargs))\n",
        "    tmp = 0\n",
        "    for i in kwargs:\n",
        "        tmp = tmp + kwargs[i]\n",
        "    return tmp\n",
        "temp = add(a=1, b=2, c=3, d=4)\n",
        "print(temp)"
      ],
      "metadata": {
        "colab": {
          "base_uri": "https://localhost:8080/"
        },
        "id": "KCUE9TGSqUOF",
        "outputId": "b8eeea31-ef4f-4a43-ccf7-973fb8d190e3"
      },
      "execution_count": null,
      "outputs": [
        {
          "output_type": "stream",
          "name": "stdout",
          "text": [
            "<class 'dict'>\n",
            "10\n"
          ]
        }
      ]
    },
    {
      "cell_type": "code",
      "source": [
        "def funkrg(*arg,**kwarg):\n",
        "  print('The Students are:')\n",
        "  for item in arg:\n",
        "    print(item)\n",
        "\n",
        "  print('\\nNow i would i to introduce some Roles OF these  stupid')\n",
        "  for key,value in kwarg.items():\n",
        "    print(f\"{value} is the {key}\")\n",
        "kw = {'Programmer':'Ratul','Cook':'ROny','Singer':'Johny'}\n",
        "abc = ('Ratul','Rony','Johny')\n",
        "funkrg(*abc)\n",
        "funkrg(**kw)\n"
      ],
      "metadata": {
        "colab": {
          "base_uri": "https://localhost:8080/"
        },
        "id": "nyJ6jRmXqpFF",
        "outputId": "98412589-df88-484a-cd94-d3732075db17"
      },
      "execution_count": null,
      "outputs": [
        {
          "output_type": "stream",
          "name": "stdout",
          "text": [
            "The Students are:\n",
            "Ratul\n",
            "Rony\n",
            "Johny\n",
            "\n",
            "Now i would i to introduce some Roles OF these  stupid\n",
            "The Students are:\n",
            "\n",
            "Now i would i to introduce some Roles OF these  stupid\n",
            "Ratul is the Programmer\n",
            "ROny is the Cook\n",
            "Johny is the Singer\n"
          ]
        }
      ]
    },
    {
      "cell_type": "code",
      "source": [
        "def funck(**kwarg):\n",
        "  sum = 0\n",
        "  for i in kwarg:\n",
        "    sum = sum+ kwarg[i]\n",
        "  return sum\n",
        "d = funck(a=1,b=3,c=4)\n",
        "print(d)\n",
        "\n"
      ],
      "metadata": {
        "colab": {
          "base_uri": "https://localhost:8080/"
        },
        "id": "4a8F4KKhlY7u",
        "outputId": "2e2271d3-314d-436e-dc0d-f323030b2123"
      },
      "execution_count": null,
      "outputs": [
        {
          "output_type": "stream",
          "name": "stdout",
          "text": [
            "8\n"
          ]
        }
      ]
    },
    {
      "cell_type": "code",
      "source": [
        "def funck(**kwarg):\n",
        "  sum = 0\n",
        "  for i in kwarg:\n",
        "    sum = sum+ kwarg[i]\n",
        "  return sum\n",
        "d = {'a':1,'b':3,'c':4}\n",
        "add = funck(**d)\n",
        "print(add)"
      ],
      "metadata": {
        "colab": {
          "base_uri": "https://localhost:8080/"
        },
        "id": "P9CBNpU3lyot",
        "outputId": "461af05f-47e0-435b-c133-d599e78fa045"
      },
      "execution_count": null,
      "outputs": [
        {
          "output_type": "stream",
          "name": "stdout",
          "text": [
            "8\n"
          ]
        }
      ]
    },
    {
      "cell_type": "code",
      "source": [
        "def print_address(**kwargs):\n",
        "  for value in kwargs.values():\n",
        "    print(value)\n",
        "print_address(name =\"Ratul\",\n",
        "              work= \"Stupid\",\n",
        "              occupation = \"Timewaste\")"
      ],
      "metadata": {
        "colab": {
          "base_uri": "https://localhost:8080/"
        },
        "id": "_P-WoCs1pqfI",
        "outputId": "ad4a1cc0-cb6a-4058-9906-a58ab3ecf289"
      },
      "execution_count": null,
      "outputs": [
        {
          "output_type": "stream",
          "name": "stdout",
          "text": [
            "Ratul\n",
            "Stupid\n",
            "Timewaste\n"
          ]
        }
      ]
    },
    {
      "cell_type": "code",
      "source": [
        "def print_address(**kwargs):\n",
        "  for key in kwargs.keys():\n",
        "    print(key)\n",
        "print_address(name =\"Ratul\",\n",
        "              work= \"Stupid\",\n",
        "              occupation = \"Timewaste\")"
      ],
      "metadata": {
        "colab": {
          "base_uri": "https://localhost:8080/"
        },
        "id": "sPPMHq-bw5v3",
        "outputId": "5c048a0e-bd6f-44b7-cb54-692b967f2590"
      },
      "execution_count": null,
      "outputs": [
        {
          "output_type": "stream",
          "name": "stdout",
          "text": [
            "name\n",
            "work\n",
            "occupation\n"
          ]
        }
      ]
    },
    {
      "cell_type": "code",
      "source": [
        "def print_address(**kwargs):\n",
        "  for key,value in kwargs.items():\n",
        "    print(f\"{key} is {value}\")\n",
        "print_address(name =\"Ratul\",\n",
        "              work= \"Stupidity\",\n",
        "              occupation = \"Timewaste\")"
      ],
      "metadata": {
        "colab": {
          "base_uri": "https://localhost:8080/"
        },
        "id": "qC33_6BcxRdK",
        "outputId": "0c905d9e-96db-4840-af51-808425190f95"
      },
      "execution_count": null,
      "outputs": [
        {
          "output_type": "stream",
          "name": "stdout",
          "text": [
            "name is Ratul\n",
            "work is Stupidity\n",
            "occupation is Timewaste\n"
          ]
        }
      ]
    },
    {
      "cell_type": "markdown",
      "source": [
        "রিকার্সন (Recursion)"
      ],
      "metadata": {
        "id": "b-u0EcJYyT5_"
      }
    },
    {
      "cell_type": "code",
      "source": [
        "def counter(num):\n",
        "    print(num)\n",
        "    num += 1\n",
        "    counter(num)\n",
        "\n",
        "counter(1)"
      ],
      "metadata": {
        "colab": {
          "base_uri": "https://localhost:8080/",
          "height": 1000
        },
        "id": "uIgkIzSixKhs",
        "outputId": "4eda5353-9c54-4382-c69d-daeb113a85e5"
      },
      "execution_count": null,
      "outputs": [
        {
          "output_type": "stream",
          "name": "stdout",
          "text": [
            "1\n",
            "2\n",
            "3\n",
            "4\n",
            "5\n",
            "6\n",
            "7\n",
            "8\n",
            "9\n",
            "10\n",
            "11\n",
            "12\n",
            "13\n",
            "14\n",
            "15\n",
            "16\n",
            "17\n",
            "18\n",
            "19\n",
            "20\n",
            "21\n",
            "22\n",
            "23\n",
            "24\n",
            "25\n",
            "26\n",
            "27\n",
            "28\n",
            "29\n",
            "30\n",
            "31\n",
            "32\n",
            "33\n",
            "34\n",
            "35\n",
            "36\n",
            "37\n",
            "38\n",
            "39\n",
            "40\n",
            "41\n",
            "42\n",
            "43\n",
            "44\n",
            "45\n",
            "46\n",
            "47\n",
            "48\n",
            "49\n",
            "50\n",
            "51\n",
            "52\n",
            "53\n",
            "54\n",
            "55\n",
            "56\n",
            "57\n",
            "58\n",
            "59\n",
            "60\n",
            "61\n",
            "62\n",
            "63\n",
            "64\n",
            "65\n",
            "66\n",
            "67\n",
            "68\n",
            "69\n",
            "70\n",
            "71\n",
            "72\n",
            "73\n",
            "74\n",
            "75\n",
            "76\n",
            "77\n",
            "78\n",
            "79\n",
            "80\n",
            "81\n",
            "82\n",
            "83\n",
            "84\n",
            "85\n",
            "86\n",
            "87\n",
            "88\n",
            "89\n",
            "90\n",
            "91\n",
            "92\n",
            "93\n",
            "94\n",
            "95\n",
            "96\n",
            "97\n",
            "98\n",
            "99\n",
            "100\n",
            "101\n",
            "102\n",
            "103\n",
            "104\n",
            "105\n",
            "106\n",
            "107\n",
            "108\n",
            "109\n",
            "110\n",
            "111\n",
            "112\n",
            "113\n",
            "114\n",
            "115\n",
            "116\n",
            "117\n",
            "118\n",
            "119\n",
            "120\n",
            "121\n",
            "122\n",
            "123\n",
            "124\n",
            "125\n",
            "126\n",
            "127\n",
            "128\n",
            "129\n",
            "130\n",
            "131\n",
            "132\n",
            "133\n",
            "134\n",
            "135\n",
            "136\n",
            "137\n",
            "138\n",
            "139\n",
            "140\n",
            "141\n",
            "142\n",
            "143\n",
            "144\n",
            "145\n",
            "146\n",
            "147\n",
            "148\n",
            "149\n",
            "150\n",
            "151\n",
            "152\n",
            "153\n",
            "154\n",
            "155\n",
            "156\n",
            "157\n",
            "158\n",
            "159\n",
            "160\n",
            "161\n",
            "162\n",
            "163\n",
            "164\n",
            "165\n",
            "166\n",
            "167\n",
            "168\n",
            "169\n",
            "170\n",
            "171\n",
            "172\n",
            "173\n",
            "174\n",
            "175\n",
            "176\n",
            "177\n",
            "178\n",
            "179\n",
            "180\n",
            "181\n",
            "182\n",
            "183\n",
            "184\n",
            "185\n",
            "186\n",
            "187\n",
            "188\n",
            "189\n",
            "190\n",
            "191\n",
            "192\n",
            "193\n",
            "194\n",
            "195\n",
            "196\n",
            "197\n",
            "198\n",
            "199\n",
            "200\n",
            "201\n",
            "202\n",
            "203\n",
            "204\n",
            "205\n",
            "206\n",
            "207\n",
            "208\n",
            "209\n",
            "210\n",
            "211\n",
            "212\n",
            "213\n",
            "214\n",
            "215\n",
            "216\n",
            "217\n",
            "218\n",
            "219\n",
            "220\n",
            "221\n",
            "222\n",
            "223\n",
            "224\n",
            "225\n",
            "226\n",
            "227\n",
            "228\n",
            "229\n",
            "230\n",
            "231\n",
            "232\n",
            "233\n",
            "234\n",
            "235\n",
            "236\n",
            "237\n",
            "238\n",
            "239\n",
            "240\n",
            "241\n",
            "242\n",
            "243\n",
            "244\n",
            "245\n",
            "246\n",
            "247\n",
            "248\n",
            "249\n",
            "250\n",
            "251\n",
            "252\n",
            "253\n",
            "254\n",
            "255\n",
            "256\n",
            "257\n",
            "258\n",
            "259\n",
            "260\n",
            "261\n",
            "262\n",
            "263\n",
            "264\n",
            "265\n",
            "266\n",
            "267\n",
            "268\n",
            "269\n",
            "270\n",
            "271\n",
            "272\n",
            "273\n",
            "274\n",
            "275\n",
            "276\n",
            "277\n",
            "278\n",
            "279\n",
            "280\n",
            "281\n",
            "282\n",
            "283\n",
            "284\n",
            "285\n",
            "286\n",
            "287\n",
            "288\n",
            "289\n",
            "290\n",
            "291\n",
            "292\n",
            "293\n",
            "294\n",
            "295\n",
            "296\n",
            "297\n",
            "298\n",
            "299\n",
            "300\n",
            "301\n",
            "302\n",
            "303\n",
            "304\n",
            "305\n",
            "306\n",
            "307\n",
            "308\n",
            "309\n",
            "310\n",
            "311\n",
            "312\n",
            "313\n",
            "314\n",
            "315\n",
            "316\n",
            "317\n",
            "318\n",
            "319\n",
            "320\n",
            "321\n",
            "322\n",
            "323\n",
            "324\n",
            "325\n",
            "326\n",
            "327\n",
            "328\n",
            "329\n",
            "330\n",
            "331\n",
            "332\n",
            "333\n",
            "334\n",
            "335\n",
            "336\n",
            "337\n",
            "338\n",
            "339\n",
            "340\n",
            "341\n",
            "342\n",
            "343\n",
            "344\n",
            "345\n",
            "346\n",
            "347\n",
            "348\n",
            "349\n",
            "350\n",
            "351\n",
            "352\n",
            "353\n",
            "354\n",
            "355\n",
            "356\n",
            "357\n",
            "358\n",
            "359\n",
            "360\n",
            "361\n",
            "362\n",
            "363\n",
            "364\n",
            "365\n",
            "366\n",
            "367\n",
            "368\n",
            "369\n",
            "370\n",
            "371\n",
            "372\n",
            "373\n",
            "374\n",
            "375\n",
            "376\n",
            "377\n",
            "378\n",
            "379\n",
            "380\n",
            "381\n",
            "382\n",
            "383\n",
            "384\n",
            "385\n",
            "386\n",
            "387\n",
            "388\n",
            "389\n",
            "390\n",
            "391\n",
            "392\n",
            "393\n",
            "394\n",
            "395\n",
            "396\n",
            "397\n",
            "398\n",
            "399\n",
            "400\n",
            "401\n",
            "402\n",
            "403\n",
            "404\n",
            "405\n",
            "406\n",
            "407\n",
            "408\n",
            "409\n",
            "410\n",
            "411\n",
            "412\n",
            "413\n",
            "414\n",
            "415\n",
            "416\n",
            "417\n",
            "418\n",
            "419\n",
            "420\n",
            "421\n",
            "422\n",
            "423\n",
            "424\n",
            "425\n",
            "426\n",
            "427\n",
            "428\n",
            "429\n",
            "430\n",
            "431\n",
            "432\n",
            "433\n",
            "434\n",
            "435\n",
            "436\n",
            "437\n",
            "438\n",
            "439\n",
            "440\n",
            "441\n",
            "442\n",
            "443\n",
            "444\n",
            "445\n",
            "446\n",
            "447\n",
            "448\n",
            "449\n",
            "450\n",
            "451\n",
            "452\n",
            "453\n",
            "454\n",
            "455\n",
            "456\n",
            "457\n",
            "458\n",
            "459\n",
            "460\n",
            "461\n",
            "462\n",
            "463\n",
            "464\n",
            "465\n",
            "466\n",
            "467\n",
            "468\n",
            "469\n",
            "470\n",
            "471\n",
            "472\n",
            "473\n",
            "474\n",
            "475\n",
            "476\n",
            "477\n",
            "478\n",
            "479\n",
            "480\n",
            "481\n",
            "482\n",
            "483\n",
            "484\n",
            "485\n",
            "486\n",
            "487\n",
            "488\n",
            "489\n",
            "490\n",
            "491\n",
            "492\n",
            "493\n",
            "494\n",
            "495\n",
            "496\n",
            "497\n",
            "498\n",
            "499\n",
            "500\n",
            "501\n",
            "502\n",
            "503\n",
            "504\n",
            "505\n",
            "506\n",
            "507\n",
            "508\n",
            "509\n",
            "510\n",
            "511\n",
            "512\n",
            "513\n",
            "514\n",
            "515\n",
            "516\n",
            "517\n",
            "518\n",
            "519\n",
            "520\n",
            "521\n",
            "522\n",
            "523\n",
            "524\n",
            "525\n",
            "526\n",
            "527\n",
            "528\n",
            "529\n",
            "530\n",
            "531\n",
            "532\n",
            "533\n",
            "534\n",
            "535\n",
            "536\n",
            "537\n",
            "538\n",
            "539\n",
            "540\n",
            "541\n",
            "542\n",
            "543\n",
            "544\n",
            "545\n",
            "546\n",
            "547\n",
            "548\n",
            "549\n",
            "550\n",
            "551\n",
            "552\n",
            "553\n",
            "554\n",
            "555\n",
            "556\n",
            "557\n",
            "558\n",
            "559\n",
            "560\n",
            "561\n",
            "562\n",
            "563\n",
            "564\n",
            "565\n",
            "566\n",
            "567\n",
            "568\n",
            "569\n",
            "570\n",
            "571\n",
            "572\n",
            "573\n",
            "574\n",
            "575\n",
            "576\n",
            "577\n",
            "578\n",
            "579\n",
            "580\n",
            "581\n",
            "582\n",
            "583\n",
            "584\n",
            "585\n",
            "586\n",
            "587\n",
            "588\n",
            "589\n",
            "590\n",
            "591\n",
            "592\n",
            "593\n",
            "594\n",
            "595\n",
            "596\n",
            "597\n",
            "598\n",
            "599\n",
            "600\n",
            "601\n",
            "602\n",
            "603\n",
            "604\n",
            "605\n",
            "606\n",
            "607\n",
            "608\n",
            "609\n",
            "610\n",
            "611\n",
            "612\n",
            "613\n",
            "614\n",
            "615\n",
            "616\n",
            "617\n",
            "618\n",
            "619\n",
            "620\n",
            "621\n",
            "622\n",
            "623\n",
            "624\n",
            "625\n",
            "626\n",
            "627\n",
            "628\n",
            "629\n",
            "630\n",
            "631\n",
            "632\n",
            "633\n",
            "634\n",
            "635\n",
            "636\n",
            "637\n",
            "638\n",
            "639\n",
            "640\n",
            "641\n",
            "642\n",
            "643\n",
            "644\n",
            "645\n",
            "646\n",
            "647\n",
            "648\n",
            "649\n",
            "650\n",
            "651\n",
            "652\n",
            "653\n",
            "654\n",
            "655\n",
            "656\n",
            "657\n",
            "658\n",
            "659\n",
            "660\n",
            "661\n",
            "662\n",
            "663\n",
            "664\n",
            "665\n",
            "666\n",
            "667\n",
            "668\n",
            "669\n",
            "670\n",
            "671\n",
            "672\n",
            "673\n",
            "674\n",
            "675\n",
            "676\n",
            "677\n",
            "678\n",
            "679\n",
            "680\n",
            "681\n",
            "682\n",
            "683\n",
            "684\n",
            "685\n",
            "686\n",
            "687\n",
            "688\n",
            "689\n",
            "690\n",
            "691\n",
            "692\n",
            "693\n",
            "694\n",
            "695\n",
            "696\n",
            "697\n",
            "698\n",
            "699\n",
            "700\n",
            "701\n",
            "702\n",
            "703\n",
            "704\n",
            "705\n",
            "706\n",
            "707\n",
            "708\n",
            "709\n",
            "710\n",
            "711\n",
            "712\n",
            "713\n",
            "714\n",
            "715\n",
            "716\n",
            "717\n",
            "718\n",
            "719\n",
            "720\n",
            "721\n",
            "722\n",
            "723\n",
            "724\n",
            "725\n",
            "726\n",
            "727\n",
            "728\n",
            "729\n",
            "730\n",
            "731\n",
            "732\n",
            "733\n",
            "734\n",
            "735\n",
            "736\n",
            "737\n",
            "738\n",
            "739\n",
            "740\n",
            "741\n",
            "742\n",
            "743\n",
            "744\n",
            "745\n",
            "746\n",
            "747\n",
            "748\n",
            "749\n",
            "750\n",
            "751\n",
            "752\n",
            "753\n",
            "754\n",
            "755\n",
            "756\n",
            "757\n",
            "758\n",
            "759\n",
            "760\n",
            "761\n",
            "762\n",
            "763\n",
            "764\n",
            "765\n",
            "766\n",
            "767\n",
            "768\n",
            "769\n",
            "770\n",
            "771\n",
            "772\n",
            "773\n",
            "774\n",
            "775\n",
            "776\n",
            "777\n",
            "778\n",
            "779\n",
            "780\n",
            "781\n",
            "782\n",
            "783\n",
            "784\n",
            "785\n",
            "786\n",
            "787\n",
            "788\n",
            "789\n",
            "790\n",
            "791\n",
            "792\n",
            "793\n",
            "794\n",
            "795\n",
            "796\n",
            "797\n",
            "798\n",
            "799\n",
            "800\n",
            "801\n",
            "802\n",
            "803\n",
            "804\n",
            "805\n",
            "806\n",
            "807\n",
            "808\n",
            "809\n",
            "810\n",
            "811\n",
            "812\n",
            "813\n",
            "814\n",
            "815\n",
            "816\n",
            "817\n",
            "818\n",
            "819\n",
            "820\n",
            "821\n",
            "822\n",
            "823\n",
            "824\n",
            "825\n",
            "826\n",
            "827\n",
            "828\n",
            "829\n",
            "830\n",
            "831\n",
            "832\n",
            "833\n",
            "834\n",
            "835\n",
            "836\n",
            "837\n",
            "838\n",
            "839\n",
            "840\n",
            "841\n",
            "842\n",
            "843\n",
            "844\n",
            "845\n",
            "846\n",
            "847\n",
            "848\n",
            "849\n",
            "850\n",
            "851\n",
            "852\n",
            "853\n",
            "854\n",
            "855\n",
            "856\n",
            "857\n",
            "858\n",
            "859\n",
            "860\n",
            "861\n",
            "862\n",
            "863\n",
            "864\n",
            "865\n",
            "866\n",
            "867\n",
            "868\n",
            "869\n",
            "870\n",
            "871\n",
            "872\n",
            "873\n",
            "874\n",
            "875\n",
            "876\n",
            "877\n",
            "878\n",
            "879\n",
            "880\n",
            "881\n",
            "882\n",
            "883\n",
            "884\n",
            "885\n",
            "886\n",
            "887\n",
            "888\n",
            "889\n",
            "890\n",
            "891\n",
            "892\n",
            "893\n",
            "894\n",
            "895\n",
            "896\n",
            "897\n",
            "898\n",
            "899\n",
            "900\n",
            "901\n",
            "902\n",
            "903\n",
            "904\n",
            "905\n",
            "906\n",
            "907\n",
            "908\n",
            "909\n",
            "910\n",
            "911\n",
            "912\n",
            "913\n",
            "914\n",
            "915\n",
            "916\n",
            "917\n",
            "918\n",
            "919\n",
            "920\n",
            "921\n",
            "922\n",
            "923\n",
            "924\n",
            "925\n",
            "926\n",
            "927\n",
            "928\n",
            "929\n",
            "930\n",
            "931\n",
            "932\n",
            "933\n",
            "934\n",
            "935\n",
            "936\n",
            "937\n",
            "938\n",
            "939\n",
            "940\n",
            "941\n",
            "942\n",
            "943\n",
            "944\n",
            "945\n",
            "946\n",
            "947\n",
            "948\n",
            "949\n",
            "950\n",
            "951\n",
            "952\n",
            "953\n",
            "954\n"
          ]
        },
        {
          "output_type": "error",
          "ename": "RecursionError",
          "evalue": "maximum recursion depth exceeded while calling a Python object",
          "traceback": [
            "\u001b[0;31m---------------------------------------------------------------------------\u001b[0m",
            "\u001b[0;31mRecursionError\u001b[0m                            Traceback (most recent call last)",
            "\u001b[0;32m/usr/lib/python3.10/threading.py\u001b[0m in \u001b[0;36m_wait_for_tstate_lock\u001b[0;34m(self, block, timeout)\u001b[0m\n\u001b[1;32m   1115\u001b[0m         \u001b[0;32mtry\u001b[0m\u001b[0;34m:\u001b[0m\u001b[0;34m\u001b[0m\u001b[0;34m\u001b[0m\u001b[0m\n\u001b[0;32m-> 1116\u001b[0;31m             \u001b[0;32mif\u001b[0m \u001b[0mlock\u001b[0m\u001b[0;34m.\u001b[0m\u001b[0macquire\u001b[0m\u001b[0;34m(\u001b[0m\u001b[0mblock\u001b[0m\u001b[0;34m,\u001b[0m \u001b[0mtimeout\u001b[0m\u001b[0;34m)\u001b[0m\u001b[0;34m:\u001b[0m\u001b[0;34m\u001b[0m\u001b[0;34m\u001b[0m\u001b[0m\n\u001b[0m\u001b[1;32m   1117\u001b[0m                 \u001b[0mlock\u001b[0m\u001b[0;34m.\u001b[0m\u001b[0mrelease\u001b[0m\u001b[0;34m(\u001b[0m\u001b[0;34m)\u001b[0m\u001b[0;34m\u001b[0m\u001b[0;34m\u001b[0m\u001b[0m\n",
            "\u001b[0;31mRecursionError\u001b[0m: maximum recursion depth exceeded while calling a Python object",
            "\nDuring handling of the above exception, another exception occurred:\n",
            "\u001b[0;31mRecursionError\u001b[0m                            Traceback (most recent call last)",
            "\u001b[0;32m<ipython-input-38-20dd3d6b264f>\u001b[0m in \u001b[0;36m<cell line: 6>\u001b[0;34m()\u001b[0m\n\u001b[1;32m      4\u001b[0m     \u001b[0mcounter\u001b[0m\u001b[0;34m(\u001b[0m\u001b[0mnum\u001b[0m\u001b[0;34m)\u001b[0m\u001b[0;34m\u001b[0m\u001b[0;34m\u001b[0m\u001b[0m\n\u001b[1;32m      5\u001b[0m \u001b[0;34m\u001b[0m\u001b[0m\n\u001b[0;32m----> 6\u001b[0;31m \u001b[0mcounter\u001b[0m\u001b[0;34m(\u001b[0m\u001b[0;36m1\u001b[0m\u001b[0;34m)\u001b[0m\u001b[0;34m\u001b[0m\u001b[0;34m\u001b[0m\u001b[0m\n\u001b[0m",
            "\u001b[0;32m<ipython-input-38-20dd3d6b264f>\u001b[0m in \u001b[0;36mcounter\u001b[0;34m(num)\u001b[0m\n\u001b[1;32m      2\u001b[0m     \u001b[0mprint\u001b[0m\u001b[0;34m(\u001b[0m\u001b[0mnum\u001b[0m\u001b[0;34m)\u001b[0m\u001b[0;34m\u001b[0m\u001b[0;34m\u001b[0m\u001b[0m\n\u001b[1;32m      3\u001b[0m     \u001b[0mnum\u001b[0m \u001b[0;34m+=\u001b[0m \u001b[0;36m1\u001b[0m\u001b[0;34m\u001b[0m\u001b[0;34m\u001b[0m\u001b[0m\n\u001b[0;32m----> 4\u001b[0;31m     \u001b[0mcounter\u001b[0m\u001b[0;34m(\u001b[0m\u001b[0mnum\u001b[0m\u001b[0;34m)\u001b[0m\u001b[0;34m\u001b[0m\u001b[0;34m\u001b[0m\u001b[0m\n\u001b[0m\u001b[1;32m      5\u001b[0m \u001b[0;34m\u001b[0m\u001b[0m\n\u001b[1;32m      6\u001b[0m \u001b[0mcounter\u001b[0m\u001b[0;34m(\u001b[0m\u001b[0;36m1\u001b[0m\u001b[0;34m)\u001b[0m\u001b[0;34m\u001b[0m\u001b[0;34m\u001b[0m\u001b[0m\n",
            "... last 1 frames repeated, from the frame below ...\n",
            "\u001b[0;32m<ipython-input-38-20dd3d6b264f>\u001b[0m in \u001b[0;36mcounter\u001b[0;34m(num)\u001b[0m\n\u001b[1;32m      2\u001b[0m     \u001b[0mprint\u001b[0m\u001b[0;34m(\u001b[0m\u001b[0mnum\u001b[0m\u001b[0;34m)\u001b[0m\u001b[0;34m\u001b[0m\u001b[0;34m\u001b[0m\u001b[0m\n\u001b[1;32m      3\u001b[0m     \u001b[0mnum\u001b[0m \u001b[0;34m+=\u001b[0m \u001b[0;36m1\u001b[0m\u001b[0;34m\u001b[0m\u001b[0;34m\u001b[0m\u001b[0m\n\u001b[0;32m----> 4\u001b[0;31m     \u001b[0mcounter\u001b[0m\u001b[0;34m(\u001b[0m\u001b[0mnum\u001b[0m\u001b[0;34m)\u001b[0m\u001b[0;34m\u001b[0m\u001b[0;34m\u001b[0m\u001b[0m\n\u001b[0m\u001b[1;32m      5\u001b[0m \u001b[0;34m\u001b[0m\u001b[0m\n\u001b[1;32m      6\u001b[0m \u001b[0mcounter\u001b[0m\u001b[0;34m(\u001b[0m\u001b[0;36m1\u001b[0m\u001b[0;34m)\u001b[0m\u001b[0;34m\u001b[0m\u001b[0;34m\u001b[0m\u001b[0m\n",
            "\u001b[0;31mRecursionError\u001b[0m: maximum recursion depth exceeded while calling a Python object"
          ]
        }
      ]
    },
    {
      "cell_type": "code",
      "source": [
        "number = int(input('Enter a number '))\n",
        "temp = number\n",
        "\n",
        "while number > 1:\n",
        "  number -= 1\n",
        "  temp = number * temp\n",
        "if temp == 0:\n",
        "  p = 1\n",
        "else :\n",
        "  p = temp\n",
        "\n",
        "p\n",
        "\n",
        "\n"
      ],
      "metadata": {
        "colab": {
          "base_uri": "https://localhost:8080/"
        },
        "id": "H9B--u8brVmK",
        "outputId": "92960a61-629b-4133-9cc6-e844ef5ee0fd"
      },
      "execution_count": null,
      "outputs": [
        {
          "name": "stdout",
          "output_type": "stream",
          "text": [
            "Enter a number 3\n"
          ]
        },
        {
          "output_type": "execute_result",
          "data": {
            "text/plain": [
              "6"
            ]
          },
          "metadata": {},
          "execution_count": 22
        }
      ]
    },
    {
      "cell_type": "code",
      "source": [
        "def factorial (number):\n",
        "  if number == 0:\n",
        "    return 1\n",
        "  else:\n",
        "    return number * (number-1)\n",
        "number = int(input('Enter a number'))\n",
        "d = factorial(number)\n",
        "d"
      ],
      "metadata": {
        "colab": {
          "base_uri": "https://localhost:8080/"
        },
        "id": "xI2mCEJ4vLh3",
        "outputId": "39c968bc-91e2-47ef-b60d-8bb457579db7"
      },
      "execution_count": null,
      "outputs": [
        {
          "name": "stdout",
          "output_type": "stream",
          "text": [
            "Enter a number3\n"
          ]
        },
        {
          "output_type": "execute_result",
          "data": {
            "text/plain": [
              "6"
            ]
          },
          "metadata": {},
          "execution_count": 27
        }
      ]
    },
    {
      "cell_type": "code",
      "source": [
        "sum = lambda a,b:a+b\n",
        "b = sum(10,20)\n",
        "b\n"
      ],
      "metadata": {
        "colab": {
          "base_uri": "https://localhost:8080/"
        },
        "id": "KtwyYifgs5Xe",
        "outputId": "7efe60f4-a87e-4bbe-c8af-02442b5849c3"
      },
      "execution_count": null,
      "outputs": [
        {
          "output_type": "execute_result",
          "data": {
            "text/plain": [
              "30"
            ]
          },
          "metadata": {},
          "execution_count": 28
        }
      ]
    },
    {
      "cell_type": "code",
      "source": [
        "d = ((lambda a,b:a*b)(10,5))\n",
        "d"
      ],
      "metadata": {
        "colab": {
          "base_uri": "https://localhost:8080/"
        },
        "id": "98Ggm8IWxTCZ",
        "outputId": "bc1fe524-c514-4329-acf7-ce13749a0da4"
      },
      "execution_count": null,
      "outputs": [
        {
          "output_type": "execute_result",
          "data": {
            "text/plain": [
              "50"
            ]
          },
          "metadata": {},
          "execution_count": 30
        }
      ]
    },
    {
      "cell_type": "code",
      "source": [
        "def my_function(func, arg1, arg2):\n",
        "    return func(arg1, arg2)\n",
        "\n",
        "d = (my_function(lambda a, b : a + b, 10, 20))\n",
        "d"
      ],
      "metadata": {
        "id": "DRa9vwOAxn9Q",
        "colab": {
          "base_uri": "https://localhost:8080/"
        },
        "outputId": "8f835718-0d9d-414d-843f-148bfcb25d93"
      },
      "execution_count": null,
      "outputs": [
        {
          "output_type": "execute_result",
          "data": {
            "text/plain": [
              "30"
            ]
          },
          "metadata": {},
          "execution_count": 1
        }
      ]
    },
    {
      "cell_type": "markdown",
      "source": [
        "# Day 10 (MAP ,FILTER ,EXERCISE OF FUNCTION )"
      ],
      "metadata": {
        "id": "V7xnmU3JWgVY"
      }
    },
    {
      "cell_type": "code",
      "source": [
        "my_list = [2,3,4,5,6]\n",
        "def square(x):\n",
        "  return x*x\n",
        "new_list = map(square,my_list)\n",
        "d = list(new_list)\n",
        "d\n",
        "\n"
      ],
      "metadata": {
        "colab": {
          "base_uri": "https://localhost:8080/"
        },
        "id": "TnfHjtUZWo_9",
        "outputId": "0849e72e-5934-4b41-8d71-93f0b858a0d7"
      },
      "execution_count": null,
      "outputs": [
        {
          "output_type": "execute_result",
          "data": {
            "text/plain": [
              "[4, 9, 16, 25, 36]"
            ]
          },
          "metadata": {},
          "execution_count": 3
        }
      ]
    },
    {
      "cell_type": "code",
      "source": [
        "a = [2,3,4,5,6]\n",
        "def is_even(x):\n",
        "  if x % 2 == 0:\n",
        "    return x\n",
        "b = filter(is_even,a)\n",
        "b = set(b)\n",
        "b\n"
      ],
      "metadata": {
        "colab": {
          "base_uri": "https://localhost:8080/"
        },
        "id": "aFSg-732O5hb",
        "outputId": "ac01926e-d93f-451c-c83e-8ac720ac2ebd"
      },
      "execution_count": null,
      "outputs": [
        {
          "output_type": "execute_result",
          "data": {
            "text/plain": [
              "{2, 4, 6}"
            ]
          },
          "metadata": {},
          "execution_count": 9
        }
      ]
    },
    {
      "cell_type": "code",
      "source": [
        "a = [2,3,4,5,6]\n",
        "def is_even(x):\n",
        "  if x % 2 == 0:\n",
        "    return True\n",
        "  else :\n",
        "    return False\n",
        "b = filter(is_even,a)\n",
        "b = set(b)\n",
        "b\n"
      ],
      "metadata": {
        "colab": {
          "base_uri": "https://localhost:8080/"
        },
        "id": "27K8EkjpPzeQ",
        "outputId": "8245e72f-84fc-4338-ed69-3b4a8307ee5c"
      },
      "execution_count": null,
      "outputs": [
        {
          "output_type": "execute_result",
          "data": {
            "text/plain": [
              "{2, 4, 6}"
            ]
          },
          "metadata": {},
          "execution_count": 10
        }
      ]
    },
    {
      "cell_type": "markdown",
      "source": [
        "প্রব্লেম-১ #\n",
        "ইউজার এক লাইনে তিনটা পূর্ণসংখ্যা ইনপুট দেবে (যেমন: 23 10 96)। সবচেয়ে বড় সংখ্যাটি বের করতে হবে।"
      ],
      "metadata": {
        "id": "NKsl_VczQjZk"
      }
    },
    {
      "cell_type": "code",
      "source": [
        "A,B,C = map(int,input().split())\n",
        "A"
      ],
      "metadata": {
        "colab": {
          "base_uri": "https://localhost:8080/"
        },
        "id": "2eH1To1vQj-a",
        "outputId": "46d84877-b817-41ee-b365-a29020e8b720"
      },
      "execution_count": null,
      "outputs": [
        {
          "name": "stdout",
          "output_type": "stream",
          "text": [
            "2 3 4\n"
          ]
        },
        {
          "output_type": "execute_result",
          "data": {
            "text/plain": [
              "2"
            ]
          },
          "metadata": {},
          "execution_count": 15
        }
      ]
    },
    {
      "cell_type": "code",
      "source": [
        "a,b,c = map(int,input().split())\n",
        "if   a > b and a > c:\n",
        "  bigger = a\n",
        "elif  b >a and b> c:\n",
        "  bigger = b\n",
        "elif c > a and c > b:\n",
        "  bigger = c\n",
        "else:\n",
        "  print ( 'All are euqal ')\n",
        "bigger\n"
      ],
      "metadata": {
        "colab": {
          "base_uri": "https://localhost:8080/"
        },
        "id": "RojpWaUXQ-0j",
        "outputId": "92c33a99-dae7-4f32-96f5-f69308787a94"
      },
      "execution_count": null,
      "outputs": [
        {
          "output_type": "stream",
          "name": "stdout",
          "text": [
            "2 2 2 \n",
            "All are euqal \n"
          ]
        },
        {
          "output_type": "execute_result",
          "data": {
            "text/plain": [
              "4"
            ]
          },
          "metadata": {},
          "execution_count": 20
        }
      ]
    },
    {
      "cell_type": "code",
      "source": [
        "a, b , c = map (int, input ().split() )\n",
        "print (f\"the values are {a} , {b} and {c}\")\n",
        "if a > b and a>c :\n",
        "  bigger = a\n",
        "elif b > a and b>c :\n",
        "  bigger = b\n",
        "else:\n",
        "  bigger = c\n",
        "print (f\"the biggest among the three values ar { bigger}\")"
      ],
      "metadata": {
        "colab": {
          "base_uri": "https://localhost:8080/"
        },
        "id": "N99JqHrPS_5x",
        "outputId": "3b6a2f82-9754-47d9-efd6-235e97c438a8"
      },
      "execution_count": null,
      "outputs": [
        {
          "output_type": "stream",
          "name": "stdout",
          "text": [
            "4 6 4\n",
            "the values are 4 , 6 and 4\n",
            "the biggest among the three values ar 6\n"
          ]
        }
      ]
    },
    {
      "cell_type": "code",
      "source": [
        "def gcd(a, b):\n",
        "    if b > a:\n",
        "        gcd(b, a)\n",
        "    while b != 0:\n",
        "        temp = a%b\n",
        "        a = b\n",
        "        b = temp\n",
        "    return a\n",
        "\n",
        "print(\"Please input two integers:\")\n",
        "a, b = map(int, input().split())\n",
        "print(gcd(a, b))"
      ],
      "metadata": {
        "colab": {
          "base_uri": "https://localhost:8080/"
        },
        "id": "0Lm_6LFWu_MA",
        "outputId": "354ef9ca-14ce-4ab9-d50d-7c03e9b47876"
      },
      "execution_count": null,
      "outputs": [
        {
          "output_type": "stream",
          "name": "stdout",
          "text": [
            "Please input two integers:\n",
            "12 18 \n",
            "6\n"
          ]
        }
      ]
    },
    {
      "cell_type": "code",
      "source": [
        "def gdc(a,b):\n",
        "  if b > a:\n",
        "    gcd (b,a)\n",
        "  while b!= 0:\n",
        "    temp = a % b\n",
        "    a = b\n",
        "    b = temp\n",
        "  return a\n",
        "print ('Please enter two integer numbers:')\n",
        "a ,b = map(int, input().split())\n",
        "print(gcd(a,b))"
      ],
      "metadata": {
        "colab": {
          "base_uri": "https://localhost:8080/"
        },
        "id": "8HPZf39d3xXK",
        "outputId": "7f8e3487-ad8c-4644-8d90-26ab267aca52"
      },
      "execution_count": null,
      "outputs": [
        {
          "output_type": "stream",
          "name": "stdout",
          "text": [
            "Please enter two integer numbers:\n",
            "20 10 \n",
            "10\n"
          ]
        }
      ]
    },
    {
      "cell_type": "markdown",
      "source": [
        "LCD"
      ],
      "metadata": {
        "id": "QEho6J-dJ0hM"
      }
    },
    {
      "cell_type": "code",
      "source": [
        "দুটি সংখ্যার ল.সা.গু. বের করার একটা চমৎকার সূত্র আছে। দুটি সংখ্যার গুণফলকে ঐ দুটি সংখ্যার গ.সা.গু. দিয়ে ভাগ করলে সংখ্যা দুটির ল.সা.গু. পাওয়া যায়"
      ],
      "metadata": {
        "id": "mNK-LZ4JLv0R"
      },
      "execution_count": null,
      "outputs": []
    },
    {
      "cell_type": "code",
      "source": [
        "def gsd(a,b):\n",
        "  if b > a:\n",
        "    gsd(b,a)\n",
        "  while b!= 0:\n",
        "    temp = a %b\n",
        "    a = b\n",
        "    b = temp\n",
        "  return a\n",
        "\n",
        "def lsd (a,b):\n",
        "  return (a*b) //gcd (a,b)\n",
        "print ('Enter the two integers: ')\n",
        "a,b = map(int,input().split())\n",
        "print (lsd(a,b))"
      ],
      "metadata": {
        "colab": {
          "base_uri": "https://localhost:8080/"
        },
        "id": "3Lb6CNr9J1aO",
        "outputId": "89245d6c-55d0-4cc0-86a8-7d55df9eb9e8"
      },
      "execution_count": null,
      "outputs": [
        {
          "output_type": "stream",
          "name": "stdout",
          "text": [
            "Enter the two integers: \n",
            "96 13 \n",
            "1248\n"
          ]
        }
      ]
    },
    {
      "cell_type": "markdown",
      "source": [],
      "metadata": {
        "id": "wbJAF7FpMo_a"
      }
    },
    {
      "cell_type": "code",
      "source": [
        "def is_prime(n):\n",
        "    if n <= 1:\n",
        "        raise ValueError('The number must be greater than 1.')\n",
        "    elif n <= 3:\n",
        "        return True\n",
        "    elif (n % 2) == 0 or (n % 3) == 0:\n",
        "        return False\n",
        "    else:\n",
        "        i = 5\n",
        "        while (i * i) <= n:\n",
        "            if (n % i) == 0 or (n % i+2) == 0:\n",
        "                return False\n",
        "            i = i + 6\n",
        "        return True\n",
        "\n",
        "print('Please input your number:')\n",
        "number = int(input())\n",
        "\n",
        "if is_prime(number):\n",
        "    print(number, 'is a prime number.')\n",
        "else:\n",
        "    print(number, 'is a composite number.')"
      ],
      "metadata": {
        "colab": {
          "base_uri": "https://localhost:8080/"
        },
        "id": "SLOjAskBMqWH",
        "outputId": "024c112f-414b-4bfb-ae68-aef8b75dde5d"
      },
      "execution_count": null,
      "outputs": [
        {
          "output_type": "stream",
          "name": "stdout",
          "text": [
            "Please input your number:\n",
            "23\n",
            "23 is a prime number.\n"
          ]
        }
      ]
    },
    {
      "cell_type": "markdown",
      "source": [
        "try and except"
      ],
      "metadata": {
        "id": "dSGECaygd2CQ"
      }
    },
    {
      "cell_type": "code",
      "source": [
        "try :\n",
        "  a = []\n",
        "  print(a[0])\n",
        "except IndexError as b:\n",
        "  print (b)"
      ],
      "metadata": {
        "colab": {
          "base_uri": "https://localhost:8080/"
        },
        "id": "Tozpg11oWSjv",
        "outputId": "45634b37-7688-4a65-f23a-1f96a9530a64"
      },
      "execution_count": null,
      "outputs": [
        {
          "output_type": "stream",
          "name": "stdout",
          "text": [
            "list index out of range\n"
          ]
        }
      ]
    },
    {
      "cell_type": "code",
      "source": [
        "try:\n",
        "  a = [1 ,2]\n",
        "  print(a[0])\n",
        "except IndexError as e:\n",
        "  print(e)"
      ],
      "metadata": {
        "colab": {
          "base_uri": "https://localhost:8080/"
        },
        "id": "Zzus1FPTMoVD",
        "outputId": "797db343-4bb9-4561-cd7a-78ff11ef91bc"
      },
      "execution_count": null,
      "outputs": [
        {
          "output_type": "stream",
          "name": "stdout",
          "text": [
            "1\n"
          ]
        }
      ]
    },
    {
      "cell_type": "markdown",
      "source": [
        "try … except … else\n",
        "if no expectation is being raised then only the else run  wiil be used\n"
      ],
      "metadata": {
        "id": "CUBhB1RId95F"
      }
    },
    {
      "cell_type": "code",
      "source": [
        "try:\n",
        "  a = [1 ,2]\n",
        "  print(a[0])\n",
        "except IndexError as e:\n",
        "  print(e)\n",
        "else :\n",
        "  print(\"There is No expectation\")"
      ],
      "metadata": {
        "colab": {
          "base_uri": "https://localhost:8080/"
        },
        "id": "noGCr1krd863",
        "outputId": "6f48e631-834f-4052-d3f5-df64c8d1832d"
      },
      "execution_count": null,
      "outputs": [
        {
          "output_type": "stream",
          "name": "stdout",
          "text": [
            "1\n",
            "There is No expectation\n"
          ]
        }
      ]
    },
    {
      "cell_type": "code",
      "source": [
        "try :\n",
        "  a = ['1','a']\n",
        "  print (a[1])\n",
        "except IndexError as e:\n",
        "  print(e)\n",
        "else :\n",
        "  print('No Expectations Found ')\n"
      ],
      "metadata": {
        "colab": {
          "base_uri": "https://localhost:8080/"
        },
        "id": "b_cq9sXbeOw9",
        "outputId": "b81c2d0f-d73a-4123-9f06-a93d5d12bde2"
      },
      "execution_count": null,
      "outputs": [
        {
          "output_type": "stream",
          "name": "stdout",
          "text": [
            "a\n",
            "No Expectations Found \n"
          ]
        }
      ]
    },
    {
      "cell_type": "markdown",
      "source": [
        "**Try … except … finally **\n",
        "\n",
        "finally ব্লক একেবারে শেষে বসে। আর কোন এক্সেপশন রেইজ হোক আর নাই বা হোক, finally ব্লকের কোড ঠিকই এক্সিকিউট হয়। এজন্য একে ক্লীন-আপ অ্যাকশন বলা হয়। একটা উদাহরণ দেখা যাক।"
      ],
      "metadata": {
        "id": "3YpLJeaXrA4o"
      }
    },
    {
      "cell_type": "code",
      "source": [
        "try :\n",
        "  a = ['1','a']\n",
        "  print (a[1])\n",
        "except IndexError as e:\n",
        "  print(e)\n",
        "finally  :\n",
        "  print('To be or not to be is the question ')\n"
      ],
      "metadata": {
        "colab": {
          "base_uri": "https://localhost:8080/"
        },
        "id": "wT7SaUzWrnUN",
        "outputId": "2c916f4f-3e12-4950-cb8b-baec5bcf1743"
      },
      "execution_count": null,
      "outputs": [
        {
          "output_type": "stream",
          "name": "stdout",
          "text": [
            "a\n",
            "To be or not to be is the question \n"
          ]
        }
      ]
    },
    {
      "cell_type": "code",
      "source": [
        "try :\n",
        "\n",
        "  a = ['1','a']\n",
        "  print (a[2])\n",
        "except IndexError as e:\n",
        "  #raise IndexError('Hey! It is a custom error message.')\n",
        "  print(e)\n",
        "finally  :\n",
        "  print('To be or not to be is the question ')\n"
      ],
      "metadata": {
        "colab": {
          "base_uri": "https://localhost:8080/"
        },
        "id": "Lpg9oU-KrKUQ",
        "outputId": "deafbbca-4a3c-4fc3-8fe2-051e25c71393"
      },
      "execution_count": null,
      "outputs": [
        {
          "output_type": "stream",
          "name": "stdout",
          "text": [
            "list index out of range\n",
            "To be or not to be is the question \n"
          ]
        }
      ]
    },
    {
      "cell_type": "code",
      "source": [
        "try:\n",
        "  raise NameError(\"Hey it's a custom error\")\n",
        "except NameError as e:\n",
        "                  print(e)"
      ],
      "metadata": {
        "colab": {
          "base_uri": "https://localhost:8080/"
        },
        "id": "ELRs0QHose0z",
        "outputId": "46e33a94-7e51-4d09-d93c-22452765c310"
      },
      "execution_count": null,
      "outputs": [
        {
          "output_type": "stream",
          "name": "stdout",
          "text": [
            "Hey it's a custom error\n"
          ]
        }
      ]
    },
    {
      "cell_type": "code",
      "source": [],
      "metadata": {
        "id": "zkr-S3PStASH"
      },
      "execution_count": null,
      "outputs": []
    },
    {
      "cell_type": "markdown",
      "source": [
        "# Day 11\n",
        "ক্লাস, অবজেক্ট এবং মেথড"
      ],
      "metadata": {
        "id": "w8Pd0pU_tFMk"
      }
    },
    {
      "cell_type": "code",
      "source": [
        "class A:\n",
        "  def __init__(self):\n",
        "    age = 10\n",
        "    print (age)\n",
        "obj = A()\n",
        "\n",
        "jbo = A()\n",
        "print (f\"the two object's values are {obj} and {jbo}\")\n"
      ],
      "metadata": {
        "colab": {
          "base_uri": "https://localhost:8080/"
        },
        "id": "YwBe05sxe3jb",
        "outputId": "3e1bd428-c636-4aad-855f-f421140a14bc"
      },
      "execution_count": null,
      "outputs": [
        {
          "output_type": "stream",
          "name": "stdout",
          "text": [
            "10\n",
            "10\n",
            "the two object's values are <__main__.A object at 0x7baf9d7ef010> and <__main__.A object at 0x7baf9d7ef4c0>\n"
          ]
        }
      ]
    },
    {
      "cell_type": "code",
      "source": [
        "class A:\n",
        "  def __init__(self,name,age,address):\n",
        "    print (name, \" \",age, \" \",address )\n",
        "obj = A('Ratul' ,10, 'Savar')\n",
        "obj2 = A('Mahir',5 ,'Savar')\n"
      ],
      "metadata": {
        "colab": {
          "base_uri": "https://localhost:8080/"
        },
        "id": "TJQ3KuDigdbs",
        "outputId": "8e0e53ee-49bc-4f2d-bab5-40811a00d816"
      },
      "execution_count": null,
      "outputs": [
        {
          "output_type": "stream",
          "name": "stdout",
          "text": [
            "Ratul   10   Savar\n",
            "Mahir   5   Savar\n"
          ]
        }
      ]
    },
    {
      "cell_type": "code",
      "source": [
        "class person():\n",
        "  name = 'RAtul'\n",
        "  occupation = 'Nothing'\n",
        "  salary =10000\n",
        "  def info(self):\n",
        "    print (f\"{self.name}  is a {self.occupation} who earns {self.salary} \")\n",
        "a = person()\n",
        "a.name = \"Mashrur\"\n",
        "a.info()\n",
        "\n",
        "\n"
      ],
      "metadata": {
        "colab": {
          "base_uri": "https://localhost:8080/"
        },
        "id": "48BWK9kbiP4M",
        "outputId": "f0741410-ed71-4225-b474-de61de831119"
      },
      "execution_count": null,
      "outputs": [
        {
          "output_type": "stream",
          "name": "stdout",
          "text": [
            "Mashrur  is a Nothing who earns 10000 \n"
          ]
        }
      ]
    }
  ]
}